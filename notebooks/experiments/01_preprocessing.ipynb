{
 "cells": [
  {
   "cell_type": "code",
   "execution_count": null,
   "metadata": {},
   "outputs": [],
   "source": [
    "import sys\n",
    "from pathlib import Path\n",
    "sys.path.append(str(Path.cwd().parent.parent))\n",
    "\n",
    "from src.utils.preprocessors import *\n",
    "from src.utils.utils_fn import load_features_names\n",
    "%load_ext autoreload\n",
    "%autoreload 2\n",
    "\n",
    "from sklearn.pipeline import Pipeline\n",
    "import polars as pl\n",
    "import joblib\n",
    "import json\n",
    "import warnings\n",
    "warnings.simplefilter('ignore')"
   ]
  },
  {
   "cell_type": "code",
   "execution_count": 3,
   "metadata": {},
   "outputs": [
    {
     "name": "stdout",
     "output_type": "stream",
     "text": [
      "1. Cargando el dataset...\n",
      "2. Inicio de Preprocesamiento\n",
      "3. ¡Preprocesamiento finalizado!\n"
     ]
    }
   ],
   "source": [
    "\"\"\"\n",
    "Clasificación de artículos nuevos/usados para MercadoLibre\n",
    "\"\"\"\n",
    "\n",
    "def build_dataset():\n",
    "    \"\"\"Carga y prepara los datos de entrenamiento y prueba\"\"\"\n",
    "    data_raw = [json.loads(line) for line in open('../../data/raw/MLA_100k_checked_v3.jsonlines')]\n",
    "    return data_raw\n",
    "\n",
    "if __name__ == '__main__':\n",
    "    \n",
    "    print('1. Cargando el dataset...')\n",
    "    data_raw = build_dataset()\n",
    "    \n",
    "    # 1. Cargar el archivo YAML\n",
    "    yaml_path = '../../config/features_names.yaml'\n",
    "    column_mapping = load_features_names(yaml_path)\n",
    "    \n",
    "    # 2. Ejecutar Pipeline de preprocesadores\n",
    "    print('2. Inicio de Preprocesamiento')\n",
    "    pipe = Pipeline([\n",
    "        ('raw_data', RawDataPreprocessor()),\n",
    "        ('rename_columns', ColumnsRenameTransformer()),\n",
    "        ('date_columns', DateColumnsTransformer(patterns=['time', 'date'])),\n",
    "        ('duplicated_columns', DropDuplicateColumnsTransformer()),\n",
    "        ('duplicated_rows', DropDuplicatedRowsTransformer()),\n",
    "        ('nan_values', FillMissingValuesTransformer()),\n",
    "        ('drop_columns', DropColumnsTransformer(0.2)),\n",
    "        ('unnecessary_columns', DropUnnecessaryColumnsTransformer()),\n",
    "        ('categorical_columns', CategoricalColumnsTransformer()),\n",
    "        ('numeric_columns', NumericColumnTransformer()),\n",
    "        ('aggreated_colummns', AggregatedColumnsTransformer(group_by_col='product_id', column_mapping=column_mapping))\n",
    "    ])\n",
    "    \n",
    "    # Aplicar la pipeline a los datos y materializar el resultado\n",
    "    data_processed: pl.DataFrame = pipe.fit_transform(data_raw).collect()\n",
    "    print('3. ¡Preprocesamiento finalizado!')"
   ]
  },
  {
   "cell_type": "code",
   "execution_count": 8,
   "metadata": {},
   "outputs": [
    {
     "data": {
      "text/plain": [
       "['/home/lynn/Documentos/Development/Scripts_and_Notebooks/Proyectos Profesionales/Pruebas técnicas/MELI/src/pipelines/pipeline_preprocessing.pkl']"
      ]
     },
     "execution_count": 8,
     "metadata": {},
     "output_type": "execute_result"
    }
   ],
   "source": [
    "# Definir la ruta absoluta para la carpeta de pipelines\n",
    "root_path = Path.cwd().resolve().parent.parent\n",
    "# Crear el directorio si no existe\n",
    "root_path.mkdir(parents=True, exist_ok=True)\n",
    "artifact = 'pipeline_preprocessing.pkl'\n",
    "\n",
    "# Exportamos el pipeline\n",
    "joblib.dump(pipe, str(root_path / 'src/pipelines' / artifact))"
   ]
  },
  {
   "cell_type": "code",
   "execution_count": 9,
   "metadata": {},
   "outputs": [],
   "source": [
    "# Exportamos los datos\n",
    "data_processed.write_parquet(str(root_path / 'data/processed/data_processed.parquet'))"
   ]
  }
 ],
 "metadata": {
  "kernelspec": {
   "display_name": "venv-meli-u7R8qZeO-py3.11",
   "language": "python",
   "name": "python3"
  },
  "language_info": {
   "codemirror_mode": {
    "name": "ipython",
    "version": 3
   },
   "file_extension": ".py",
   "mimetype": "text/x-python",
   "name": "python",
   "nbconvert_exporter": "python",
   "pygments_lexer": "ipython3",
   "version": "3.11.11"
  }
 },
 "nbformat": 4,
 "nbformat_minor": 2
}
