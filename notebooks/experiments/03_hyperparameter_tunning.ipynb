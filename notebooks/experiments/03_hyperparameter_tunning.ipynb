{
 "cells": [
  {
   "cell_type": "code",
   "execution_count": 1,
   "metadata": {},
   "outputs": [],
   "source": [
    "import sys\n",
    "from pathlib import Path\n",
    "sys.path.append(str(Path.cwd().parent.parent))\n",
    "\n",
    "from config.config import settings\n",
    "import pandas as pd\n",
    "import joblib\n",
    "import json\n",
    "import toml\n",
    "\n",
    "import warnings\n",
    "warnings.simplefilter('ignore')\n",
    "\n",
    "%load_ext autoreload\n",
    "%autoreload 2\n"
   ]
  },
  {
   "cell_type": "code",
   "execution_count": 2,
   "metadata": {},
   "outputs": [
    {
     "data": {
      "text/html": [
       "<div>\n",
       "<style scoped>\n",
       "    .dataframe tbody tr th:only-of-type {\n",
       "        vertical-align: middle;\n",
       "    }\n",
       "\n",
       "    .dataframe tbody tr th {\n",
       "        vertical-align: top;\n",
       "    }\n",
       "\n",
       "    .dataframe thead th {\n",
       "        text-align: right;\n",
       "    }\n",
       "</style>\n",
       "<table border=\"1\" class=\"dataframe\">\n",
       "  <thead>\n",
       "    <tr style=\"text-align: right;\">\n",
       "      <th></th>\n",
       "      <th>condition</th>\n",
       "      <th>state</th>\n",
       "      <th>city</th>\n",
       "      <th>local_pickup</th>\n",
       "      <th>free_shipping</th>\n",
       "      <th>shipping_mode</th>\n",
       "      <th>listing_type</th>\n",
       "      <th>buying_mode</th>\n",
       "      <th>attribute_group_id</th>\n",
       "      <th>attribute_group</th>\n",
       "      <th>...</th>\n",
       "      <th>status</th>\n",
       "      <th>accepts_mercadopago</th>\n",
       "      <th>currency</th>\n",
       "      <th>automatic_relist</th>\n",
       "      <th>title</th>\n",
       "      <th>stock_quantity</th>\n",
       "      <th>available_quantity</th>\n",
       "      <th>total_amount</th>\n",
       "      <th>date_difference_hr</th>\n",
       "      <th>time_difference_hr</th>\n",
       "    </tr>\n",
       "    <tr>\n",
       "      <th>product_id</th>\n",
       "      <th></th>\n",
       "      <th></th>\n",
       "      <th></th>\n",
       "      <th></th>\n",
       "      <th></th>\n",
       "      <th></th>\n",
       "      <th></th>\n",
       "      <th></th>\n",
       "      <th></th>\n",
       "      <th></th>\n",
       "      <th></th>\n",
       "      <th></th>\n",
       "      <th></th>\n",
       "      <th></th>\n",
       "      <th></th>\n",
       "      <th></th>\n",
       "      <th></th>\n",
       "      <th></th>\n",
       "      <th></th>\n",
       "      <th></th>\n",
       "      <th></th>\n",
       "    </tr>\n",
       "  </thead>\n",
       "  <tbody>\n",
       "    <tr>\n",
       "      <th>mla5501620002</th>\n",
       "      <td>used</td>\n",
       "      <td>capital federal</td>\n",
       "      <td>nuñez</td>\n",
       "      <td>True</td>\n",
       "      <td>False</td>\n",
       "      <td>not_specified</td>\n",
       "      <td>bronze</td>\n",
       "      <td>buy_it_now</td>\n",
       "      <td>None</td>\n",
       "      <td>None</td>\n",
       "      <td>...</td>\n",
       "      <td>active</td>\n",
       "      <td>True</td>\n",
       "      <td>ars</td>\n",
       "      <td>False</td>\n",
       "      <td>timbre inahalambrico</td>\n",
       "      <td>1</td>\n",
       "      <td>1</td>\n",
       "      <td>0.0</td>\n",
       "      <td>0.000833</td>\n",
       "      <td>1440.0</td>\n",
       "    </tr>\n",
       "    <tr>\n",
       "      <th>mla2357269269</th>\n",
       "      <td>used</td>\n",
       "      <td>buenos aires</td>\n",
       "      <td>avellaneda</td>\n",
       "      <td>True</td>\n",
       "      <td>False</td>\n",
       "      <td>not_specified</td>\n",
       "      <td>bronze</td>\n",
       "      <td>buy_it_now</td>\n",
       "      <td>dflt</td>\n",
       "      <td>otros</td>\n",
       "      <td>...</td>\n",
       "      <td>active</td>\n",
       "      <td>True</td>\n",
       "      <td>ars</td>\n",
       "      <td>False</td>\n",
       "      <td>lote de 2 cinturones. 1 nuevo con etiqueta.mic...</td>\n",
       "      <td>8</td>\n",
       "      <td>8</td>\n",
       "      <td>0.0</td>\n",
       "      <td>695.485278</td>\n",
       "      <td>1440.0</td>\n",
       "    </tr>\n",
       "    <tr>\n",
       "      <th>mla4505955642</th>\n",
       "      <td>used</td>\n",
       "      <td>buenos aires</td>\n",
       "      <td>acassuso</td>\n",
       "      <td>True</td>\n",
       "      <td>False</td>\n",
       "      <td>me2</td>\n",
       "      <td>bronze</td>\n",
       "      <td>buy_it_now</td>\n",
       "      <td>None</td>\n",
       "      <td>None</td>\n",
       "      <td>...</td>\n",
       "      <td>active</td>\n",
       "      <td>True</td>\n",
       "      <td>ars</td>\n",
       "      <td>False</td>\n",
       "      <td>revista instituto de historia del derecho rica...</td>\n",
       "      <td>3</td>\n",
       "      <td>3</td>\n",
       "      <td>0.0</td>\n",
       "      <td>0.000833</td>\n",
       "      <td>1440.0</td>\n",
       "    </tr>\n",
       "    <tr>\n",
       "      <th>mla7853937105</th>\n",
       "      <td>used</td>\n",
       "      <td>capital federal</td>\n",
       "      <td>retiro</td>\n",
       "      <td>True</td>\n",
       "      <td>False</td>\n",
       "      <td>not_specified</td>\n",
       "      <td>free</td>\n",
       "      <td>buy_it_now</td>\n",
       "      <td>None</td>\n",
       "      <td>None</td>\n",
       "      <td>...</td>\n",
       "      <td>active</td>\n",
       "      <td>True</td>\n",
       "      <td>ars</td>\n",
       "      <td>False</td>\n",
       "      <td>susan sontag - la enfermedad y sus metaforas -...</td>\n",
       "      <td>1</td>\n",
       "      <td>1</td>\n",
       "      <td>0.0</td>\n",
       "      <td>0.000833</td>\n",
       "      <td>1440.0</td>\n",
       "    </tr>\n",
       "    <tr>\n",
       "      <th>mla7813601724</th>\n",
       "      <td>new</td>\n",
       "      <td>capital federal</td>\n",
       "      <td>almagro</td>\n",
       "      <td>True</td>\n",
       "      <td>False</td>\n",
       "      <td>not_specified</td>\n",
       "      <td>silver</td>\n",
       "      <td>buy_it_now</td>\n",
       "      <td>None</td>\n",
       "      <td>None</td>\n",
       "      <td>...</td>\n",
       "      <td>active</td>\n",
       "      <td>True</td>\n",
       "      <td>ars</td>\n",
       "      <td>False</td>\n",
       "      <td>vendas cambric marca vendsur de 10cm x 3mt en ...</td>\n",
       "      <td>7</td>\n",
       "      <td>7</td>\n",
       "      <td>2010.0</td>\n",
       "      <td>0.000556</td>\n",
       "      <td>1440.0</td>\n",
       "    </tr>\n",
       "  </tbody>\n",
       "</table>\n",
       "<p>5 rows × 21 columns</p>\n",
       "</div>"
      ],
      "text/plain": [
       "              condition            state        city  local_pickup  \\\n",
       "product_id                                                           \n",
       "mla5501620002      used  capital federal       nuñez          True   \n",
       "mla2357269269      used     buenos aires  avellaneda          True   \n",
       "mla4505955642      used     buenos aires    acassuso          True   \n",
       "mla7853937105      used  capital federal      retiro          True   \n",
       "mla7813601724       new  capital federal     almagro          True   \n",
       "\n",
       "               free_shipping  shipping_mode listing_type buying_mode  \\\n",
       "product_id                                                             \n",
       "mla5501620002          False  not_specified       bronze  buy_it_now   \n",
       "mla2357269269          False  not_specified       bronze  buy_it_now   \n",
       "mla4505955642          False            me2       bronze  buy_it_now   \n",
       "mla7853937105          False  not_specified         free  buy_it_now   \n",
       "mla7813601724          False  not_specified       silver  buy_it_now   \n",
       "\n",
       "              attribute_group_id attribute_group  ...  status  \\\n",
       "product_id                                        ...           \n",
       "mla5501620002               None            None  ...  active   \n",
       "mla2357269269               dflt           otros  ...  active   \n",
       "mla4505955642               None            None  ...  active   \n",
       "mla7853937105               None            None  ...  active   \n",
       "mla7813601724               None            None  ...  active   \n",
       "\n",
       "              accepts_mercadopago  currency automatic_relist  \\\n",
       "product_id                                                     \n",
       "mla5501620002                True       ars            False   \n",
       "mla2357269269                True       ars            False   \n",
       "mla4505955642                True       ars            False   \n",
       "mla7853937105                True       ars            False   \n",
       "mla7813601724                True       ars            False   \n",
       "\n",
       "                                                           title  \\\n",
       "product_id                                                         \n",
       "mla5501620002                               timbre inahalambrico   \n",
       "mla2357269269  lote de 2 cinturones. 1 nuevo con etiqueta.mic...   \n",
       "mla4505955642  revista instituto de historia del derecho rica...   \n",
       "mla7853937105  susan sontag - la enfermedad y sus metaforas -...   \n",
       "mla7813601724  vendas cambric marca vendsur de 10cm x 3mt en ...   \n",
       "\n",
       "              stock_quantity  available_quantity  total_amount  \\\n",
       "product_id                                                       \n",
       "mla5501620002              1                   1           0.0   \n",
       "mla2357269269              8                   8           0.0   \n",
       "mla4505955642              3                   3           0.0   \n",
       "mla7853937105              1                   1           0.0   \n",
       "mla7813601724              7                   7        2010.0   \n",
       "\n",
       "               date_difference_hr  time_difference_hr  \n",
       "product_id                                             \n",
       "mla5501620002            0.000833              1440.0  \n",
       "mla2357269269          695.485278              1440.0  \n",
       "mla4505955642            0.000833              1440.0  \n",
       "mla7853937105            0.000833              1440.0  \n",
       "mla7813601724            0.000556              1440.0  \n",
       "\n",
       "[5 rows x 21 columns]"
      ]
     },
     "execution_count": 2,
     "metadata": {},
     "output_type": "execute_result"
    }
   ],
   "source": [
    "# Lectura del dataset\n",
    "data_path = settings.DATA_DIR / 'processed/data_processed.parquet'\n",
    "data = pd.read_parquet(path=str(data_path))\n",
    "\n",
    "# Setear los ids como índices\n",
    "data: pd.DataFrame = data.set_index('product_id')\n",
    "data.sample(5, random_state=10)"
   ]
  },
  {
   "cell_type": "code",
   "execution_count": 3,
   "metadata": {},
   "outputs": [],
   "source": [
    "\n",
    "\n",
    "# Separación de los conjuntos de datos\n",
    "# ===================================================================================================================\n",
    "from sklearn.model_selection import train_test_split\n",
    "\n",
    "# Inicializar una semilla\n",
    "SEED = 25\n",
    "\n",
    "# Separamos los features y el target\n",
    "X = data.loc[:, data.columns != 'condition'] # type: ignore\n",
    "y = data.loc[:, data.columns == 'condition'].squeeze() # type: ignore\n",
    "\n",
    "# Verificar que los índices coinciden\n",
    "assert (X.index == y.index).all(), 'Los índices de X e y no coinciden'\n",
    "\n",
    "# Dividir el conjunto original en 70% entrenamiento y 30% para pruebas y validación\n",
    "X_train, X_temp, y_train, y_temp = train_test_split(\n",
    "    X, \n",
    "    y, \n",
    "    test_size=0.4, \n",
    "    random_state=SEED, \n",
    "    stratify=y\n",
    ")\n",
    "\n",
    "# Luego, dividir el 30% restante en 20% para validación y 10% para pruebas\n",
    "X_val, X_test, y_val, y_test = train_test_split(\n",
    "    X_temp, y_temp, \n",
    "    test_size=1/2, \n",
    "    random_state=SEED, \n",
    "    stratify=y_temp\n",
    ")\n",
    "\n",
    "# Categóricas\n",
    "X_train['local_pickup'] = X_train['local_pickup'].astype('category')\n",
    "X_val['local_pickup'] = X_val['local_pickup'].astype('category')\n",
    "X_test['local_pickup'] = X_test['local_pickup'].astype('category')"
   ]
  },
  {
   "cell_type": "code",
   "execution_count": 4,
   "metadata": {},
   "outputs": [],
   "source": [
    "from sklearn.preprocessing import LabelEncoder\n",
    "\n",
    "# Codificación del target\n",
    "le = LabelEncoder()\n",
    "y_train = pd.Series(le.fit_transform(y_train), index=y_train.index)\n",
    "y_val = pd.Series(le.transform(y_val), index=y_val.index)\n",
    "y_test = pd.Series(le.transform(y_test), index=y_test.index)"
   ]
  },
  {
   "cell_type": "code",
   "execution_count": 5,
   "metadata": {},
   "outputs": [
    {
     "name": "stdout",
     "output_type": "stream",
     "text": [
      "{'memory': None, 'steps': [('feature_selection', Pipeline(steps=[('drop-features',\n",
      "                 DropFeatures(features_to_drop=['attribute_group_id',\n",
      "                                                'attribute_group',\n",
      "                                                'attribute_id', 'title',\n",
      "                                                'city'])),\n",
      "                ('constant-features',\n",
      "                 DropConstantFeatures(missing_values='ignore', tol=0.95,\n",
      "                                      variables=['stock_quantity',\n",
      "                                                 'available_quantity',\n",
      "                                                 'total_amount',\n",
      "                                                 'date_difference_hr',\n",
      "                                                 'time_difference_hr', 'state',\n",
      "                                                 'local_pickup',\n",
      "                                                 'free_ship...\n",
      "                                                 'listing_type', 'buying_mode',\n",
      "                                                 'status',\n",
      "                                                 'accepts_mercadopago',\n",
      "                                                 'currency',\n",
      "                                                 'automatic_relist'])),\n",
      "                ('match-features', MatchVariables(missing_values='ignore')),\n",
      "                ('correlated-features',\n",
      "                 DropCorrelatedFeatures(variables=['stock_quantity',\n",
      "                                                   'available_quantity',\n",
      "                                                   'total_amount',\n",
      "                                                   'date_difference_hr',\n",
      "                                                   'time_difference_hr'])),\n",
      "                ('match-categories', MatchCategories(missing_values='ignore'))])), ('feature_engineering', Pipeline(steps=[('imputer',\n",
      "                 RandomSampleImputer(random_state=25, variables=['state'])),\n",
      "                ('rare_high',\n",
      "                 RareLabelEncoder(n_categories=4,\n",
      "                                  variables=['state', 'listing_type'])),\n",
      "                ('rare_low',\n",
      "                 RareLabelEncoder(n_categories=2, variables=['shipping_mode'])),\n",
      "                ('discretiser',\n",
      "                 GeometricWidthDiscretiser(bins=8, return_object=True,\n",
      "                                           variables=['available_quantity',\n",
      "                                                      'total_amount',\n",
      "                                                      'date_difference_hr',\n",
      "                                                      'time_difference_hr'])),\n",
      "                ('encoder',\n",
      "                 OrdinalEncoder(variables=['available_quantity', 'total_amount',\n",
      "                                           'date_difference_hr',\n",
      "                                           'time_difference_hr', 'state',\n",
      "                                           'local_pickup', 'shipping_mode',\n",
      "                                           'listing_type']))]))], 'transform_input': None, 'verbose': False, 'feature_selection': Pipeline(steps=[('drop-features',\n",
      "                 DropFeatures(features_to_drop=['attribute_group_id',\n",
      "                                                'attribute_group',\n",
      "                                                'attribute_id', 'title',\n",
      "                                                'city'])),\n",
      "                ('constant-features',\n",
      "                 DropConstantFeatures(missing_values='ignore', tol=0.95,\n",
      "                                      variables=['stock_quantity',\n",
      "                                                 'available_quantity',\n",
      "                                                 'total_amount',\n",
      "                                                 'date_difference_hr',\n",
      "                                                 'time_difference_hr', 'state',\n",
      "                                                 'local_pickup',\n",
      "                                                 'free_ship...\n",
      "                                                 'listing_type', 'buying_mode',\n",
      "                                                 'status',\n",
      "                                                 'accepts_mercadopago',\n",
      "                                                 'currency',\n",
      "                                                 'automatic_relist'])),\n",
      "                ('match-features', MatchVariables(missing_values='ignore')),\n",
      "                ('correlated-features',\n",
      "                 DropCorrelatedFeatures(variables=['stock_quantity',\n",
      "                                                   'available_quantity',\n",
      "                                                   'total_amount',\n",
      "                                                   'date_difference_hr',\n",
      "                                                   'time_difference_hr'])),\n",
      "                ('match-categories', MatchCategories(missing_values='ignore'))]), 'feature_engineering': Pipeline(steps=[('imputer',\n",
      "                 RandomSampleImputer(random_state=25, variables=['state'])),\n",
      "                ('rare_high',\n",
      "                 RareLabelEncoder(n_categories=4,\n",
      "                                  variables=['state', 'listing_type'])),\n",
      "                ('rare_low',\n",
      "                 RareLabelEncoder(n_categories=2, variables=['shipping_mode'])),\n",
      "                ('discretiser',\n",
      "                 GeometricWidthDiscretiser(bins=8, return_object=True,\n",
      "                                           variables=['available_quantity',\n",
      "                                                      'total_amount',\n",
      "                                                      'date_difference_hr',\n",
      "                                                      'time_difference_hr'])),\n",
      "                ('encoder',\n",
      "                 OrdinalEncoder(variables=['available_quantity', 'total_amount',\n",
      "                                           'date_difference_hr',\n",
      "                                           'time_difference_hr', 'state',\n",
      "                                           'local_pickup', 'shipping_mode',\n",
      "                                           'listing_type']))]), 'feature_selection__memory': None, 'feature_selection__steps': [('drop-features', DropFeatures(features_to_drop=['attribute_group_id', 'attribute_group',\n",
      "                               'attribute_id', 'title', 'city'])), ('constant-features', DropConstantFeatures(missing_values='ignore', tol=0.95,\n",
      "                     variables=['stock_quantity', 'available_quantity',\n",
      "                                'total_amount', 'date_difference_hr',\n",
      "                                'time_difference_hr', 'state', 'local_pickup',\n",
      "                                'free_shipping', 'shipping_mode',\n",
      "                                'listing_type', 'buying_mode', 'status',\n",
      "                                'accepts_mercadopago', 'currency',\n",
      "                                'automatic_relist'])), ('match-features', MatchVariables(missing_values='ignore')), ('correlated-features', DropCorrelatedFeatures(variables=['stock_quantity', 'available_quantity',\n",
      "                                  'total_amount', 'date_difference_hr',\n",
      "                                  'time_difference_hr'])), ('match-categories', MatchCategories(missing_values='ignore'))], 'feature_selection__transform_input': None, 'feature_selection__verbose': False, 'feature_selection__drop-features': DropFeatures(features_to_drop=['attribute_group_id', 'attribute_group',\n",
      "                               'attribute_id', 'title', 'city']), 'feature_selection__constant-features': DropConstantFeatures(missing_values='ignore', tol=0.95,\n",
      "                     variables=['stock_quantity', 'available_quantity',\n",
      "                                'total_amount', 'date_difference_hr',\n",
      "                                'time_difference_hr', 'state', 'local_pickup',\n",
      "                                'free_shipping', 'shipping_mode',\n",
      "                                'listing_type', 'buying_mode', 'status',\n",
      "                                'accepts_mercadopago', 'currency',\n",
      "                                'automatic_relist']), 'feature_selection__match-features': MatchVariables(missing_values='ignore'), 'feature_selection__correlated-features': DropCorrelatedFeatures(variables=['stock_quantity', 'available_quantity',\n",
      "                                  'total_amount', 'date_difference_hr',\n",
      "                                  'time_difference_hr']), 'feature_selection__match-categories': MatchCategories(missing_values='ignore'), 'feature_selection__drop-features__features_to_drop': ['attribute_group_id', 'attribute_group', 'attribute_id', 'title', 'city'], 'feature_selection__constant-features__confirm_variables': False, 'feature_selection__constant-features__missing_values': 'ignore', 'feature_selection__constant-features__tol': 0.95, 'feature_selection__constant-features__variables': ['stock_quantity', 'available_quantity', 'total_amount', 'date_difference_hr', 'time_difference_hr', 'state', 'local_pickup', 'free_shipping', 'shipping_mode', 'listing_type', 'buying_mode', 'status', 'accepts_mercadopago', 'currency', 'automatic_relist'], 'feature_selection__match-features__fill_value': nan, 'feature_selection__match-features__match_dtypes': False, 'feature_selection__match-features__missing_values': 'ignore', 'feature_selection__match-features__verbose': True, 'feature_selection__correlated-features__confirm_variables': False, 'feature_selection__correlated-features__method': 'pearson', 'feature_selection__correlated-features__missing_values': 'ignore', 'feature_selection__correlated-features__threshold': 0.8, 'feature_selection__correlated-features__variables': ['stock_quantity', 'available_quantity', 'total_amount', 'date_difference_hr', 'time_difference_hr'], 'feature_selection__match-categories__ignore_format': False, 'feature_selection__match-categories__missing_values': 'ignore', 'feature_selection__match-categories__variables': None, 'feature_engineering__memory': None, 'feature_engineering__steps': [('imputer', RandomSampleImputer(random_state=25, variables=['state'])), ('rare_high', RareLabelEncoder(n_categories=4, variables=['state', 'listing_type'])), ('rare_low', RareLabelEncoder(n_categories=2, variables=['shipping_mode'])), ('discretiser', GeometricWidthDiscretiser(bins=8, return_object=True,\n",
      "                          variables=['available_quantity', 'total_amount',\n",
      "                                     'date_difference_hr',\n",
      "                                     'time_difference_hr'])), ('encoder', OrdinalEncoder(variables=['available_quantity', 'total_amount',\n",
      "                          'date_difference_hr', 'time_difference_hr', 'state',\n",
      "                          'local_pickup', 'shipping_mode', 'listing_type']))], 'feature_engineering__transform_input': None, 'feature_engineering__verbose': False, 'feature_engineering__imputer': RandomSampleImputer(random_state=25, variables=['state']), 'feature_engineering__rare_high': RareLabelEncoder(n_categories=4, variables=['state', 'listing_type']), 'feature_engineering__rare_low': RareLabelEncoder(n_categories=2, variables=['shipping_mode']), 'feature_engineering__discretiser': GeometricWidthDiscretiser(bins=8, return_object=True,\n",
      "                          variables=['available_quantity', 'total_amount',\n",
      "                                     'date_difference_hr',\n",
      "                                     'time_difference_hr']), 'feature_engineering__encoder': OrdinalEncoder(variables=['available_quantity', 'total_amount',\n",
      "                          'date_difference_hr', 'time_difference_hr', 'state',\n",
      "                          'local_pickup', 'shipping_mode', 'listing_type']), 'feature_engineering__imputer__random_state': 25, 'feature_engineering__imputer__seed': 'general', 'feature_engineering__imputer__seeding_method': 'add', 'feature_engineering__imputer__variables': ['state'], 'feature_engineering__rare_high__ignore_format': False, 'feature_engineering__rare_high__max_n_categories': None, 'feature_engineering__rare_high__missing_values': 'raise', 'feature_engineering__rare_high__n_categories': 4, 'feature_engineering__rare_high__replace_with': 'Rare', 'feature_engineering__rare_high__tol': 0.05, 'feature_engineering__rare_high__variables': ['state', 'listing_type'], 'feature_engineering__rare_low__ignore_format': False, 'feature_engineering__rare_low__max_n_categories': None, 'feature_engineering__rare_low__missing_values': 'raise', 'feature_engineering__rare_low__n_categories': 2, 'feature_engineering__rare_low__replace_with': 'Rare', 'feature_engineering__rare_low__tol': 0.05, 'feature_engineering__rare_low__variables': ['shipping_mode'], 'feature_engineering__discretiser__bins': 8, 'feature_engineering__discretiser__precision': 7, 'feature_engineering__discretiser__return_boundaries': False, 'feature_engineering__discretiser__return_object': True, 'feature_engineering__discretiser__variables': ['available_quantity', 'total_amount', 'date_difference_hr', 'time_difference_hr'], 'feature_engineering__encoder__encoding_method': 'ordered', 'feature_engineering__encoder__ignore_format': False, 'feature_engineering__encoder__missing_values': 'raise', 'feature_engineering__encoder__unseen': 'ignore', 'feature_engineering__encoder__variables': ['available_quantity', 'total_amount', 'date_difference_hr', 'time_difference_hr', 'state', 'local_pickup', 'shipping_mode', 'listing_type']}\n"
     ]
    }
   ],
   "source": [
    "from sklearn.pipeline import Pipeline\n",
    "\n",
    "# Pipeline de procesamiento\n",
    "pipe_feature_selection = joblib.load(f'{settings.ART_DIR}/pipelines/pipeline_feature_selection.pkl')\n",
    "pipe_feature_engineering = joblib.load(f'{settings.ART_DIR}/pipelines/pipeline_feature_engineering.pkl')\n",
    "pipe = Pipeline([\n",
    "    ('feature_selection', pipe_feature_selection),\n",
    "    ('feature_engineering', pipe_feature_engineering)\n",
    "])\n",
    "\n",
    "print(pipe.get_params())"
   ]
  },
  {
   "cell_type": "code",
   "execution_count": 6,
   "metadata": {},
   "outputs": [],
   "source": [
    "# Ejecución\n",
    "pipe.fit(X_train, y_train)\n",
    "X_train = pipe.transform(X_train)\n",
    "X_val = pipe.transform(X_val)\n",
    "X_test = pipe.transform(X_test)"
   ]
  },
  {
   "cell_type": "code",
   "execution_count": 7,
   "metadata": {},
   "outputs": [],
   "source": [
    "import optuna\n",
    "import mlflow\n",
    "import mlflow.xgboost\n",
    "import xgboost as xgb\n",
    "import numpy as np\n",
    "import plotly.graph_objects as go\n",
    "from optuna.integration.mlflow import MLflowCallback"
   ]
  },
  {
   "cell_type": "code",
   "execution_count": 8,
   "metadata": {},
   "outputs": [],
   "source": [
    "# --- Función para evaluar las métricas de xgb.cv ---\n",
    "def eval_performance_metrics(cv_results: pd.DataFrame) -> tuple[int, float, float]:\n",
    "    \"\"\"\n",
    "    Retorna:\n",
    "      - best_iteration: número de iteración óptima según 'validation-auc'.\n",
    "      - best_roc_auc: mejor AUC obtenido en validación.\n",
    "      - best_logloss: log-loss en esa iteración.\n",
    "    \"\"\"\n",
    "    best_iteration = int(cv_results['validation-auc-mean'].idxmax())\n",
    "    best_roc_auc = float(cv_results.loc[best_iteration, 'validation-auc-mean'])\n",
    "    best_logloss = float(cv_results.loc[best_iteration, 'validation-logloss-mean'])\n",
    "    return best_iteration, best_roc_auc, best_logloss"
   ]
  },
  {
   "cell_type": "code",
   "execution_count": 9,
   "metadata": {},
   "outputs": [],
   "source": [
    "# ---------------------------\n",
    "# Función para ejecutar xgb.cv usando la API nativa (con GPU)\n",
    "# ---------------------------\n",
    "def run_experiment(\n",
    "    X_train: pd.DataFrame,\n",
    "    y_train: pd.Series,\n",
    "    params: dict,\n",
    "    num_boost_round: int,\n",
    "    nfold: int,\n",
    "    early_stopping_rounds: int = None\n",
    ") -> pd.DataFrame:\n",
    "    \n",
    "    # Vector de pesos basado en la frecuencia de cada clase\n",
    "    weight_dict = y_train.value_counts(normalize=True).to_dict()\n",
    "    sample_weight = np.array([weight_dict[val] for val in y_train])\n",
    "    \n",
    "    dtrain_cv = xgb.DMatrix(\n",
    "        data=X_train,\n",
    "        label=y_train,\n",
    "        weight=sample_weight,\n",
    "        device='cuda'  # Usa 'gpu' para activar GPU (en XGBoost 2.1.4)\n",
    "    )\n",
    "    \n",
    "    cv_results = xgb.cv(\n",
    "        params=params,\n",
    "        dtrain=dtrain_cv,\n",
    "        num_boost_round=num_boost_round,\n",
    "        nfold=nfold,\n",
    "        stratified=True,\n",
    "        early_stopping_rounds=early_stopping_rounds,\n",
    "        metrics=['auc', 'logloss'],\n",
    "        seed=params.get('seed', SEED),\n",
    "        verbose_eval=False\n",
    "    )\n",
    "    return cv_results"
   ]
  },
  {
   "cell_type": "code",
   "execution_count": 10,
   "metadata": {},
   "outputs": [],
   "source": [
    "# Definición de parámetros fijos para el entrenamiento\n",
    "num_boost_round = 1000\n",
    "early_stopping_rounds = 25\n",
    "default_params = toml.load(str(settings.CONFIG_DIR / 'config.toml'))['xgb-default-params']\n",
    "SEED = 25"
   ]
  },
  {
   "cell_type": "code",
   "execution_count": 11,
   "metadata": {},
   "outputs": [],
   "source": [
    "from xgboost.callback import LearningRateScheduler\n",
    "\n",
    "def lr_scheduler(current_round: int, booster: xgb.Booster = None) -> float:\n",
    "    base_lr = params.get('learning_rate', 0.01)\n",
    "    if current_round < 100:\n",
    "        return base_lr\n",
    "    elif current_round < 300:\n",
    "        return base_lr * 0.5\n",
    "    else:\n",
    "        return base_lr * 0.1"
   ]
  },
  {
   "cell_type": "code",
   "execution_count": null,
   "metadata": {},
   "outputs": [],
   "source": [
    "# --- Función objetivo para Optuna ---\n",
    "def objective(trial: optuna.Trial) -> float:\n",
    "    # Sugerir hiperparámetros a tunear\n",
    "    global params\n",
    "    params = default_params.copy()\n",
    "    params['max_depth'] = trial.suggest_int('max_depth', 3, 10)\n",
    "    params['learning_rate'] = trial.suggest_loguniform('learning_rate', 0.001, 0.3)\n",
    "    params['min_child_weight'] = trial.suggest_int('min_child_weight', 1, 10)\n",
    "    params['subsample'] = trial.suggest_uniform('subsample', 0.5, 1.0)\n",
    "    params['colsample_bytree'] = trial.suggest_uniform('colsample_bytree', 0.5, 1.0)\n",
    "    params['reg_alpha'] = trial.suggest_loguniform('reg_alpha', 1e-8, 10.0)\n",
    "    params['reg_lambda'] = trial.suggest_loguniform('reg_lambda', 1e-8, 10.0)\n",
    "    \n",
    "    # Crear DMatrix para entrenamiento y validación\n",
    "    dtrain = xgb.DMatrix(X_train, label=y_train)\n",
    "    dval = xgb.DMatrix(X_val, label=y_val)\n",
    "    evals = [(dtrain, 'train'), (dval, 'validation')]\n",
    "    callbacks = [LearningRateScheduler(lr_scheduler)]\n",
    "    \n",
    "    evals_result = {}\n",
    "    # Entrenar modelo con early stopping\n",
    "    booster = xgb.train(\n",
    "        params,\n",
    "        dtrain,\n",
    "        num_boost_round=num_boost_round,\n",
    "        evals=evals,\n",
    "        early_stopping_rounds=early_stopping_rounds,\n",
    "        callbacks=callbacks,\n",
    "        evals_result=evals_result,\n",
    "        verbose_eval=False\n",
    "    )\n",
    "    # La métrica que se optimiza es la AUC de validación\n",
    "    best_iteration, best_roc_auc, best_logloss = eval_performance_metrics(\n",
    "        pd.DataFrame({\n",
    "            'train-auc-mean': evals_result['train']['auc'],\n",
    "            'train-logloss-mean': evals_result['train']['logloss'],\n",
    "            'validation-auc-mean': evals_result['validation']['auc'],\n",
    "            'validation-logloss-mean': evals_result['validation']['logloss']\n",
    "        })\n",
    "    )\n",
    "    trial.set_user_attr('best_iteration', best_iteration)\n",
    "    trial.set_user_attr('best_roc_auc', best_roc_auc)\n",
    "    \n",
    "    return best_roc_auc\n"
   ]
  },
  {
   "cell_type": "code",
   "execution_count": 14,
   "metadata": {},
   "outputs": [
    {
     "name": "stderr",
     "output_type": "stream",
     "text": [
      "[I 2025-02-13 21:19:46,520] A new study created in memory with name: no-name-8ba5ff3f-3a4d-4a5e-9f14-a1008e6fa296\n"
     ]
    },
    {
     "data": {
      "application/vnd.jupyter.widget-view+json": {
       "model_id": "6fd752658f6a455ea4556eb4cc6d31e1",
       "version_major": 2,
       "version_minor": 0
      },
      "text/plain": [
       "  0%|          | 0/50 [00:00<?, ?it/s]"
      ]
     },
     "metadata": {},
     "output_type": "display_data"
    },
    {
     "name": "stdout",
     "output_type": "stream",
     "text": [
      "[I 2025-02-13 21:19:55,891] Trial 8 finished with value: 0.8720666747663489 and parameters: {'max_depth': 6, 'learning_rate': 0.09945811829216437, 'min_child_weight': 3, 'subsample': 0.9603898382520749, 'colsample_bytree': 0.7536836580146604, 'reg_alpha': 0.09884773595219716, 'reg_lambda': 0.0065655223184726995}. Best is trial 8 with value: 0.8720666747663489.\n",
      "[I 2025-02-13 21:19:55,915] Trial 7 finished with value: 0.8720666747663489 and parameters: {'max_depth': 6, 'learning_rate': 0.054582465297348864, 'min_child_weight': 2, 'subsample': 0.9895587339068495, 'colsample_bytree': 0.8258376219310615, 'reg_alpha': 3.083037765163854, 'reg_lambda': 6.310367657809426e-06}. Best is trial 8 with value: 0.8720666747663489.\n",
      "[I 2025-02-13 21:19:55,977] Trial 10 finished with value: 0.8720666747663489 and parameters: {'max_depth': 6, 'learning_rate': 0.0018568972936553099, 'min_child_weight': 7, 'subsample': 0.6421332041539702, 'colsample_bytree': 0.984626284882188, 'reg_alpha': 8.665981356894395, 'reg_lambda': 4.111889024008711e-05}. Best is trial 8 with value: 0.8720666747663489.\n",
      "[I 2025-02-13 21:19:55,987] Trial 16 finished with value: 0.8720666747663489 and parameters: {'max_depth': 5, 'learning_rate': 0.10161097166551197, 'min_child_weight': 8, 'subsample': 0.8668052292267256, 'colsample_bytree': 0.6917721863143207, 'reg_alpha': 1.0810036841876125e-08, 'reg_lambda': 0.6722401292046853}. Best is trial 8 with value: 0.8720666747663489.\n",
      "[I 2025-02-13 21:19:55,989] Trial 15 finished with value: 0.8720666747663489 and parameters: {'max_depth': 3, 'learning_rate': 0.1277791612316929, 'min_child_weight': 4, 'subsample': 0.7013079795114523, 'colsample_bytree': 0.5525413711355964, 'reg_alpha': 0.01618922439377284, 'reg_lambda': 0.016640277020945362}. Best is trial 8 with value: 0.8720666747663489.\n",
      "[I 2025-02-13 21:19:56,013] Trial 11 finished with value: 0.8720666747663489 and parameters: {'max_depth': 4, 'learning_rate': 0.009851355883507565, 'min_child_weight': 10, 'subsample': 0.7374679050159193, 'colsample_bytree': 0.6895672227217808, 'reg_alpha': 2.113552682439246, 'reg_lambda': 2.7973062893192786}. Best is trial 8 with value: 0.8720666747663489.\n",
      "[I 2025-02-13 21:19:56,014] Trial 17 finished with value: 0.8720666747663489 and parameters: {'max_depth': 10, 'learning_rate': 0.12595320947065772, 'min_child_weight': 9, 'subsample': 0.5000032456353495, 'colsample_bytree': 0.8937757789674543, 'reg_alpha': 1.0314767778115115, 'reg_lambda': 0.022577831003499787}. Best is trial 8 with value: 0.8720666747663489.\n",
      "[I 2025-02-13 21:19:56,016] Trial 2 finished with value: 0.8720666747663489 and parameters: {'max_depth': 9, 'learning_rate': 0.0013031396048607175, 'min_child_weight': 6, 'subsample': 0.6517742130697184, 'colsample_bytree': 0.6727968831893799, 'reg_alpha': 1.3860832187680161e-08, 'reg_lambda': 4.124878854185865e-06}. Best is trial 8 with value: 0.8720666747663489.\n",
      "[I 2025-02-13 21:19:56,044] Trial 3 finished with value: 0.8720666747663489 and parameters: {'max_depth': 7, 'learning_rate': 0.217287751457708, 'min_child_weight': 10, 'subsample': 0.7798229251530155, 'colsample_bytree': 0.7566043643511744, 'reg_alpha': 0.0006610832007621106, 'reg_lambda': 0.08734500163342188}. Best is trial 8 with value: 0.8720666747663489.\n",
      "[I 2025-02-13 21:19:56,048] Trial 0 finished with value: 0.8720666747663489 and parameters: {'max_depth': 3, 'learning_rate': 0.01816031752501591, 'min_child_weight': 7, 'subsample': 0.653890449887764, 'colsample_bytree': 0.5190623661231326, 'reg_alpha': 0.08869068438572629, 'reg_lambda': 1.3597535935013288e-05}. Best is trial 8 with value: 0.8720666747663489.\n",
      "[I 2025-02-13 21:19:56,049] Trial 22 finished with value: 0.8720666747663489 and parameters: {'max_depth': 6, 'learning_rate': 0.25422266740082894, 'min_child_weight': 7, 'subsample': 0.8961705589299578, 'colsample_bytree': 0.9625600196858726, 'reg_alpha': 3.0502707268020535, 'reg_lambda': 1.118698030123774e-06}. Best is trial 8 with value: 0.8720666747663489.\n",
      "[I 2025-02-13 21:19:56,051] Trial 4 finished with value: 0.8720666747663489 and parameters: {'max_depth': 8, 'learning_rate': 0.2887621014447423, 'min_child_weight': 3, 'subsample': 0.6474137473434673, 'colsample_bytree': 0.9643118492739906, 'reg_alpha': 6.321409881428367e-05, 'reg_lambda': 2.0789284934129557}. Best is trial 8 with value: 0.8720666747663489.\n",
      "[I 2025-02-13 21:19:56,053] Trial 6 finished with value: 0.8720666747663489 and parameters: {'max_depth': 3, 'learning_rate': 0.20181717407663086, 'min_child_weight': 2, 'subsample': 0.5514248407656854, 'colsample_bytree': 0.591801543095191, 'reg_alpha': 1.5075764172657795e-05, 'reg_lambda': 1.000936142411016e-08}. Best is trial 8 with value: 0.8720666747663489.\n",
      "[I 2025-02-13 21:19:56,074] Trial 5 finished with value: 0.8720666747663489 and parameters: {'max_depth': 8, 'learning_rate': 0.0014411055294708372, 'min_child_weight': 1, 'subsample': 0.7752850091937649, 'colsample_bytree': 0.7085699357262676, 'reg_alpha': 0.000509579947556274, 'reg_lambda': 1.3768878544459189}. Best is trial 8 with value: 0.8720666747663489.\n",
      "[I 2025-02-13 21:19:56,124] Trial 13 finished with value: 0.8720666747663489 and parameters: {'max_depth': 4, 'learning_rate': 0.007726683334410336, 'min_child_weight': 2, 'subsample': 0.7092947668423718, 'colsample_bytree': 0.6353768486105793, 'reg_alpha': 1.1193618331581583e-05, 'reg_lambda': 1.3426741899195347}. Best is trial 8 with value: 0.8720666747663489.\n",
      "[I 2025-02-13 21:19:56,139] Trial 20 finished with value: 0.8720666747663489 and parameters: {'max_depth': 3, 'learning_rate': 0.0016931466724414168, 'min_child_weight': 4, 'subsample': 0.9191755740888518, 'colsample_bytree': 0.6851083593055952, 'reg_alpha': 0.6112385154622899, 'reg_lambda': 1.3813968460466647e-07}. Best is trial 8 with value: 0.8720666747663489.\n",
      "[I 2025-02-13 21:19:56,150] Trial 12 finished with value: 0.8720666747663489 and parameters: {'max_depth': 5, 'learning_rate': 0.03124751297697997, 'min_child_weight': 5, 'subsample': 0.9498180143765287, 'colsample_bytree': 0.9585528173321556, 'reg_alpha': 1.0444134192456001e-06, 'reg_lambda': 0.00025040076776470756}. Best is trial 8 with value: 0.8720666747663489.\n",
      "[I 2025-02-13 21:19:56,154] Trial 23 finished with value: 0.8720666747663489 and parameters: {'max_depth': 5, 'learning_rate': 0.17494127920482955, 'min_child_weight': 2, 'subsample': 0.9655396544673152, 'colsample_bytree': 0.8143897537828698, 'reg_alpha': 3.5076503690502527e-07, 'reg_lambda': 3.1757979060149863}. Best is trial 8 with value: 0.8720666747663489.\n",
      "[I 2025-02-13 21:19:56,160] Trial 21 finished with value: 0.8720666747663489 and parameters: {'max_depth': 9, 'learning_rate': 0.011205609542715487, 'min_child_weight': 10, 'subsample': 0.6960504726883324, 'colsample_bytree': 0.6431147900576113, 'reg_alpha': 0.06734690219234665, 'reg_lambda': 2.4617876806799686}. Best is trial 8 with value: 0.8720666747663489.\n",
      "[I 2025-02-13 21:19:56,177] Trial 14 finished with value: 0.8720666747663489 and parameters: {'max_depth': 6, 'learning_rate': 0.002270162745598919, 'min_child_weight': 8, 'subsample': 0.968726684033149, 'colsample_bytree': 0.8550932966775839, 'reg_alpha': 0.6408135865622159, 'reg_lambda': 0.002992907137719713}. Best is trial 8 with value: 0.8720666747663489.\n",
      "[I 2025-02-13 21:19:56,178] Trial 19 finished with value: 0.8720666747663489 and parameters: {'max_depth': 9, 'learning_rate': 0.13301474443557926, 'min_child_weight': 2, 'subsample': 0.9606863923234614, 'colsample_bytree': 0.6387941766637163, 'reg_alpha': 2.0923920852836793e-05, 'reg_lambda': 1.831711364950251e-07}. Best is trial 8 with value: 0.8720666747663489.\n",
      "[I 2025-02-13 21:19:56,203] Trial 18 finished with value: 0.8720666747663489 and parameters: {'max_depth': 5, 'learning_rate': 0.10464482039638372, 'min_child_weight': 7, 'subsample': 0.8800521752368837, 'colsample_bytree': 0.934478151735058, 'reg_alpha': 0.00015631967697394124, 'reg_lambda': 1.4651019148181357}. Best is trial 8 with value: 0.8720666747663489.\n",
      "[I 2025-02-13 21:19:56,242] Trial 9 finished with value: 0.8720666747663489 and parameters: {'max_depth': 3, 'learning_rate': 0.09070109019276663, 'min_child_weight': 3, 'subsample': 0.5691363227612702, 'colsample_bytree': 0.7855942042556744, 'reg_alpha': 4.057251575046551e-08, 'reg_lambda': 3.5760470646765915e-06}. Best is trial 8 with value: 0.8720666747663489.\n",
      "[I 2025-02-13 21:19:56,245] Trial 1 finished with value: 0.8720666747663489 and parameters: {'max_depth': 6, 'learning_rate': 0.010254605564709618, 'min_child_weight': 7, 'subsample': 0.6718469135915588, 'colsample_bytree': 0.9223134760884324, 'reg_alpha': 0.06459903913623644, 'reg_lambda': 4.5896897741465866e-07}. Best is trial 8 with value: 0.8720666747663489.\n",
      "[I 2025-02-13 21:20:28,713] Trial 24 finished with value: 0.8544096690776949 and parameters: {'max_depth': 3, 'learning_rate': 0.006763609634752672, 'min_child_weight': 10, 'subsample': 0.6233584590752662, 'colsample_bytree': 0.7763273325618332, 'reg_alpha': 0.0010004212478279353, 'reg_lambda': 2.342427089388004e-08}. Best is trial 8 with value: 0.8720666747663489.\n",
      "[I 2025-02-13 21:20:32,482] Trial 28 finished with value: 0.8591268490197398 and parameters: {'max_depth': 4, 'learning_rate': 0.05273864628403268, 'min_child_weight': 5, 'subsample': 0.8040869100403294, 'colsample_bytree': 0.5190381994851019, 'reg_alpha': 6.266681178745942e-08, 'reg_lambda': 0.020931457583615393}. Best is trial 8 with value: 0.8720666747663489.\n",
      "[I 2025-02-13 21:20:32,842] Trial 27 finished with value: 0.8601532378630802 and parameters: {'max_depth': 4, 'learning_rate': 0.00132649663730807, 'min_child_weight': 1, 'subsample': 0.9621184471205615, 'colsample_bytree': 0.8090478156747424, 'reg_alpha': 1.0060736237171521, 'reg_lambda': 1.5100864307928028}. Best is trial 8 with value: 0.8720666747663489.\n",
      "[I 2025-02-13 21:20:47,328] Trial 26 finished with value: 0.8680678010787622 and parameters: {'max_depth': 6, 'learning_rate': 0.005171124366590538, 'min_child_weight': 7, 'subsample': 0.841773868649502, 'colsample_bytree': 0.8636005361444532, 'reg_alpha': 2.3215077339342605e-06, 'reg_lambda': 0.00387326468017771}. Best is trial 8 with value: 0.8720666747663489.\n",
      "[I 2025-02-13 21:21:01,613] Trial 25 finished with value: 0.8689192935045587 and parameters: {'max_depth': 7, 'learning_rate': 0.0015062923724845263, 'min_child_weight': 1, 'subsample': 0.8212932969828979, 'colsample_bytree': 0.6392136791013047, 'reg_alpha': 8.806063649688166e-05, 'reg_lambda': 0.013977891064130325}. Best is trial 8 with value: 0.8720666747663489.\n",
      "[I 2025-02-13 21:21:01,687] Trial 37 finished with value: 0.8665752631499182 and parameters: {'max_depth': 8, 'learning_rate': 0.004143406862252441, 'min_child_weight': 6, 'subsample': 0.8094633175157692, 'colsample_bytree': 0.5054553843952776, 'reg_alpha': 0.003973616968604164, 'reg_lambda': 3.741047990809036e-05}. Best is trial 8 with value: 0.8720666747663489.\n",
      "[I 2025-02-13 21:21:02,383] Trial 35 finished with value: 0.8665552603338355 and parameters: {'max_depth': 8, 'learning_rate': 0.003331601068349339, 'min_child_weight': 6, 'subsample': 0.8281540482132966, 'colsample_bytree': 0.5489044316862373, 'reg_alpha': 0.0015750448541231655, 'reg_lambda': 3.450392267256067e-05}. Best is trial 8 with value: 0.8720666747663489.\n",
      "[I 2025-02-13 21:21:04,903] Trial 44 finished with value: 0.866603080037442 and parameters: {'max_depth': 10, 'learning_rate': 0.004055647248085374, 'min_child_weight': 6, 'subsample': 0.6201573749289869, 'colsample_bytree': 0.5431909989733282, 'reg_alpha': 0.0074556221228181795, 'reg_lambda': 4.242821468969662e-05}. Best is trial 8 with value: 0.8720666747663489.\n",
      "[I 2025-02-13 21:21:04,957] Trial 34 finished with value: 0.8665735937343979 and parameters: {'max_depth': 10, 'learning_rate': 0.005297015717106779, 'min_child_weight': 6, 'subsample': 0.6204527341018415, 'colsample_bytree': 0.5013933093435087, 'reg_alpha': 0.004269928116620144, 'reg_lambda': 0.0005067569997026155}. Best is trial 8 with value: 0.8720666747663489.\n",
      "[I 2025-02-13 21:21:04,969] Trial 41 finished with value: 0.8666043471841621 and parameters: {'max_depth': 10, 'learning_rate': 0.004508843457734556, 'min_child_weight': 6, 'subsample': 0.6325936432898559, 'colsample_bytree': 0.5294519101925963, 'reg_alpha': 0.006857198551555308, 'reg_lambda': 4.96025691742395e-05}. Best is trial 8 with value: 0.8720666747663489.\n",
      "[I 2025-02-13 21:21:05,128] Trial 39 finished with value: 0.8666240281852048 and parameters: {'max_depth': 10, 'learning_rate': 0.0041541798106816494, 'min_child_weight': 6, 'subsample': 0.625242997446642, 'colsample_bytree': 0.5087598747374016, 'reg_alpha': 0.00690788624745429, 'reg_lambda': 0.00010676298162192179}. Best is trial 8 with value: 0.8720666747663489.\n",
      "[I 2025-02-13 21:21:05,220] Trial 46 finished with value: 0.8666146050385636 and parameters: {'max_depth': 10, 'learning_rate': 0.004243969889743594, 'min_child_weight': 6, 'subsample': 0.6384362762161081, 'colsample_bytree': 0.5101460912268002, 'reg_alpha': 0.007386357637920054, 'reg_lambda': 3.4759401670373344e-05}. Best is trial 8 with value: 0.8720666747663489.\n",
      "[I 2025-02-13 21:21:05,367] Trial 42 finished with value: 0.8666177125650439 and parameters: {'max_depth': 10, 'learning_rate': 0.0037415947895856967, 'min_child_weight': 6, 'subsample': 0.6295964139417933, 'colsample_bytree': 0.5042606587846491, 'reg_alpha': 0.004945551917457593, 'reg_lambda': 4.994132219306931e-05}. Best is trial 8 with value: 0.8720666747663489.\n",
      "[I 2025-02-13 21:21:05,723] Trial 43 finished with value: 0.866639133378647 and parameters: {'max_depth': 10, 'learning_rate': 0.004641840298067976, 'min_child_weight': 6, 'subsample': 0.6271249301487701, 'colsample_bytree': 0.5070087497947494, 'reg_alpha': 0.003719770845779314, 'reg_lambda': 4.7023594268321964e-05}. Best is trial 8 with value: 0.8720666747663489.\n",
      "[I 2025-02-13 21:21:05,798] Trial 47 finished with value: 0.8666267133294452 and parameters: {'max_depth': 10, 'learning_rate': 0.004531523510554027, 'min_child_weight': 6, 'subsample': 0.6304428446058183, 'colsample_bytree': 0.5001813438863653, 'reg_alpha': 0.002143461753112039, 'reg_lambda': 5.592482535663922e-05}. Best is trial 8 with value: 0.8720666747663489.\n",
      "[I 2025-02-13 21:21:05,844] Trial 38 finished with value: 0.8666230828535247 and parameters: {'max_depth': 10, 'learning_rate': 0.0037176027425190198, 'min_child_weight': 6, 'subsample': 0.6347582966825438, 'colsample_bytree': 0.5198063875747502, 'reg_alpha': 0.002484201967046804, 'reg_lambda': 5.375965603211394e-05}. Best is trial 8 with value: 0.8720666747663489.\n",
      "[I 2025-02-13 21:21:05,985] Trial 45 finished with value: 0.8666270452012053 and parameters: {'max_depth': 10, 'learning_rate': 0.0043602839303029575, 'min_child_weight': 6, 'subsample': 0.6237629073909479, 'colsample_bytree': 0.5045204751189821, 'reg_alpha': 0.001814218199581479, 'reg_lambda': 0.00010626142461701744}. Best is trial 8 with value: 0.8720666747663489.\n",
      "[I 2025-02-13 21:21:06,039] Trial 31 finished with value: 0.8666156911643237 and parameters: {'max_depth': 9, 'learning_rate': 0.009662667346400075, 'min_child_weight': 5, 'subsample': 0.6028016976141819, 'colsample_bytree': 0.5177709289867855, 'reg_alpha': 6.729886309403668e-08, 'reg_lambda': 2.756321226802645e-07}. Best is trial 8 with value: 0.8720666747663489.\n",
      "[I 2025-02-13 21:21:06,146] Trial 40 finished with value: 0.8666375041900066 and parameters: {'max_depth': 10, 'learning_rate': 0.003232899394827157, 'min_child_weight': 6, 'subsample': 0.6404396464630717, 'colsample_bytree': 0.525490834751734, 'reg_alpha': 0.00348679896758293, 'reg_lambda': 3.652860947900051e-05}. Best is trial 8 with value: 0.8720666747663489.\n",
      "[I 2025-02-13 21:21:06,911] Trial 32 finished with value: 0.8666594982366497 and parameters: {'max_depth': 10, 'learning_rate': 0.00996174003017579, 'min_child_weight': 5, 'subsample': 0.6035124588880495, 'colsample_bytree': 0.6062880893343244, 'reg_alpha': 1.0137637142703645e-08, 'reg_lambda': 1.473776667739492e-07}. Best is trial 8 with value: 0.8720666747663489.\n",
      "[I 2025-02-13 21:21:06,947] Trial 30 finished with value: 0.8668563283605166 and parameters: {'max_depth': 10, 'learning_rate': 0.010435383481877097, 'min_child_weight': 5, 'subsample': 0.6049565629157427, 'colsample_bytree': 0.5091608317708275, 'reg_alpha': 1.2132549524024566e-08, 'reg_lambda': 2.3140822827991872e-07}. Best is trial 8 with value: 0.8720666747663489.\n",
      "[I 2025-02-13 21:21:07,046] Trial 33 finished with value: 0.866837235677594 and parameters: {'max_depth': 10, 'learning_rate': 0.027253466636663788, 'min_child_weight': 5, 'subsample': 0.6153313495411286, 'colsample_bytree': 0.5265132584459813, 'reg_alpha': 1.188570390947745e-08, 'reg_lambda': 1.41526464564933e-07}. Best is trial 8 with value: 0.8720666747663489.\n",
      "[I 2025-02-13 21:21:07,965] Trial 36 finished with value: 0.8709853561183611 and parameters: {'max_depth': 8, 'learning_rate': 0.0043772638460916665, 'min_child_weight': 6, 'subsample': 0.7998093869361117, 'colsample_bytree': 0.7679747393600238, 'reg_alpha': 0.002205370185669584, 'reg_lambda': 2.1232229310642366e-05}. Best is trial 8 with value: 0.8720666747663489.\n",
      "[I 2025-02-13 21:21:10,229] Trial 48 finished with value: 0.8690572314760975 and parameters: {'max_depth': 10, 'learning_rate': 0.004084592987752811, 'min_child_weight': 6, 'subsample': 0.6008451444467108, 'colsample_bytree': 0.5026669995743006, 'reg_alpha': 0.014375781879416112, 'reg_lambda': 3.488398336562968e-05}. Best is trial 8 with value: 0.8720666747663489.\n",
      "[I 2025-02-13 21:21:10,419] Trial 49 finished with value: 0.8696190702524144 and parameters: {'max_depth': 10, 'learning_rate': 0.019860209829299667, 'min_child_weight': 6, 'subsample': 0.5983920260191788, 'colsample_bytree': 0.5119562528180354, 'reg_alpha': 0.00836730128176429, 'reg_lambda': 4.2321944179652855e-05}. Best is trial 8 with value: 0.8720666747663489.\n",
      "[I 2025-02-13 21:21:10,651] Trial 29 finished with value: 0.8719604657464144 and parameters: {'max_depth': 10, 'learning_rate': 0.040334170936774036, 'min_child_weight': 9, 'subsample': 0.7807823959739502, 'colsample_bytree': 0.9971114418921352, 'reg_alpha': 1.8147832637939311e-06, 'reg_lambda': 1.0679844504097894e-05}. Best is trial 8 with value: 0.8720666747663489.\n",
      "Mejores hiperparámetros: {'max_depth': 6, 'learning_rate': 0.09945811829216437, 'min_child_weight': 3, 'subsample': 0.9603898382520749, 'colsample_bytree': 0.7536836580146604, 'reg_alpha': 0.09884773595219716, 'reg_lambda': 0.0065655223184726995}\n",
      "Mejor AUC en validación: 0.8720666747663489\n"
     ]
    }
   ],
   "source": [
    "# Configuración de mlflow + optuna\n",
    "mlflow.set_tracking_uri(settings.MLFLOW_TRACKING_URI)\n",
    "mlflow.set_experiment('xgb_hyperparam_tuning')\n",
    "\n",
    "mlflow_callback = MLflowCallback(\n",
    "    tracking_uri=settings.MLFLOW_TRACKING_URI,\n",
    "    create_experiment=False\n",
    ")\n",
    "    \n",
    "study = optuna.create_study(\n",
    "    direction='maximize'\n",
    ")\n",
    "\n",
    "study.optimize(\n",
    "    objective, \n",
    "    n_trials=50, \n",
    "    callbacks=[mlflow_callback],\n",
    "    n_jobs=-1,\n",
    "    show_progress_bar=True\n",
    ")\n",
    "\n",
    "best_trial = study.best_trial\n",
    "print(f'Mejores hiperparámetros: {best_trial.params}')\n",
    "print(f'Mejor AUC en validación: {best_trial.value}')"
   ]
  },
  {
   "cell_type": "code",
   "execution_count": 24,
   "metadata": {},
   "outputs": [],
   "source": [
    "# ---------------------------\n",
    "# Entrenamiento final con los mejores hiperparámetros\n",
    "# ---------------------------\n",
    "dtrain = xgb.DMatrix(X_train, label=y_train)\n",
    "dval = xgb.DMatrix(X_val, label=y_val)\n",
    "\n",
    "final_params = default_params.copy()\n",
    "final_params.update(best_trial.params)\n",
    "\n",
    "evals_result = {}\n",
    "final_model = xgb.train(\n",
    "    final_params,\n",
    "    dtrain,\n",
    "    num_boost_round=best_trial.user_attrs['best_iteration'],\n",
    "    evals=[(dtrain, 'train'), (dval, 'val')],\n",
    "    early_stopping_rounds=None,\n",
    "    evals_result=evals_result,\n",
    "    verbose_eval=False,\n",
    ")"
   ]
  },
  {
   "cell_type": "code",
   "execution_count": 25,
   "metadata": {},
   "outputs": [
    {
     "data": {
      "application/vnd.plotly.v1+json": {
       "config": {
        "plotlyServerURL": "https://plot.ly"
       },
       "data": [
        {
         "line": {
          "color": "#da1322"
         },
         "mode": "lines+markers",
         "name": "Train AUC",
         "type": "scatter",
         "x": [
          1,
          2,
          3,
          4,
          5,
          6,
          7,
          8,
          9,
          10,
          11,
          12,
          13,
          14,
          15,
          16,
          17,
          18,
          19,
          20,
          21,
          22,
          23,
          24,
          25,
          26,
          27,
          28,
          29,
          30,
          31,
          32,
          33,
          34,
          35,
          36,
          37,
          38,
          39,
          40,
          41,
          42,
          43,
          44,
          45,
          46,
          47,
          48,
          49,
          50,
          51,
          52,
          53,
          54,
          55,
          56,
          57,
          58,
          59,
          60,
          61,
          62,
          63,
          64,
          65,
          66,
          67,
          68,
          69,
          70,
          71,
          72,
          73,
          74,
          75,
          76,
          77,
          78,
          79,
          80,
          81,
          82,
          83,
          84,
          85,
          86,
          87,
          88,
          89,
          90,
          91,
          92,
          93
         ],
         "y": [
          0.6819128225002604,
          0.7681256210960153,
          0.8571453025467587,
          0.8659017332903609,
          0.8681476729116082,
          0.8668034899069601,
          0.8640049452742703,
          0.8672779422425019,
          0.868566973639032,
          0.8690409845918603,
          0.8696074020886733,
          0.8694834875234935,
          0.8698009523195206,
          0.8697373859455195,
          0.8702763958106746,
          0.8705569990042908,
          0.8707411852170649,
          0.8708164549375207,
          0.8712134474004081,
          0.8717391001307135,
          0.8719356193586995,
          0.8719330632499472,
          0.8720769439577207,
          0.8722357590451539,
          0.8725962815629495,
          0.87254283570347,
          0.8729871097530801,
          0.8731373050272178,
          0.8733017351732213,
          0.8733315072753141,
          0.873508356478223,
          0.8735756399651263,
          0.8736756863410404,
          0.8737081776958755,
          0.8737834161284428,
          0.8738587238413348,
          0.8740440727343958,
          0.8743483010774292,
          0.8745051327362133,
          0.8745694276710477,
          0.8746296216576329,
          0.8746210498935947,
          0.8746624711470494,
          0.874704517599563,
          0.8747293188383622,
          0.8748268515676587,
          0.8748876528745091,
          0.8749440129773223,
          0.8750296875968581,
          0.8750507951886715,
          0.8751123440525732,
          0.8751794588083633,
          0.8758705490429411,
          0.8758890971737288,
          0.8759968414876508,
          0.8760658536303966,
          0.8760848956628533,
          0.8761830105703617,
          0.8761825926535647,
          0.8762337634365768,
          0.8763333969241044,
          0.8763583579546202,
          0.8763771055456973,
          0.876387804886157,
          0.8764461132187447,
          0.8764743438336139,
          0.8765095605870267,
          0.8765519266229733,
          0.8765814947950782,
          0.8765972124893764,
          0.8766719458460286,
          0.8768061228386529,
          0.8768358468914882,
          0.87688037793758,
          0.876881378032589,
          0.8769405993010677,
          0.8769960414395792,
          0.8770128955546866,
          0.8770549598859937,
          0.8770681242651013,
          0.8772070871872493,
          0.8771926377698619,
          0.877204035500691,
          0.8772068793462753,
          0.8772093063924872,
          0.8772484855335,
          0.8772592038701778,
          0.8772804969544733,
          0.8772955933606988,
          0.8773022610332339,
          0.8773550984550236,
          0.8773707267553547,
          0.8774110847793111
         ]
        },
        {
         "line": {
          "color": "#19a042"
         },
         "mode": "lines+markers",
         "name": "Val AUC",
         "type": "scatter",
         "x": [
          1,
          2,
          3,
          4,
          5,
          6,
          7,
          8,
          9,
          10,
          11,
          12,
          13,
          14,
          15,
          16,
          17,
          18,
          19,
          20,
          21,
          22,
          23,
          24,
          25,
          26,
          27,
          28,
          29,
          30,
          31,
          32,
          33,
          34,
          35,
          36,
          37,
          38,
          39,
          40,
          41,
          42,
          43,
          44,
          45,
          46,
          47,
          48,
          49,
          50,
          51,
          52,
          53,
          54,
          55,
          56,
          57,
          58,
          59,
          60,
          61,
          62,
          63,
          64,
          65,
          66,
          67,
          68,
          69,
          70,
          71,
          72,
          73,
          74,
          75,
          76,
          77,
          78,
          79,
          80,
          81,
          82,
          83,
          84,
          85,
          86,
          87,
          88,
          89,
          90,
          91,
          92,
          93
         ],
         "y": [
          0.6764944906924504,
          0.7611408017331832,
          0.8520564619660531,
          0.8609549042696297,
          0.863860743230427,
          0.8620729249172626,
          0.8589193386592314,
          0.862602164835695,
          0.8641846098413514,
          0.8649670578559783,
          0.8656785858811555,
          0.8655957436501442,
          0.8659441888847519,
          0.8657344459324032,
          0.8664962826993874,
          0.8668324034236333,
          0.8669793421595734,
          0.8670796327997872,
          0.8674960614616041,
          0.8679622507739878,
          0.8680675597174822,
          0.8681144491744887,
          0.8681858217163384,
          0.8682440802953063,
          0.8687054071835694,
          0.8685428201913071,
          0.8690003154692497,
          0.8693356869678556,
          0.8694581225055124,
          0.8694305318941885,
          0.8696043522426923,
          0.8697029935808258,
          0.8697003687769055,
          0.8697179278100279,
          0.8697893707489176,
          0.8699142651546147,
          0.8700952710295594,
          0.8703418064920331,
          0.870333620321952,
          0.8703798108369183,
          0.870479845030772,
          0.870472709787931,
          0.8705246527467382,
          0.8705542798438621,
          0.8705886537128269,
          0.8707020935144424,
          0.8707613376519705,
          0.8707936498933349,
          0.8707668990181312,
          0.8708552674167833,
          0.8708945891919887,
          0.8709472562346359,
          0.8712737526778406,
          0.8712652748628794,
          0.8713387492592094,
          0.8713233071656473,
          0.8714107704594993,
          0.8715108096817129,
          0.8714447370313039,
          0.8714326739956623,
          0.8715553307811591,
          0.8715151240145935,
          0.8714352032607426,
          0.8715010747767516,
          0.8714515152605848,
          0.8715068573907524,
          0.8715137563006734,
          0.8714921846362704,
          0.8715504331585183,
          0.8715307521574757,
          0.8716822767577364,
          0.8715664132866006,
          0.8716029292369255,
          0.8715930535378842,
          0.8716245210147685,
          0.8716676442301344,
          0.8716724613990151,
          0.8716696455174147,
          0.871642965039251,
          0.8716372829924502,
          0.8718826267336038,
          0.8718634586252811,
          0.8718480014466391,
          0.8718607131407208,
          0.8718522755526397,
          0.8718766329284829,
          0.8718973698851258,
          0.8719234771302494,
          0.8719189415495288,
          0.8719174933818485,
          0.8719483675122528,
          0.8719592488832942,
          0.8719478345060927
         ]
        }
       ],
       "layout": {
        "template": {
         "data": {
          "bar": [
           {
            "error_x": {
             "color": "#f2f5fa"
            },
            "error_y": {
             "color": "#f2f5fa"
            },
            "marker": {
             "line": {
              "color": "rgb(17,17,17)",
              "width": 0.5
             },
             "pattern": {
              "fillmode": "overlay",
              "size": 10,
              "solidity": 0.2
             }
            },
            "type": "bar"
           }
          ],
          "barpolar": [
           {
            "marker": {
             "line": {
              "color": "rgb(17,17,17)",
              "width": 0.5
             },
             "pattern": {
              "fillmode": "overlay",
              "size": 10,
              "solidity": 0.2
             }
            },
            "type": "barpolar"
           }
          ],
          "carpet": [
           {
            "aaxis": {
             "endlinecolor": "#A2B1C6",
             "gridcolor": "#506784",
             "linecolor": "#506784",
             "minorgridcolor": "#506784",
             "startlinecolor": "#A2B1C6"
            },
            "baxis": {
             "endlinecolor": "#A2B1C6",
             "gridcolor": "#506784",
             "linecolor": "#506784",
             "minorgridcolor": "#506784",
             "startlinecolor": "#A2B1C6"
            },
            "type": "carpet"
           }
          ],
          "choropleth": [
           {
            "colorbar": {
             "outlinewidth": 0,
             "ticks": ""
            },
            "type": "choropleth"
           }
          ],
          "contour": [
           {
            "colorbar": {
             "outlinewidth": 0,
             "ticks": ""
            },
            "colorscale": [
             [
              0,
              "#0d0887"
             ],
             [
              0.1111111111111111,
              "#46039f"
             ],
             [
              0.2222222222222222,
              "#7201a8"
             ],
             [
              0.3333333333333333,
              "#9c179e"
             ],
             [
              0.4444444444444444,
              "#bd3786"
             ],
             [
              0.5555555555555556,
              "#d8576b"
             ],
             [
              0.6666666666666666,
              "#ed7953"
             ],
             [
              0.7777777777777778,
              "#fb9f3a"
             ],
             [
              0.8888888888888888,
              "#fdca26"
             ],
             [
              1,
              "#f0f921"
             ]
            ],
            "type": "contour"
           }
          ],
          "contourcarpet": [
           {
            "colorbar": {
             "outlinewidth": 0,
             "ticks": ""
            },
            "type": "contourcarpet"
           }
          ],
          "heatmap": [
           {
            "colorbar": {
             "outlinewidth": 0,
             "ticks": ""
            },
            "colorscale": [
             [
              0,
              "#0d0887"
             ],
             [
              0.1111111111111111,
              "#46039f"
             ],
             [
              0.2222222222222222,
              "#7201a8"
             ],
             [
              0.3333333333333333,
              "#9c179e"
             ],
             [
              0.4444444444444444,
              "#bd3786"
             ],
             [
              0.5555555555555556,
              "#d8576b"
             ],
             [
              0.6666666666666666,
              "#ed7953"
             ],
             [
              0.7777777777777778,
              "#fb9f3a"
             ],
             [
              0.8888888888888888,
              "#fdca26"
             ],
             [
              1,
              "#f0f921"
             ]
            ],
            "type": "heatmap"
           }
          ],
          "histogram": [
           {
            "marker": {
             "pattern": {
              "fillmode": "overlay",
              "size": 10,
              "solidity": 0.2
             }
            },
            "type": "histogram"
           }
          ],
          "histogram2d": [
           {
            "colorbar": {
             "outlinewidth": 0,
             "ticks": ""
            },
            "colorscale": [
             [
              0,
              "#0d0887"
             ],
             [
              0.1111111111111111,
              "#46039f"
             ],
             [
              0.2222222222222222,
              "#7201a8"
             ],
             [
              0.3333333333333333,
              "#9c179e"
             ],
             [
              0.4444444444444444,
              "#bd3786"
             ],
             [
              0.5555555555555556,
              "#d8576b"
             ],
             [
              0.6666666666666666,
              "#ed7953"
             ],
             [
              0.7777777777777778,
              "#fb9f3a"
             ],
             [
              0.8888888888888888,
              "#fdca26"
             ],
             [
              1,
              "#f0f921"
             ]
            ],
            "type": "histogram2d"
           }
          ],
          "histogram2dcontour": [
           {
            "colorbar": {
             "outlinewidth": 0,
             "ticks": ""
            },
            "colorscale": [
             [
              0,
              "#0d0887"
             ],
             [
              0.1111111111111111,
              "#46039f"
             ],
             [
              0.2222222222222222,
              "#7201a8"
             ],
             [
              0.3333333333333333,
              "#9c179e"
             ],
             [
              0.4444444444444444,
              "#bd3786"
             ],
             [
              0.5555555555555556,
              "#d8576b"
             ],
             [
              0.6666666666666666,
              "#ed7953"
             ],
             [
              0.7777777777777778,
              "#fb9f3a"
             ],
             [
              0.8888888888888888,
              "#fdca26"
             ],
             [
              1,
              "#f0f921"
             ]
            ],
            "type": "histogram2dcontour"
           }
          ],
          "mesh3d": [
           {
            "colorbar": {
             "outlinewidth": 0,
             "ticks": ""
            },
            "type": "mesh3d"
           }
          ],
          "parcoords": [
           {
            "line": {
             "colorbar": {
              "outlinewidth": 0,
              "ticks": ""
             }
            },
            "type": "parcoords"
           }
          ],
          "pie": [
           {
            "automargin": true,
            "type": "pie"
           }
          ],
          "scatter": [
           {
            "marker": {
             "line": {
              "color": "#283442"
             }
            },
            "type": "scatter"
           }
          ],
          "scatter3d": [
           {
            "line": {
             "colorbar": {
              "outlinewidth": 0,
              "ticks": ""
             }
            },
            "marker": {
             "colorbar": {
              "outlinewidth": 0,
              "ticks": ""
             }
            },
            "type": "scatter3d"
           }
          ],
          "scattercarpet": [
           {
            "marker": {
             "colorbar": {
              "outlinewidth": 0,
              "ticks": ""
             }
            },
            "type": "scattercarpet"
           }
          ],
          "scattergeo": [
           {
            "marker": {
             "colorbar": {
              "outlinewidth": 0,
              "ticks": ""
             }
            },
            "type": "scattergeo"
           }
          ],
          "scattergl": [
           {
            "marker": {
             "line": {
              "color": "#283442"
             }
            },
            "type": "scattergl"
           }
          ],
          "scattermap": [
           {
            "marker": {
             "colorbar": {
              "outlinewidth": 0,
              "ticks": ""
             }
            },
            "type": "scattermap"
           }
          ],
          "scattermapbox": [
           {
            "marker": {
             "colorbar": {
              "outlinewidth": 0,
              "ticks": ""
             }
            },
            "type": "scattermapbox"
           }
          ],
          "scatterpolar": [
           {
            "marker": {
             "colorbar": {
              "outlinewidth": 0,
              "ticks": ""
             }
            },
            "type": "scatterpolar"
           }
          ],
          "scatterpolargl": [
           {
            "marker": {
             "colorbar": {
              "outlinewidth": 0,
              "ticks": ""
             }
            },
            "type": "scatterpolargl"
           }
          ],
          "scatterternary": [
           {
            "marker": {
             "colorbar": {
              "outlinewidth": 0,
              "ticks": ""
             }
            },
            "type": "scatterternary"
           }
          ],
          "surface": [
           {
            "colorbar": {
             "outlinewidth": 0,
             "ticks": ""
            },
            "colorscale": [
             [
              0,
              "#0d0887"
             ],
             [
              0.1111111111111111,
              "#46039f"
             ],
             [
              0.2222222222222222,
              "#7201a8"
             ],
             [
              0.3333333333333333,
              "#9c179e"
             ],
             [
              0.4444444444444444,
              "#bd3786"
             ],
             [
              0.5555555555555556,
              "#d8576b"
             ],
             [
              0.6666666666666666,
              "#ed7953"
             ],
             [
              0.7777777777777778,
              "#fb9f3a"
             ],
             [
              0.8888888888888888,
              "#fdca26"
             ],
             [
              1,
              "#f0f921"
             ]
            ],
            "type": "surface"
           }
          ],
          "table": [
           {
            "cells": {
             "fill": {
              "color": "#506784"
             },
             "line": {
              "color": "rgb(17,17,17)"
             }
            },
            "header": {
             "fill": {
              "color": "#2a3f5f"
             },
             "line": {
              "color": "rgb(17,17,17)"
             }
            },
            "type": "table"
           }
          ]
         },
         "layout": {
          "annotationdefaults": {
           "arrowcolor": "#f2f5fa",
           "arrowhead": 0,
           "arrowwidth": 1
          },
          "autotypenumbers": "strict",
          "coloraxis": {
           "colorbar": {
            "outlinewidth": 0,
            "ticks": ""
           }
          },
          "colorscale": {
           "diverging": [
            [
             0,
             "#8e0152"
            ],
            [
             0.1,
             "#c51b7d"
            ],
            [
             0.2,
             "#de77ae"
            ],
            [
             0.3,
             "#f1b6da"
            ],
            [
             0.4,
             "#fde0ef"
            ],
            [
             0.5,
             "#f7f7f7"
            ],
            [
             0.6,
             "#e6f5d0"
            ],
            [
             0.7,
             "#b8e186"
            ],
            [
             0.8,
             "#7fbc41"
            ],
            [
             0.9,
             "#4d9221"
            ],
            [
             1,
             "#276419"
            ]
           ],
           "sequential": [
            [
             0,
             "#0d0887"
            ],
            [
             0.1111111111111111,
             "#46039f"
            ],
            [
             0.2222222222222222,
             "#7201a8"
            ],
            [
             0.3333333333333333,
             "#9c179e"
            ],
            [
             0.4444444444444444,
             "#bd3786"
            ],
            [
             0.5555555555555556,
             "#d8576b"
            ],
            [
             0.6666666666666666,
             "#ed7953"
            ],
            [
             0.7777777777777778,
             "#fb9f3a"
            ],
            [
             0.8888888888888888,
             "#fdca26"
            ],
            [
             1,
             "#f0f921"
            ]
           ],
           "sequentialminus": [
            [
             0,
             "#0d0887"
            ],
            [
             0.1111111111111111,
             "#46039f"
            ],
            [
             0.2222222222222222,
             "#7201a8"
            ],
            [
             0.3333333333333333,
             "#9c179e"
            ],
            [
             0.4444444444444444,
             "#bd3786"
            ],
            [
             0.5555555555555556,
             "#d8576b"
            ],
            [
             0.6666666666666666,
             "#ed7953"
            ],
            [
             0.7777777777777778,
             "#fb9f3a"
            ],
            [
             0.8888888888888888,
             "#fdca26"
            ],
            [
             1,
             "#f0f921"
            ]
           ]
          },
          "colorway": [
           "#636efa",
           "#EF553B",
           "#00cc96",
           "#ab63fa",
           "#FFA15A",
           "#19d3f3",
           "#FF6692",
           "#B6E880",
           "#FF97FF",
           "#FECB52"
          ],
          "font": {
           "color": "#f2f5fa"
          },
          "geo": {
           "bgcolor": "rgb(17,17,17)",
           "lakecolor": "rgb(17,17,17)",
           "landcolor": "rgb(17,17,17)",
           "showlakes": true,
           "showland": true,
           "subunitcolor": "#506784"
          },
          "hoverlabel": {
           "align": "left"
          },
          "hovermode": "closest",
          "mapbox": {
           "style": "dark"
          },
          "paper_bgcolor": "rgb(17,17,17)",
          "plot_bgcolor": "rgb(17,17,17)",
          "polar": {
           "angularaxis": {
            "gridcolor": "#506784",
            "linecolor": "#506784",
            "ticks": ""
           },
           "bgcolor": "rgb(17,17,17)",
           "radialaxis": {
            "gridcolor": "#506784",
            "linecolor": "#506784",
            "ticks": ""
           }
          },
          "scene": {
           "xaxis": {
            "backgroundcolor": "rgb(17,17,17)",
            "gridcolor": "#506784",
            "gridwidth": 2,
            "linecolor": "#506784",
            "showbackground": true,
            "ticks": "",
            "zerolinecolor": "#C8D4E3"
           },
           "yaxis": {
            "backgroundcolor": "rgb(17,17,17)",
            "gridcolor": "#506784",
            "gridwidth": 2,
            "linecolor": "#506784",
            "showbackground": true,
            "ticks": "",
            "zerolinecolor": "#C8D4E3"
           },
           "zaxis": {
            "backgroundcolor": "rgb(17,17,17)",
            "gridcolor": "#506784",
            "gridwidth": 2,
            "linecolor": "#506784",
            "showbackground": true,
            "ticks": "",
            "zerolinecolor": "#C8D4E3"
           }
          },
          "shapedefaults": {
           "line": {
            "color": "#f2f5fa"
           }
          },
          "sliderdefaults": {
           "bgcolor": "#C8D4E3",
           "bordercolor": "rgb(17,17,17)",
           "borderwidth": 1,
           "tickwidth": 0
          },
          "ternary": {
           "aaxis": {
            "gridcolor": "#506784",
            "linecolor": "#506784",
            "ticks": ""
           },
           "baxis": {
            "gridcolor": "#506784",
            "linecolor": "#506784",
            "ticks": ""
           },
           "bgcolor": "rgb(17,17,17)",
           "caxis": {
            "gridcolor": "#506784",
            "linecolor": "#506784",
            "ticks": ""
           }
          },
          "title": {
           "x": 0.05
          },
          "updatemenudefaults": {
           "bgcolor": "#506784",
           "borderwidth": 0
          },
          "xaxis": {
           "automargin": true,
           "gridcolor": "#283442",
           "linecolor": "#506784",
           "ticks": "",
           "title": {
            "standoff": 15
           },
           "zerolinecolor": "#283442",
           "zerolinewidth": 2
          },
          "yaxis": {
           "automargin": true,
           "gridcolor": "#283442",
           "linecolor": "#506784",
           "ticks": "",
           "title": {
            "standoff": 15
           },
           "zerolinecolor": "#283442",
           "zerolinewidth": 2
          }
         }
        },
        "title": {
         "text": "Curva de Aprendizaje / AUC"
        },
        "xaxis": {
         "title": {
          "text": "Boosting Rounds"
         }
        },
        "yaxis": {
         "title": {
          "text": "AUC"
         }
        }
       }
      }
     },
     "metadata": {},
     "output_type": "display_data"
    },
    {
     "data": {
      "application/vnd.plotly.v1+json": {
       "config": {
        "plotlyServerURL": "https://plot.ly"
       },
       "data": [
        {
         "line": {
          "color": "#da1322"
         },
         "mode": "lines+markers",
         "name": "Train Log-loss",
         "type": "scatter",
         "x": [
          1,
          2,
          3,
          4,
          5,
          6,
          7,
          8,
          9,
          10,
          11,
          12,
          13,
          14,
          15,
          16,
          17,
          18,
          19,
          20,
          21,
          22,
          23,
          24,
          25,
          26,
          27,
          28,
          29,
          30,
          31,
          32,
          33,
          34,
          35,
          36,
          37,
          38,
          39,
          40,
          41,
          42,
          43,
          44,
          45,
          46,
          47,
          48,
          49,
          50,
          51,
          52,
          53,
          54,
          55,
          56,
          57,
          58,
          59,
          60,
          61,
          62,
          63,
          64,
          65,
          66,
          67,
          68,
          69,
          70,
          71,
          72,
          73,
          74,
          75,
          76,
          77,
          78,
          79,
          80,
          81,
          82,
          83,
          84,
          85,
          86,
          87,
          88,
          89,
          90,
          91,
          92,
          93
         ],
         "y": [
          0.6781780168314775,
          0.6571440898030997,
          0.6250272844985127,
          0.6025202709709605,
          0.5779715199659268,
          0.5662951632012924,
          0.5617513268078367,
          0.5472872221708298,
          0.5311871149986982,
          0.5206748700539271,
          0.5083809377854069,
          0.5008794086466233,
          0.4916541526434322,
          0.4899124626920869,
          0.48218753602492315,
          0.47528954242430627,
          0.46917306908058626,
          0.4661514342237264,
          0.4614443517971784,
          0.4583505637751271,
          0.4545687245591854,
          0.452295110628816,
          0.449255938529099,
          0.44648392313464236,
          0.44500170330032707,
          0.4428060434827581,
          0.44145185444168744,
          0.4395537892329196,
          0.43865888876806325,
          0.437687099022232,
          0.4363772456645034,
          0.4353101160169269,
          0.4343078681055456,
          0.4333494556112215,
          0.432474402223931,
          0.4316764007679497,
          0.43130545695815237,
          0.4310075357671051,
          0.4304429528625061,
          0.43014136601639913,
          0.4298438213674507,
          0.429545183304837,
          0.4291979653499477,
          0.42874802366504444,
          0.42856605235385553,
          0.4282705718007327,
          0.4279359995746752,
          0.42781504291415523,
          0.4276553157438136,
          0.4275054573244726,
          0.4272042579411607,
          0.42697781764887427,
          0.42686741055405386,
          0.4266987513157927,
          0.42657779552399877,
          0.4264656432264174,
          0.4262704656448293,
          0.42606270325935136,
          0.42591418128397396,
          0.4257602569494474,
          0.42560711802587226,
          0.4255301335279675,
          0.42545590728145327,
          0.42532289756417546,
          0.4251405788381914,
          0.4249295635598731,
          0.42487533312667314,
          0.4248007037900175,
          0.42474036610991656,
          0.4246496054730999,
          0.42455137073012883,
          0.42450535745248974,
          0.42437684580373464,
          0.42433608992194255,
          0.4242396820165023,
          0.424161720173317,
          0.4240864486959258,
          0.4240488174104714,
          0.4239557912627885,
          0.4239058977616155,
          0.42383725181422005,
          0.42375415096971847,
          0.42373031970820546,
          0.4236932555241976,
          0.42366136406997296,
          0.42360739116335755,
          0.42355794643337724,
          0.4234886889376551,
          0.42346313235576577,
          0.4234300654323539,
          0.42339896423573953,
          0.42334114929957334,
          0.4232829222382861
         ]
        },
        {
         "line": {
          "color": "#19a042"
         },
         "mode": "lines+markers",
         "name": "val Log-loss",
         "type": "scatter",
         "x": [
          1,
          2,
          3,
          4,
          5,
          6,
          7,
          8,
          9,
          10,
          11,
          12,
          13,
          14,
          15,
          16,
          17,
          18,
          19,
          20,
          21,
          22,
          23,
          24,
          25,
          26,
          27,
          28,
          29,
          30,
          31,
          32,
          33,
          34,
          35,
          36,
          37,
          38,
          39,
          40,
          41,
          42,
          43,
          44,
          45,
          46,
          47,
          48,
          49,
          50,
          51,
          52,
          53,
          54,
          55,
          56,
          57,
          58,
          59,
          60,
          61,
          62,
          63,
          64,
          65,
          66,
          67,
          68,
          69,
          70,
          71,
          72,
          73,
          74,
          75,
          76,
          77,
          78,
          79,
          80,
          81,
          82,
          83,
          84,
          85,
          86,
          87,
          88,
          89,
          90,
          91,
          92,
          93
         ],
         "y": [
          0.6783244587630034,
          0.6577137530490756,
          0.6258879732847213,
          0.603602092564106,
          0.579334354506433,
          0.5679628009051084,
          0.563587197239697,
          0.5492424058876931,
          0.5333985326491296,
          0.5229767420619726,
          0.5108464466162026,
          0.503385428173095,
          0.4942853482477367,
          0.49272174093611537,
          0.48506900629885497,
          0.47829934729188683,
          0.47232930757291613,
          0.46947168917357923,
          0.4648333745758981,
          0.46182164737544956,
          0.458185006040521,
          0.45597607404347507,
          0.45302545187324283,
          0.45036309832669796,
          0.4490005196215585,
          0.44684566467236725,
          0.445577079378441,
          0.4437708450805396,
          0.44299290215475484,
          0.442101990980003,
          0.440815848585777,
          0.4398100751674734,
          0.4388515649383888,
          0.4379394488227554,
          0.437166147016501,
          0.4364398354493547,
          0.43611250133006835,
          0.4359880518805236,
          0.43545811506328175,
          0.43523819201346486,
          0.4349642451647669,
          0.43469217251439113,
          0.4343582444327418,
          0.43396022194402756,
          0.43382737007350664,
          0.4336621915272204,
          0.43337124876179733,
          0.4333247334686108,
          0.43323393975193614,
          0.4331599291198538,
          0.4328967570774956,
          0.4327200561715174,
          0.4327190390936681,
          0.4325911409804714,
          0.43253949847961776,
          0.43246857874993,
          0.4323177295626956,
          0.4321594321838231,
          0.43206525123185713,
          0.43191377485931154,
          0.4318080646786722,
          0.43177770461346954,
          0.431824316350132,
          0.4317357377241191,
          0.4316768779987237,
          0.4315404106406088,
          0.4315095011219557,
          0.4314838421743072,
          0.43145351026792195,
          0.43138813666490605,
          0.43136135313667473,
          0.43134351516758324,
          0.4312672335643263,
          0.43129340708958336,
          0.43123748732273814,
          0.431201642834628,
          0.4312388439168106,
          0.4312314044159895,
          0.43121280732117884,
          0.43120497273188085,
          0.4311703592357167,
          0.4311536320724379,
          0.4311746657746378,
          0.43117150211355765,
          0.43118831849030975,
          0.43119245503905984,
          0.4311751492088981,
          0.43114669798237154,
          0.43116007515999666,
          0.4311686783707642,
          0.43116941119692054,
          0.43113805375111697,
          0.43113045154802093
         ]
        }
       ],
       "layout": {
        "template": {
         "data": {
          "bar": [
           {
            "error_x": {
             "color": "#f2f5fa"
            },
            "error_y": {
             "color": "#f2f5fa"
            },
            "marker": {
             "line": {
              "color": "rgb(17,17,17)",
              "width": 0.5
             },
             "pattern": {
              "fillmode": "overlay",
              "size": 10,
              "solidity": 0.2
             }
            },
            "type": "bar"
           }
          ],
          "barpolar": [
           {
            "marker": {
             "line": {
              "color": "rgb(17,17,17)",
              "width": 0.5
             },
             "pattern": {
              "fillmode": "overlay",
              "size": 10,
              "solidity": 0.2
             }
            },
            "type": "barpolar"
           }
          ],
          "carpet": [
           {
            "aaxis": {
             "endlinecolor": "#A2B1C6",
             "gridcolor": "#506784",
             "linecolor": "#506784",
             "minorgridcolor": "#506784",
             "startlinecolor": "#A2B1C6"
            },
            "baxis": {
             "endlinecolor": "#A2B1C6",
             "gridcolor": "#506784",
             "linecolor": "#506784",
             "minorgridcolor": "#506784",
             "startlinecolor": "#A2B1C6"
            },
            "type": "carpet"
           }
          ],
          "choropleth": [
           {
            "colorbar": {
             "outlinewidth": 0,
             "ticks": ""
            },
            "type": "choropleth"
           }
          ],
          "contour": [
           {
            "colorbar": {
             "outlinewidth": 0,
             "ticks": ""
            },
            "colorscale": [
             [
              0,
              "#0d0887"
             ],
             [
              0.1111111111111111,
              "#46039f"
             ],
             [
              0.2222222222222222,
              "#7201a8"
             ],
             [
              0.3333333333333333,
              "#9c179e"
             ],
             [
              0.4444444444444444,
              "#bd3786"
             ],
             [
              0.5555555555555556,
              "#d8576b"
             ],
             [
              0.6666666666666666,
              "#ed7953"
             ],
             [
              0.7777777777777778,
              "#fb9f3a"
             ],
             [
              0.8888888888888888,
              "#fdca26"
             ],
             [
              1,
              "#f0f921"
             ]
            ],
            "type": "contour"
           }
          ],
          "contourcarpet": [
           {
            "colorbar": {
             "outlinewidth": 0,
             "ticks": ""
            },
            "type": "contourcarpet"
           }
          ],
          "heatmap": [
           {
            "colorbar": {
             "outlinewidth": 0,
             "ticks": ""
            },
            "colorscale": [
             [
              0,
              "#0d0887"
             ],
             [
              0.1111111111111111,
              "#46039f"
             ],
             [
              0.2222222222222222,
              "#7201a8"
             ],
             [
              0.3333333333333333,
              "#9c179e"
             ],
             [
              0.4444444444444444,
              "#bd3786"
             ],
             [
              0.5555555555555556,
              "#d8576b"
             ],
             [
              0.6666666666666666,
              "#ed7953"
             ],
             [
              0.7777777777777778,
              "#fb9f3a"
             ],
             [
              0.8888888888888888,
              "#fdca26"
             ],
             [
              1,
              "#f0f921"
             ]
            ],
            "type": "heatmap"
           }
          ],
          "histogram": [
           {
            "marker": {
             "pattern": {
              "fillmode": "overlay",
              "size": 10,
              "solidity": 0.2
             }
            },
            "type": "histogram"
           }
          ],
          "histogram2d": [
           {
            "colorbar": {
             "outlinewidth": 0,
             "ticks": ""
            },
            "colorscale": [
             [
              0,
              "#0d0887"
             ],
             [
              0.1111111111111111,
              "#46039f"
             ],
             [
              0.2222222222222222,
              "#7201a8"
             ],
             [
              0.3333333333333333,
              "#9c179e"
             ],
             [
              0.4444444444444444,
              "#bd3786"
             ],
             [
              0.5555555555555556,
              "#d8576b"
             ],
             [
              0.6666666666666666,
              "#ed7953"
             ],
             [
              0.7777777777777778,
              "#fb9f3a"
             ],
             [
              0.8888888888888888,
              "#fdca26"
             ],
             [
              1,
              "#f0f921"
             ]
            ],
            "type": "histogram2d"
           }
          ],
          "histogram2dcontour": [
           {
            "colorbar": {
             "outlinewidth": 0,
             "ticks": ""
            },
            "colorscale": [
             [
              0,
              "#0d0887"
             ],
             [
              0.1111111111111111,
              "#46039f"
             ],
             [
              0.2222222222222222,
              "#7201a8"
             ],
             [
              0.3333333333333333,
              "#9c179e"
             ],
             [
              0.4444444444444444,
              "#bd3786"
             ],
             [
              0.5555555555555556,
              "#d8576b"
             ],
             [
              0.6666666666666666,
              "#ed7953"
             ],
             [
              0.7777777777777778,
              "#fb9f3a"
             ],
             [
              0.8888888888888888,
              "#fdca26"
             ],
             [
              1,
              "#f0f921"
             ]
            ],
            "type": "histogram2dcontour"
           }
          ],
          "mesh3d": [
           {
            "colorbar": {
             "outlinewidth": 0,
             "ticks": ""
            },
            "type": "mesh3d"
           }
          ],
          "parcoords": [
           {
            "line": {
             "colorbar": {
              "outlinewidth": 0,
              "ticks": ""
             }
            },
            "type": "parcoords"
           }
          ],
          "pie": [
           {
            "automargin": true,
            "type": "pie"
           }
          ],
          "scatter": [
           {
            "marker": {
             "line": {
              "color": "#283442"
             }
            },
            "type": "scatter"
           }
          ],
          "scatter3d": [
           {
            "line": {
             "colorbar": {
              "outlinewidth": 0,
              "ticks": ""
             }
            },
            "marker": {
             "colorbar": {
              "outlinewidth": 0,
              "ticks": ""
             }
            },
            "type": "scatter3d"
           }
          ],
          "scattercarpet": [
           {
            "marker": {
             "colorbar": {
              "outlinewidth": 0,
              "ticks": ""
             }
            },
            "type": "scattercarpet"
           }
          ],
          "scattergeo": [
           {
            "marker": {
             "colorbar": {
              "outlinewidth": 0,
              "ticks": ""
             }
            },
            "type": "scattergeo"
           }
          ],
          "scattergl": [
           {
            "marker": {
             "line": {
              "color": "#283442"
             }
            },
            "type": "scattergl"
           }
          ],
          "scattermap": [
           {
            "marker": {
             "colorbar": {
              "outlinewidth": 0,
              "ticks": ""
             }
            },
            "type": "scattermap"
           }
          ],
          "scattermapbox": [
           {
            "marker": {
             "colorbar": {
              "outlinewidth": 0,
              "ticks": ""
             }
            },
            "type": "scattermapbox"
           }
          ],
          "scatterpolar": [
           {
            "marker": {
             "colorbar": {
              "outlinewidth": 0,
              "ticks": ""
             }
            },
            "type": "scatterpolar"
           }
          ],
          "scatterpolargl": [
           {
            "marker": {
             "colorbar": {
              "outlinewidth": 0,
              "ticks": ""
             }
            },
            "type": "scatterpolargl"
           }
          ],
          "scatterternary": [
           {
            "marker": {
             "colorbar": {
              "outlinewidth": 0,
              "ticks": ""
             }
            },
            "type": "scatterternary"
           }
          ],
          "surface": [
           {
            "colorbar": {
             "outlinewidth": 0,
             "ticks": ""
            },
            "colorscale": [
             [
              0,
              "#0d0887"
             ],
             [
              0.1111111111111111,
              "#46039f"
             ],
             [
              0.2222222222222222,
              "#7201a8"
             ],
             [
              0.3333333333333333,
              "#9c179e"
             ],
             [
              0.4444444444444444,
              "#bd3786"
             ],
             [
              0.5555555555555556,
              "#d8576b"
             ],
             [
              0.6666666666666666,
              "#ed7953"
             ],
             [
              0.7777777777777778,
              "#fb9f3a"
             ],
             [
              0.8888888888888888,
              "#fdca26"
             ],
             [
              1,
              "#f0f921"
             ]
            ],
            "type": "surface"
           }
          ],
          "table": [
           {
            "cells": {
             "fill": {
              "color": "#506784"
             },
             "line": {
              "color": "rgb(17,17,17)"
             }
            },
            "header": {
             "fill": {
              "color": "#2a3f5f"
             },
             "line": {
              "color": "rgb(17,17,17)"
             }
            },
            "type": "table"
           }
          ]
         },
         "layout": {
          "annotationdefaults": {
           "arrowcolor": "#f2f5fa",
           "arrowhead": 0,
           "arrowwidth": 1
          },
          "autotypenumbers": "strict",
          "coloraxis": {
           "colorbar": {
            "outlinewidth": 0,
            "ticks": ""
           }
          },
          "colorscale": {
           "diverging": [
            [
             0,
             "#8e0152"
            ],
            [
             0.1,
             "#c51b7d"
            ],
            [
             0.2,
             "#de77ae"
            ],
            [
             0.3,
             "#f1b6da"
            ],
            [
             0.4,
             "#fde0ef"
            ],
            [
             0.5,
             "#f7f7f7"
            ],
            [
             0.6,
             "#e6f5d0"
            ],
            [
             0.7,
             "#b8e186"
            ],
            [
             0.8,
             "#7fbc41"
            ],
            [
             0.9,
             "#4d9221"
            ],
            [
             1,
             "#276419"
            ]
           ],
           "sequential": [
            [
             0,
             "#0d0887"
            ],
            [
             0.1111111111111111,
             "#46039f"
            ],
            [
             0.2222222222222222,
             "#7201a8"
            ],
            [
             0.3333333333333333,
             "#9c179e"
            ],
            [
             0.4444444444444444,
             "#bd3786"
            ],
            [
             0.5555555555555556,
             "#d8576b"
            ],
            [
             0.6666666666666666,
             "#ed7953"
            ],
            [
             0.7777777777777778,
             "#fb9f3a"
            ],
            [
             0.8888888888888888,
             "#fdca26"
            ],
            [
             1,
             "#f0f921"
            ]
           ],
           "sequentialminus": [
            [
             0,
             "#0d0887"
            ],
            [
             0.1111111111111111,
             "#46039f"
            ],
            [
             0.2222222222222222,
             "#7201a8"
            ],
            [
             0.3333333333333333,
             "#9c179e"
            ],
            [
             0.4444444444444444,
             "#bd3786"
            ],
            [
             0.5555555555555556,
             "#d8576b"
            ],
            [
             0.6666666666666666,
             "#ed7953"
            ],
            [
             0.7777777777777778,
             "#fb9f3a"
            ],
            [
             0.8888888888888888,
             "#fdca26"
            ],
            [
             1,
             "#f0f921"
            ]
           ]
          },
          "colorway": [
           "#636efa",
           "#EF553B",
           "#00cc96",
           "#ab63fa",
           "#FFA15A",
           "#19d3f3",
           "#FF6692",
           "#B6E880",
           "#FF97FF",
           "#FECB52"
          ],
          "font": {
           "color": "#f2f5fa"
          },
          "geo": {
           "bgcolor": "rgb(17,17,17)",
           "lakecolor": "rgb(17,17,17)",
           "landcolor": "rgb(17,17,17)",
           "showlakes": true,
           "showland": true,
           "subunitcolor": "#506784"
          },
          "hoverlabel": {
           "align": "left"
          },
          "hovermode": "closest",
          "mapbox": {
           "style": "dark"
          },
          "paper_bgcolor": "rgb(17,17,17)",
          "plot_bgcolor": "rgb(17,17,17)",
          "polar": {
           "angularaxis": {
            "gridcolor": "#506784",
            "linecolor": "#506784",
            "ticks": ""
           },
           "bgcolor": "rgb(17,17,17)",
           "radialaxis": {
            "gridcolor": "#506784",
            "linecolor": "#506784",
            "ticks": ""
           }
          },
          "scene": {
           "xaxis": {
            "backgroundcolor": "rgb(17,17,17)",
            "gridcolor": "#506784",
            "gridwidth": 2,
            "linecolor": "#506784",
            "showbackground": true,
            "ticks": "",
            "zerolinecolor": "#C8D4E3"
           },
           "yaxis": {
            "backgroundcolor": "rgb(17,17,17)",
            "gridcolor": "#506784",
            "gridwidth": 2,
            "linecolor": "#506784",
            "showbackground": true,
            "ticks": "",
            "zerolinecolor": "#C8D4E3"
           },
           "zaxis": {
            "backgroundcolor": "rgb(17,17,17)",
            "gridcolor": "#506784",
            "gridwidth": 2,
            "linecolor": "#506784",
            "showbackground": true,
            "ticks": "",
            "zerolinecolor": "#C8D4E3"
           }
          },
          "shapedefaults": {
           "line": {
            "color": "#f2f5fa"
           }
          },
          "sliderdefaults": {
           "bgcolor": "#C8D4E3",
           "bordercolor": "rgb(17,17,17)",
           "borderwidth": 1,
           "tickwidth": 0
          },
          "ternary": {
           "aaxis": {
            "gridcolor": "#506784",
            "linecolor": "#506784",
            "ticks": ""
           },
           "baxis": {
            "gridcolor": "#506784",
            "linecolor": "#506784",
            "ticks": ""
           },
           "bgcolor": "rgb(17,17,17)",
           "caxis": {
            "gridcolor": "#506784",
            "linecolor": "#506784",
            "ticks": ""
           }
          },
          "title": {
           "x": 0.05
          },
          "updatemenudefaults": {
           "bgcolor": "#506784",
           "borderwidth": 0
          },
          "xaxis": {
           "automargin": true,
           "gridcolor": "#283442",
           "linecolor": "#506784",
           "ticks": "",
           "title": {
            "standoff": 15
           },
           "zerolinecolor": "#283442",
           "zerolinewidth": 2
          },
          "yaxis": {
           "automargin": true,
           "gridcolor": "#283442",
           "linecolor": "#506784",
           "ticks": "",
           "title": {
            "standoff": 15
           },
           "zerolinecolor": "#283442",
           "zerolinewidth": 2
          }
         }
        },
        "title": {
         "text": "Curva de Aprendizaje / Log-Loss"
        },
        "xaxis": {
         "title": {
          "text": "Boosting Rounds"
         }
        },
        "yaxis": {
         "title": {
          "text": "Log-loss"
         }
        }
       }
      }
     },
     "metadata": {},
     "output_type": "display_data"
    }
   ],
   "source": [
    "# ---------------------------\n",
    "# Curvas de aprendizaje con Plotly\n",
    "# ---------------------------\n",
    "train_auc_curve = evals_result['train']['auc']\n",
    "val_auc_curve = evals_result['val']['auc']\n",
    "train_logloss_curve = evals_result['train']['logloss']\n",
    "val_logloss_curve = evals_result['val']['logloss']\n",
    "\n",
    "# Número de boosting rounds (asumiendo que todas las listas tienen la misma longitud)\n",
    "rounds = list(range(1, len(train_auc_curve) + 1))\n",
    "\n",
    "# --- Gráfico para AUC ---\n",
    "fig_auc = go.Figure()\n",
    "fig_auc.add_trace(go.Scatter(\n",
    "    x=rounds,\n",
    "    y=train_auc_curve,\n",
    "    mode='lines+markers',\n",
    "    name='Train AUC',\n",
    "    line=dict(color='#da1322')\n",
    "))\n",
    "fig_auc.add_trace(go.Scatter(\n",
    "    x=rounds,\n",
    "    y=val_auc_curve,\n",
    "    mode='lines+markers',\n",
    "    name='Val AUC',\n",
    "    line=dict(color='#19a042')\n",
    "))\n",
    "fig_auc.update_layout(\n",
    "    title='Curva de Aprendizaje / AUC',\n",
    "    xaxis_title='Boosting Rounds',\n",
    "    yaxis_title='AUC',\n",
    "    template='plotly_dark'\n",
    ")\n",
    "fig_auc.show()\n",
    "\n",
    "# --- Gráfico para Log-loss ---\n",
    "fig_logloss = go.Figure()\n",
    "fig_logloss.add_trace(go.Scatter(\n",
    "    x=rounds,\n",
    "    y=train_logloss_curve,\n",
    "    mode='lines+markers',\n",
    "    name='Train Log-loss',\n",
    "    line=dict(color='#da1322')\n",
    "))\n",
    "fig_logloss.add_trace(go.Scatter(\n",
    "    x=rounds,\n",
    "    y=val_logloss_curve,\n",
    "    mode='lines+markers',\n",
    "    name='val Log-loss',\n",
    "    line=dict(color='#19a042')\n",
    "))\n",
    "fig_logloss.update_layout(\n",
    "    title='Curva de Aprendizaje / Log-Loss',\n",
    "    xaxis_title='Boosting Rounds',\n",
    "    yaxis_title='Log-loss',\n",
    "    template='plotly_dark'\n",
    ")\n",
    "fig_logloss.show()\n"
   ]
  },
  {
   "cell_type": "code",
   "execution_count": null,
   "metadata": {},
   "outputs": [],
   "source": [
    "# Model parameters\n",
    "\n",
    "# Ruta al archivo de configuración usando pathlib\n",
    "config_file_path = Path(settings.CONFIG_DIR) / 'config.toml'\n",
    "\n",
    "# Cargar el archivo de configuración existente, o inicializar un diccionario vacío si no existe\n",
    "if config_file_path.exists():\n",
    "    with config_file_path.open('r') as file:\n",
    "        config = toml.load(file)\n",
    "else:\n",
    "    config = {}\n",
    "    \n",
    "# Actualizamos (o agregamos) la sección 'pipeline-feature-selection'\n",
    "final_params.pop('eta', None)\n",
    "final_params['num_boosted_rounds'] = final_model.num_boosted_rounds()\n",
    "config['xgb-tuned-params'] = final_params\n",
    "\n",
    "# Escribimos los cambios en el archivo de configuración\n",
    "with config_file_path.open('w') as file:\n",
    "    toml.dump(config, file)"
   ]
  },
  {
   "cell_type": "code",
   "execution_count": 28,
   "metadata": {},
   "outputs": [],
   "source": [
    "# Unimos los datos de entrenamiento y validación\n",
    "X_train_val = pd.concat([X_train, X_val], axis=0)\n",
    "y_train_val = pd.concat([y_train, y_val], axis=0)\n",
    "\n",
    "# Creamos el DMatrix final\n",
    "dtrain_val = xgb.DMatrix(X_train_val, label=y_train_val)\n",
    "hyper_params = toml.load((str(settings.CONFIG_DIR / 'config.toml')))['xgb-tuned-params']\n",
    "\n",
    "final_model = xgb.train(\n",
    "    hyper_params,\n",
    "    dtrain_val,\n",
    "    num_boost_round=best_trial.user_attrs['best_iteration'],\n",
    "    early_stopping_rounds=None,\n",
    ")"
   ]
  },
  {
   "cell_type": "code",
   "execution_count": 29,
   "metadata": {},
   "outputs": [
    {
     "name": "stdout",
     "output_type": "stream",
     "text": [
      "Train AUC: 0.8769, Train Log-loss: 0.4240\n",
      "Val AUC: 0.8739, Val Log-loss: 0.4269\n",
      "Test AUC: 0.8725, Test Log-loss: 0.4313\n"
     ]
    }
   ],
   "source": [
    "from sklearn.metrics import roc_auc_score, log_loss\n",
    "\n",
    "# Crear DMatrix para train y test\n",
    "dtrain_eval = xgb.DMatrix(X_train, label=y_train)\n",
    "dval_eval = xgb.DMatrix(X_val, label=y_val)\n",
    "dtest_eval  = xgb.DMatrix(X_test, label=y_test)\n",
    "\n",
    "# Obtener las probabilidades predichas para cada conjunto\n",
    "train_preds = final_model.predict(dtrain_eval)  # Para objetivo binario, retorna la probabilidad de la clase 1\n",
    "val_preds  = final_model.predict(dval_eval)\n",
    "test_preds  = final_model.predict(dtest_eval)\n",
    "\n",
    "# Calcular las métricas\n",
    "train_auc = roc_auc_score(y_train, train_preds)\n",
    "train_logloss = log_loss(y_train, train_preds)\n",
    "\n",
    "val_auc = roc_auc_score(y_val, val_preds)\n",
    "val_logloss = log_loss(y_val, val_preds)\n",
    "\n",
    "test_auc = roc_auc_score(y_test, test_preds)\n",
    "test_logloss = log_loss(y_test, test_preds)\n",
    "\n",
    "print(f'Train AUC: {train_auc:.4f}, Train Log-loss: {train_logloss:.4f}')\n",
    "print(f'Val AUC: {val_auc:.4f}, Val Log-loss: {val_logloss:.4f}')\n",
    "print(f'Test AUC: {test_auc:.4f}, Test Log-loss: {test_logloss:.4f}')"
   ]
  },
  {
   "cell_type": "code",
   "execution_count": 30,
   "metadata": {},
   "outputs": [
    {
     "name": "stdout",
     "output_type": "stream",
     "text": [
      "Active run id is: 865a4e3d92d848cf8fd3859016d49f3a\n",
      "Active run name is: amusing-shrike-367\n"
     ]
    }
   ],
   "source": [
    "# ---------------------------\n",
    "# Registrar el modelo final y la curva en MLflow\n",
    "# ---------------------------\n",
    "artifacts_dir = Path(settings.ART_DIR)\n",
    "artifacts_dir.mkdir(parents=True, exist_ok=True)\n",
    "final_model_file = artifacts_dir / 'final_model.json'\n",
    "final_model.save_model(str(final_model_file))\n",
    "\n",
    "with mlflow.start_run() as run:\n",
    "    current_run = mlflow.active_run()\n",
    "    print(f'Active run id is: {current_run.info.run_id}')\n",
    "    print(f'Active run name is: {current_run.info.run_name}')\n",
    "    \n",
    "    mlflow.log_params(best_trial.params)\n",
    "    mlflow.log_metric('best_val_auc', best_trial.value)\n",
    "    mlflow.log_metric('test_auc', test_auc)\n",
    "    mlflow.log_artifact(str(final_model_file), artifact_path='models')\n",
    "    mlflow.end_run()"
   ]
  },
  {
   "cell_type": "code",
   "execution_count": null,
   "metadata": {},
   "outputs": [],
   "source": [
    "!mlflow ui --backend-store-uri \"{settings.MLFLOW_TRACKING_URI}\""
   ]
  }
 ],
 "metadata": {
  "kernelspec": {
   "display_name": "venv-meli-u7R8qZeO-py3.11",
   "language": "python",
   "name": "python3"
  },
  "language_info": {
   "codemirror_mode": {
    "name": "ipython",
    "version": 3
   },
   "file_extension": ".py",
   "mimetype": "text/x-python",
   "name": "python",
   "nbconvert_exporter": "python",
   "pygments_lexer": "ipython3",
   "version": "3.11.11"
  }
 },
 "nbformat": 4,
 "nbformat_minor": 4
}
