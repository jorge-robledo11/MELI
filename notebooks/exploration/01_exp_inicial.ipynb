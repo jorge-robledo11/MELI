{
 "cells": [
  {
   "cell_type": "code",
   "execution_count": 74,
   "metadata": {},
   "outputs": [
    {
     "name": "stdout",
     "output_type": "stream",
     "text": [
      "The autoreload extension is already loaded. To reload it, use:\n",
      "  %reload_ext autoreload\n"
     ]
    },
    {
     "data": {
      "text/plain": [
       "polars.config.Config"
      ]
     },
     "execution_count": 74,
     "metadata": {},
     "output_type": "execute_result"
    }
   ],
   "source": [
    "import sys\n",
    "from pathlib import Path\n",
    "sys.path.append(str(Path.cwd().parent.parent))\n",
    "\n",
    "from src.data_prep.preprocessors import *\n",
    "%load_ext autoreload\n",
    "%autoreload 2\n",
    "\n",
    "import json\n",
    "import polars as pl\n",
    "import warnings\n",
    "warnings.simplefilter('ignore')\n",
    "\n",
    "pl.Config.set_tbl_cols(100)"
   ]
  },
  {
   "cell_type": "code",
   "execution_count": null,
   "metadata": {},
   "outputs": [],
   "source": [
    "# df.select([col for col in df.collect_schema().names() if 'price' in col]).sample(10, seed=42)\n",
    "# data_processed.select([col for col, dtype in data_processed.schema.items() if dtype == pl.Utf8]).sample(10, seed=42)\n",
    "# data_processed.select([col for col in data_processed.collect_schema().names() if 'DATE' in col])"
   ]
  },
  {
   "cell_type": "code",
   "execution_count": 2,
   "metadata": {},
   "outputs": [
    {
     "name": "stdout",
     "output_type": "stream",
     "text": [
      "Cargando dataset...\n"
     ]
    }
   ],
   "source": [
    "\"\"\"\n",
    "Clasificación de artículos nuevos/usados para MercadoLibre\n",
    "\"\"\"\n",
    "\n",
    "def build_dataset():\n",
    "    \"\"\"Carga y prepara los datos de entrenamiento y prueba\"\"\"\n",
    "    data_raw = [json.loads(line) for line in open('../../data/raw/MLA_100k_checked_v3.jsonlines')]\n",
    "    return data_raw\n",
    "\n",
    "if __name__ == \"__main__\":\n",
    "    print(\"Cargando dataset...\")\n",
    "    # Convención de nomenclatura de sklearn:\n",
    "    # - X_train/X_test: Lista de diccionarios con features\n",
    "    # - y_train/y_test: Etiquetas ('new' o 'used')\n",
    "    data_raw = build_dataset()\n",
    "    \n",
    "    # ------------------------------------------\n",
    "    # Insertar código de ML aquí:\n",
    "    # - Preprocesamiento\n",
    "    # - Entrenamiento del modelo\n",
    "    # - Evaluación\n",
    "    # ------------------------------------------"
   ]
  },
  {
   "cell_type": "code",
   "execution_count": 80,
   "metadata": {},
   "outputs": [
    {
     "name": "stdout",
     "output_type": "stream",
     "text": [
      "Número de registros después de la transformación: 1459114\n",
      "Número de columnas después de la transformación: 30\n",
      "shape: (30, 2)\n",
      "┌───────────────────────────┬──────────┐\n",
      "│ variable                  ┆ value    │\n",
      "│ ---                       ┆ ---      │\n",
      "│ str                       ┆ f64      │\n",
      "╞═══════════════════════════╪══════════╡\n",
      "│ attr_attribute_group_name ┆ 0.174394 │\n",
      "│ attr_attribute_group_id   ┆ 0.174298 │\n",
      "│ attr_name                 ┆ 0.174298 │\n",
      "│ attr_id                   ┆ 0.174298 │\n",
      "│ seller_address_city       ┆ 0.000669 │\n",
      "│ …                         ┆ …        │\n",
      "│ status                    ┆ 0.0      │\n",
      "│ initial_quantity          ┆ 0.0      │\n",
      "│ start_time                ┆ 0.0      │\n",
      "│ sold_quantity             ┆ 0.0      │\n",
      "│ available_quantity        ┆ 0.0      │\n",
      "└───────────────────────────┴──────────┘\n"
     ]
    }
   ],
   "source": [
    "# Preprocesadores\n",
    "from sklearn.pipeline import Pipeline\n",
    "\n",
    "# Definir la pipeline (asegúrate de que todos los transformadores trabajen con LazyFrame)\n",
    "pipe = Pipeline([\n",
    "    ('raw_data', RawDataPreprocessor()),\n",
    "    ('rename_columns', ColumnsRenameTransformer()),\n",
    "    ('date_columns', DateColumnsTransformer(patterns=['time', 'date'])),\n",
    "    ('duplicated_columns', DropDuplicateColumnsTransformer()),\n",
    "    ('duplicated_rows', DropDuplicatedRowsTransformer()),\n",
    "    ('nan_values', FillMissingValuesTransformer()),\n",
    "    ('drop_columns', DropColumnsTransformer(0.2)),\n",
    "    ('unnecessary_columns', DropUnnecessaryColumnsTransformer()),\n",
    "    ('categorical_columns', CategoricalColumnsTransformer()),\n",
    "    ('numeric_columns', NumericColumnTransformer()),\n",
    "])\n",
    "\n",
    "# Aplicar la pipeline a los datos y materializar el resultado (en este caso usando GPU si es posible)\n",
    "data_processed = pipe.fit_transform(data_raw).collect()\n",
    "\n",
    "# Contar registros después de la transformación\n",
    "row_count_after = data_processed.select(pl.count(\"*\"))[0, 0]\n",
    "\n",
    "# Contar columnas después de la transformación (ahora data_processed es un DataFrame eager)\n",
    "col_count_after = len(data_processed.columns)\n",
    "\n",
    "print(f'Número de registros después de la transformación: {row_count_after}')\n",
    "print(f'Número de columnas después de la transformación: {col_count_after}')\n",
    "\n",
    "# Supongamos que 'df' es tu DataFrame de Polars\n",
    "missing_percentages = (\n",
    "    data_processed.select([pl.col(c).is_null().mean().alias(c) for c in data_processed.collect_schema().names()])\n",
    "      .unpivot()  # Convierte el DataFrame de una sola fila a dos columnas: 'variable' y 'value'\n",
    "      .sort(\"value\", descending=True)  # Ordena de mayor a menor según el porcentaje de nulos\n",
    ")\n",
    "\n",
    "print(missing_percentages)"
   ]
  },
  {
   "cell_type": "code",
   "execution_count": 82,
   "metadata": {},
   "outputs": [
    {
     "name": "stdout",
     "output_type": "stream",
     "text": [
      "Filas duplicadas en product_id:\n",
      "1427588\n"
     ]
    }
   ],
   "source": [
    "df_product_dup = data_processed.filter(pl.col('product_id').is_duplicated())\n",
    "print('Filas duplicadas en product_id:')\n",
    "print(len(df_product_dup))"
   ]
  },
  {
   "cell_type": "code",
   "execution_count": 84,
   "metadata": {},
   "outputs": [
    {
     "data": {
      "text/html": [
       "<div><style>\n",
       ".dataframe > thead > tr,\n",
       ".dataframe > tbody > tr {\n",
       "  text-align: right;\n",
       "  white-space: pre-wrap;\n",
       "}\n",
       "</style>\n",
       "<small>shape: (100_000, 3)</small><table border=\"1\" class=\"dataframe\"><thead><tr><th>product_id</th><th>title</th><th>count</th></tr><tr><td>str</td><td>str</td><td>u32</td></tr></thead><tbody><tr><td>&quot;mla6356328214&quot;</td><td>&quot;remeras&nbsp;super&nbsp;héroes&nbsp;/&nbsp;marvel&nbsp;…</td><td>7616</td></tr><tr><td>&quot;mla1470121909&quot;</td><td>&quot;chelsea&nbsp;market&nbsp;jean&nbsp;mujer&nbsp;chup…</td><td>5346</td></tr><tr><td>&quot;mla1807504057&quot;</td><td>&quot;zapatillas&nbsp;sneakers&nbsp;plataforma…</td><td>5184</td></tr><tr><td>&quot;mla6655124735&quot;</td><td>&quot;campera&nbsp;nena&nbsp;modal&nbsp;estampada&nbsp;b…</td><td>4536</td></tr><tr><td>&quot;mla2618837555&quot;</td><td>&quot;pantuflas&nbsp;garras&nbsp;mujer-niñas&nbsp;m…</td><td>3888</td></tr><tr><td>&hellip;</td><td>&hellip;</td><td>&hellip;</td></tr><tr><td>&quot;mla8638365276&quot;</td><td>&quot;mujeres&nbsp;benefactoras&nbsp;del&nbsp;mundo…</td><td>1</td></tr><tr><td>&quot;mla7548005604&quot;</td><td>&quot;cuna&nbsp;funcional&nbsp;de&nbsp;melamina&quot;</td><td>1</td></tr><tr><td>&quot;mla5273913810&quot;</td><td>&quot;super&nbsp;colección&nbsp;corto&nbsp;maltés&nbsp;n…</td><td>1</td></tr><tr><td>&quot;mla1898540841&quot;</td><td>&quot;pelota&nbsp;futbol&nbsp;penalty&nbsp;campo&nbsp;nr…</td><td>1</td></tr><tr><td>&quot;mla3188018687&quot;</td><td>&quot;josé&nbsp;manuel&nbsp;moneta&nbsp;-&nbsp;cuatro&nbsp;añ…</td><td>1</td></tr></tbody></table></div>"
      ],
      "text/plain": [
       "shape: (100_000, 3)\n",
       "┌───────────────┬─────────────────────────────────┬───────┐\n",
       "│ product_id    ┆ title                           ┆ count │\n",
       "│ ---           ┆ ---                             ┆ ---   │\n",
       "│ str           ┆ str                             ┆ u32   │\n",
       "╞═══════════════╪═════════════════════════════════╪═══════╡\n",
       "│ mla6356328214 ┆ remeras super héroes / marvel … ┆ 7616  │\n",
       "│ mla1470121909 ┆ chelsea market jean mujer chup… ┆ 5346  │\n",
       "│ mla1807504057 ┆ zapatillas sneakers plataforma… ┆ 5184  │\n",
       "│ mla6655124735 ┆ campera nena modal estampada b… ┆ 4536  │\n",
       "│ mla2618837555 ┆ pantuflas garras mujer-niñas m… ┆ 3888  │\n",
       "│ …             ┆ …                               ┆ …     │\n",
       "│ mla8638365276 ┆ mujeres benefactoras del mundo… ┆ 1     │\n",
       "│ mla7548005604 ┆ cuna funcional de melamina      ┆ 1     │\n",
       "│ mla5273913810 ┆ super colección corto maltés n… ┆ 1     │\n",
       "│ mla1898540841 ┆ pelota futbol penalty campo nr… ┆ 1     │\n",
       "│ mla3188018687 ┆ josé manuel moneta - cuatro añ… ┆ 1     │\n",
       "└───────────────┴─────────────────────────────────┴───────┘"
      ]
     },
     "execution_count": 84,
     "metadata": {},
     "output_type": "execute_result"
    }
   ],
   "source": [
    "# Conteo de productos únicos\n",
    "data_processed.group_by('product_id', 'title').agg(pl.count('product_id').alias('count')).sort('count', descending=True)"
   ]
  },
  {
   "cell_type": "code",
   "execution_count": 81,
   "metadata": {},
   "outputs": [
    {
     "data": {
      "text/html": [
       "<div><style>\n",
       ".dataframe > thead > tr,\n",
       ".dataframe > tbody > tr {\n",
       "  text-align: right;\n",
       "  white-space: pre-wrap;\n",
       "}\n",
       "</style>\n",
       "<small>shape: (1, 30)</small><table border=\"1\" class=\"dataframe\"><thead><tr><th>seller_address_country</th><th>seller_address_state</th><th>seller_address_city</th><th>condition</th><th>base_price</th><th>shipping_local_pick_up</th><th>shipping_free_shipping</th><th>shipping_mode</th><th>seller_id</th><th>site_id</th><th>listing_type_id</th><th>attr_attribute_group_id</th><th>attr_name</th><th>attr_attribute_group_name</th><th>attr_id</th><th>buying_mode</th><th>category_id</th><th>last_updated</th><th>product_id</th><th>accepts_mercadopago</th><th>currency_id</th><th>title</th><th>automatic_relist</th><th>date_created</th><th>stop_time</th><th>status</th><th>initial_quantity</th><th>start_time</th><th>sold_quantity</th><th>available_quantity</th></tr><tr><td>str</td><td>str</td><td>str</td><td>str</td><td>f64</td><td>bool</td><td>bool</td><td>str</td><td>i64</td><td>str</td><td>str</td><td>str</td><td>str</td><td>str</td><td>str</td><td>str</td><td>str</td><td>datetime[ms]</td><td>str</td><td>bool</td><td>str</td><td>str</td><td>bool</td><td>datetime[ms]</td><td>datetime[ms]</td><td>str</td><td>i64</td><td>datetime[ms]</td><td>i64</td><td>i64</td></tr></thead><tbody><tr><td>&quot;argentina&quot;</td><td>&quot;buenos&nbsp;aires&quot;</td><td>&quot;caseros&quot;</td><td>&quot;used&quot;</td><td>44900.0</td><td>false</td><td>false</td><td>&quot;not_specified&quot;</td><td>4421644297</td><td>&quot;mla&quot;</td><td>&quot;silver&quot;</td><td>&quot;confort&quot;</td><td>&quot;asientos&nbsp;eléctricos&quot;</td><td>&quot;confort&quot;</td><td>&quot;mla1744-asienelec&quot;</td><td>&quot;classified&quot;</td><td>&quot;mla24282&quot;</td><td>2015-10-09&nbsp;15:55:48</td><td>&quot;mla5192131886&quot;</td><td>false</td><td>&quot;ars&quot;</td><td>&quot;volkswagen&nbsp;golf&nbsp;2.0&nbsp;2011&nbsp;dado&nbsp;…</td><td>false</td><td>2015-08-09&nbsp;10:37:48</td><td>2015-11-10&nbsp;15:48:59.901</td><td>&quot;active&quot;</td><td>1</td><td>2015-08-09&nbsp;10:37:47</td><td>0</td><td>1</td></tr></tbody></table></div>"
      ],
      "text/plain": [
       "shape: (1, 30)\n",
       "┌─────┬─────┬─────┬─────┬─────┬─────┬─────┬─────┬─────┬─────┬─────┬─────┬─────┬─────┬─────┬─────┬─────┬─────┬─────┬─────┬─────┬─────┬─────┬─────┬─────┬─────┬─────┬─────┬─────┬─────┐\n",
       "│ sel ┆ sel ┆ sel ┆ con ┆ bas ┆ shi ┆ shi ┆ shi ┆ sel ┆ sit ┆ lis ┆ att ┆ att ┆ att ┆ att ┆ buy ┆ cat ┆ las ┆ pro ┆ acc ┆ cur ┆ tit ┆ aut ┆ dat ┆ sto ┆ sta ┆ ini ┆ sta ┆ sol ┆ ava │\n",
       "│ ler ┆ ler ┆ ler ┆ dit ┆ e_p ┆ ppi ┆ ppi ┆ ppi ┆ ler ┆ e_i ┆ tin ┆ r_a ┆ r_n ┆ r_a ┆ r_i ┆ ing ┆ ego ┆ t_u ┆ duc ┆ ept ┆ ren ┆ le  ┆ oma ┆ e_c ┆ p_t ┆ tus ┆ tia ┆ rt_ ┆ d_q ┆ ila │\n",
       "│ _ad ┆ _ad ┆ _ad ┆ ion ┆ ric ┆ ng_ ┆ ng_ ┆ ng_ ┆ _id ┆ d   ┆ g_t ┆ ttr ┆ ame ┆ ttr ┆ d   ┆ _mo ┆ ry_ ┆ pda ┆ t_i ┆ s_m ┆ cy_ ┆ --- ┆ tic ┆ rea ┆ ime ┆ --- ┆ l_q ┆ tim ┆ uan ┆ ble │\n",
       "│ dre ┆ dre ┆ dre ┆ --- ┆ e   ┆ loc ┆ fre ┆ mod ┆ --- ┆ --- ┆ ype ┆ ibu ┆ --- ┆ ibu ┆ --- ┆ de  ┆ id  ┆ ted ┆ d   ┆ erc ┆ id  ┆ str ┆ _re ┆ ted ┆ --- ┆ str ┆ uan ┆ e   ┆ tit ┆ _qu │\n",
       "│ ss_ ┆ ss_ ┆ ss_ ┆ str ┆ --- ┆ al_ ┆ e_s ┆ e   ┆ i64 ┆ str ┆ _id ┆ te_ ┆ str ┆ te_ ┆ str ┆ --- ┆ --- ┆ --- ┆ --- ┆ ado ┆ --- ┆     ┆ lis ┆ --- ┆ dat ┆     ┆ tit ┆ --- ┆ y   ┆ ant │\n",
       "│ cou ┆ sta ┆ cit ┆     ┆ f64 ┆ pic ┆ hip ┆ --- ┆     ┆     ┆ --- ┆ gro ┆     ┆ gro ┆     ┆ str ┆ str ┆ dat ┆ str ┆ pag ┆ str ┆     ┆ t   ┆ dat ┆ eti ┆     ┆ y   ┆ dat ┆ --- ┆ ity │\n",
       "│ ntr ┆ te  ┆ y   ┆     ┆     ┆ k_u ┆ pin ┆ str ┆     ┆     ┆ str ┆ up_ ┆     ┆ up_ ┆     ┆     ┆     ┆ eti ┆     ┆ o   ┆     ┆     ┆ --- ┆ eti ┆ me[ ┆     ┆ --- ┆ eti ┆ i64 ┆ --- │\n",
       "│ y   ┆ --- ┆ --- ┆     ┆     ┆ p   ┆ g   ┆     ┆     ┆     ┆     ┆ id  ┆     ┆ nam ┆     ┆     ┆     ┆ me[ ┆     ┆ --- ┆     ┆     ┆ boo ┆ me[ ┆ ms] ┆     ┆ i64 ┆ me[ ┆     ┆ i64 │\n",
       "│ --- ┆ str ┆ str ┆     ┆     ┆ --- ┆ --- ┆     ┆     ┆     ┆     ┆ --- ┆     ┆ e   ┆     ┆     ┆     ┆ ms] ┆     ┆ boo ┆     ┆     ┆ l   ┆ ms] ┆     ┆     ┆     ┆ ms] ┆     ┆     │\n",
       "│ str ┆     ┆     ┆     ┆     ┆ boo ┆ boo ┆     ┆     ┆     ┆     ┆ str ┆     ┆ --- ┆     ┆     ┆     ┆     ┆     ┆ l   ┆     ┆     ┆     ┆     ┆     ┆     ┆     ┆     ┆     ┆     │\n",
       "│     ┆     ┆     ┆     ┆     ┆ l   ┆ l   ┆     ┆     ┆     ┆     ┆     ┆     ┆ str ┆     ┆     ┆     ┆     ┆     ┆     ┆     ┆     ┆     ┆     ┆     ┆     ┆     ┆     ┆     ┆     │\n",
       "╞═════╪═════╪═════╪═════╪═════╪═════╪═════╪═════╪═════╪═════╪═════╪═════╪═════╪═════╪═════╪═════╪═════╪═════╪═════╪═════╪═════╪═════╪═════╪═════╪═════╪═════╪═════╪═════╪═════╪═════╡\n",
       "│ arg ┆ bue ┆ cas ┆ use ┆ 449 ┆ fal ┆ fal ┆ not ┆ 442 ┆ mla ┆ sil ┆ con ┆ asi ┆ con ┆ mla ┆ cla ┆ mla ┆ 201 ┆ mla ┆ fal ┆ ars ┆ vol ┆ fal ┆ 201 ┆ 201 ┆ act ┆ 1   ┆ 201 ┆ 0   ┆ 1   │\n",
       "│ ent ┆ nos ┆ ero ┆ d   ┆ 00. ┆ se  ┆ se  ┆ _sp ┆ 164 ┆     ┆ ver ┆ for ┆ ent ┆ for ┆ 174 ┆ ssi ┆ 242 ┆ 5-1 ┆ 519 ┆ se  ┆     ┆ ksw ┆ se  ┆ 5-0 ┆ 5-1 ┆ ive ┆     ┆ 5-0 ┆     ┆     │\n",
       "│ ina ┆ air ┆ s   ┆     ┆ 0   ┆     ┆     ┆ eci ┆ 429 ┆     ┆     ┆ t   ┆ os  ┆ t   ┆ 4-a ┆ fie ┆ 82  ┆ 0-0 ┆ 213 ┆     ┆     ┆ age ┆     ┆ 8-0 ┆ 1-1 ┆     ┆     ┆ 8-0 ┆     ┆     │\n",
       "│     ┆ es  ┆     ┆     ┆     ┆     ┆     ┆ fie ┆ 7   ┆     ┆     ┆     ┆ elé ┆     ┆ sie ┆ d   ┆     ┆ 9   ┆ 188 ┆     ┆     ┆ n   ┆     ┆ 9   ┆ 0   ┆     ┆     ┆ 9   ┆     ┆     │\n",
       "│     ┆     ┆     ┆     ┆     ┆     ┆     ┆ d   ┆     ┆     ┆     ┆     ┆ ctr ┆     ┆ nel ┆     ┆     ┆ 15: ┆ 6   ┆     ┆     ┆ gol ┆     ┆ 10: ┆ 15: ┆     ┆     ┆ 10: ┆     ┆     │\n",
       "│     ┆     ┆     ┆     ┆     ┆     ┆     ┆     ┆     ┆     ┆     ┆     ┆ ico ┆     ┆ ec  ┆     ┆     ┆ 55: ┆     ┆     ┆     ┆ f   ┆     ┆ 37: ┆ 48: ┆     ┆     ┆ 37: ┆     ┆     │\n",
       "│     ┆     ┆     ┆     ┆     ┆     ┆     ┆     ┆     ┆     ┆     ┆     ┆ s   ┆     ┆     ┆     ┆     ┆ 48  ┆     ┆     ┆     ┆ 2.0 ┆     ┆ 48  ┆ 59. ┆     ┆     ┆ 47  ┆     ┆     │\n",
       "│     ┆     ┆     ┆     ┆     ┆     ┆     ┆     ┆     ┆     ┆     ┆     ┆     ┆     ┆     ┆     ┆     ┆     ┆     ┆     ┆     ┆ 201 ┆     ┆     ┆ 901 ┆     ┆     ┆     ┆     ┆     │\n",
       "│     ┆     ┆     ┆     ┆     ┆     ┆     ┆     ┆     ┆     ┆     ┆     ┆     ┆     ┆     ┆     ┆     ┆     ┆     ┆     ┆     ┆ 1   ┆     ┆     ┆     ┆     ┆     ┆     ┆     ┆     │\n",
       "│     ┆     ┆     ┆     ┆     ┆     ┆     ┆     ┆     ┆     ┆     ┆     ┆     ┆     ┆     ┆     ┆     ┆     ┆     ┆     ┆     ┆ dad ┆     ┆     ┆     ┆     ┆     ┆     ┆     ┆     │\n",
       "│     ┆     ┆     ┆     ┆     ┆     ┆     ┆     ┆     ┆     ┆     ┆     ┆     ┆     ┆     ┆     ┆     ┆     ┆     ┆     ┆     ┆ o … ┆     ┆     ┆     ┆     ┆     ┆     ┆     ┆     │\n",
       "└─────┴─────┴─────┴─────┴─────┴─────┴─────┴─────┴─────┴─────┴─────┴─────┴─────┴─────┴─────┴─────┴─────┴─────┴─────┴─────┴─────┴─────┴─────┴─────┴─────┴─────┴─────┴─────┴─────┴─────┘"
      ]
     },
     "execution_count": 81,
     "metadata": {},
     "output_type": "execute_result"
    }
   ],
   "source": [
    "data_processed[0]"
   ]
  },
  {
   "cell_type": "code",
   "execution_count": 85,
   "metadata": {},
   "outputs": [],
   "source": [
    "# Enviar datos provisionales\n",
    "data_processed.write_parquet('../../data/interim/data_interim.parquet')"
   ]
  },
  {
   "cell_type": "code",
   "execution_count": 4,
   "metadata": {},
   "outputs": [
    {
     "data": {
      "text/plain": [
       "Schema([('seller_address',\n",
       "         Struct({'country': Struct({'name': String, 'id': String}), 'state': Struct({'name': String, 'id': String}), 'city': Struct({'name': String, 'id': String})})),\n",
       "        ('warranty', String),\n",
       "        ('sub_status', List(String)),\n",
       "        ('condition', String),\n",
       "        ('deal_ids', List(String)),\n",
       "        ('base_price', Float64),\n",
       "        ('shipping',\n",
       "         Struct({'local_pick_up': Boolean, 'methods': List(Null), 'tags': List(String), 'free_shipping': Boolean, 'mode': String, 'dimensions': String, 'free_methods': List(Struct({'rule': Struct({'value': Null, 'free_mode': String}), 'id': Int64}))})),\n",
       "        ('non_mercado_pago_payment_methods',\n",
       "         List(Struct({'description': String, 'id': String, 'type': String}))),\n",
       "        ('seller_id', Int64),\n",
       "        ('variations',\n",
       "         List(Struct({'attribute_combinations': List(Struct({'value_id': String, 'name': String, 'value_name': String, 'id': String})), 'seller_custom_field': String, 'picture_ids': List(String), 'sold_quantity': Int64, 'available_quantity': Int64, 'id': Int64, 'price': Float64}))),\n",
       "        ('site_id', String),\n",
       "        ('listing_type_id', String),\n",
       "        ('price', Float64),\n",
       "        ('attributes',\n",
       "         List(Struct({'value_id': String, 'attribute_group_id': String, 'name': String, 'value_name': String, 'attribute_group_name': String, 'id': String}))),\n",
       "        ('buying_mode', String),\n",
       "        ('tags', List(String)),\n",
       "        ('listing_source', String),\n",
       "        ('parent_item_id', String),\n",
       "        ('coverage_areas', List(Null)),\n",
       "        ('category_id', String),\n",
       "        ('descriptions', List(String)),\n",
       "        ('last_updated', String),\n",
       "        ('international_delivery_mode', String),\n",
       "        ('pictures',\n",
       "         List(Struct({'size': String, 'secure_url': String, 'max_size': String, 'url': String, 'quality': String, 'id': String}))),\n",
       "        ('id', String),\n",
       "        ('official_store_id', Float64),\n",
       "        ('differential_pricing', Null),\n",
       "        ('accepts_mercadopago', Boolean),\n",
       "        ('original_price', Float64),\n",
       "        ('currency_id', String),\n",
       "        ('thumbnail', String),\n",
       "        ('title', String),\n",
       "        ('automatic_relist', Boolean),\n",
       "        ('date_created', String),\n",
       "        ('secure_thumbnail', String),\n",
       "        ('stop_time', Int64),\n",
       "        ('status', String),\n",
       "        ('video_id', String),\n",
       "        ('catalog_product_id', Float64),\n",
       "        ('subtitle', Null),\n",
       "        ('initial_quantity', Int64),\n",
       "        ('start_time', Int64),\n",
       "        ('permalink', String),\n",
       "        ('sold_quantity', Int64),\n",
       "        ('available_quantity', Int64)])"
      ]
     },
     "execution_count": 4,
     "metadata": {},
     "output_type": "execute_result"
    }
   ],
   "source": [
    "# Esquema original\n",
    "df = pl.DataFrame(data_raw, infer_schema_length=len(data_raw))\n",
    "df.schema"
   ]
  },
  {
   "cell_type": "code",
   "execution_count": 4,
   "metadata": {},
   "outputs": [
    {
     "data": {
      "text/plain": [
       "Schema([('sub_status', List(String)),\n",
       "        ('deal_ids', List(String)),\n",
       "        ('non_mercado_pago_payment_methods',\n",
       "         List(Struct({'description': String, 'id': String, 'type': String}))),\n",
       "        ('variations',\n",
       "         List(Struct({'attribute_combinations': List(Struct({'value_id': String, 'name': String, 'value_name': String, 'id': String})), 'seller_custom_field': String, 'picture_ids': List(String), 'sold_quantity': Int64, 'available_quantity': Int64, 'id': Int64, 'price': Float64}))),\n",
       "        ('attributes',\n",
       "         List(Struct({'value_id': String, 'attribute_group_id': String, 'name': String, 'value_name': String, 'attribute_group_name': String, 'id': String}))),\n",
       "        ('tags', List(String)),\n",
       "        ('coverage_areas', List(Null)),\n",
       "        ('descriptions', List(String)),\n",
       "        ('pictures',\n",
       "         List(Struct({'size': String, 'secure_url': String, 'max_size': String, 'url': String, 'quality': String, 'id': String})))])"
      ]
     },
     "execution_count": 4,
     "metadata": {},
     "output_type": "execute_result"
    }
   ],
   "source": [
    "# Columnas anidadas\n",
    "df = pl.DataFrame(data_raw, infer_schema_length=len(data_raw))\n",
    "df = df.select([col for col, dtype in df.schema.items() if dtype == pl.List])\n",
    "df.schema"
   ]
  },
  {
   "cell_type": "code",
   "execution_count": 5,
   "metadata": {},
   "outputs": [
    {
     "data": {
      "text/plain": [
       "['sub_status',\n",
       " 'deal_ids',\n",
       " 'non_mercado_pago_payment_methods',\n",
       " 'variations',\n",
       " 'attributes',\n",
       " 'tags',\n",
       " 'coverage_areas',\n",
       " 'descriptions',\n",
       " 'pictures']"
      ]
     },
     "execution_count": 5,
     "metadata": {},
     "output_type": "execute_result"
    }
   ],
   "source": [
    "# Columnas \"complejas\"\n",
    "df.columns"
   ]
  },
  {
   "cell_type": "code",
   "execution_count": 3,
   "metadata": {},
   "outputs": [],
   "source": [
    "# Asumiendo que \"data_raw\" es tu lista de registros\n",
    "df = pl.DataFrame(data_raw, infer_schema_length=len(data_raw)).rename({'id': 'product_id'})\n",
    "\n",
    "# ================================\n",
    "# 1. Columnas con listas de strings simples\n",
    "list_string_columns = ['sub_status', 'deal_ids', 'tags', 'descriptions']\n",
    "for col in list_string_columns:\n",
    "    # Une los elementos de la lista en una cadena separada por comas.\n",
    "    df = df.with_columns(\n",
    "        pl.col(col).list.join(',').alias(col)\n",
    "    )\n",
    "\n",
    "# ================================\n",
    "# 2. Columnas con listas de estructuras (tipo List(Struct))\n",
    "complex_cols = [\n",
    "    ('non_mercado_pago_payment_methods', 'nmp_pm'),\n",
    "    ('variations', 'var'),\n",
    "    ('attributes', 'attr'),\n",
    "    ('pictures', 'pic')\n",
    "]\n",
    "for original_col, prefix in complex_cols:\n",
    "    # Accedemos a los nombres de los campos del struct interno\n",
    "    current_field_names = [field.name for field in df.schema[original_col].inner.fields]\n",
    "    # Generamos nuevos nombres usando el prefijo (por ejemplo, \"nmp_pm_id\" en vez de \"id\")\n",
    "    new_field_names = [f'{prefix}_{name}' for name in current_field_names]\n",
    "    \n",
    "    # Renombrar internamente cada elemento (struct) de la lista usando list.eval\n",
    "    df = df.with_columns(\n",
    "        pl.col(original_col).list.eval(\n",
    "            pl.element().struct.rename_fields(new_field_names),\n",
    "            parallel=True\n",
    "        ).alias(original_col)\n",
    "    )\n",
    "    \n",
    "    # Explota y desanida la columna ya renombrada\n",
    "    df = df.explode(original_col).unnest(original_col)\n",
    "\n",
    "# ================================\n",
    "# 3. Columnas con estructuras anidadas (tipo Struct)\n",
    "# Estas columnas ya son dict (struct) y al unnest pueden generar nombres conflictivos.\n",
    "struct_cols = ['seller_address', 'shipping']\n",
    "for col in struct_cols:\n",
    "    # Obtener los nombres actuales de los campos del struct\n",
    "    current_field_names = [field.name for field in df.schema[col].fields]\n",
    "    # Generar nuevos nombres agregando el nombre de la columna como prefijo\n",
    "    new_field_names = [f\"{col}_{name}\" for name in current_field_names]\n",
    "    # Renombrar internamente los campos del struct\n",
    "    df = df.with_columns(\n",
    "        pl.col(col).struct.rename_fields(new_field_names).alias(col)\n",
    "    )\n",
    "    # Unnest para pasar los campos a columnas\n",
    "    df = df.unnest(col)\n",
    "\n",
    "# Para seller_address, extraemos el campo \"name\" de cada subcolumna para obtener un valor string\n",
    "seller_address_cols = ['seller_address_country', 'seller_address_state', 'seller_address_city']\n",
    "for col in seller_address_cols:\n",
    "    # Se extrae el campo \"name\" del struct\n",
    "    df = df.with_columns(\n",
    "        pl.col(col).struct.field('name').alias(col)\n",
    "    )\n",
    "\n",
    "# ================================\n",
    "# 4. Columnas especiales\n",
    "# Procesar shipping.free_methods (si existe)\n",
    "if 'shipping_free_methods' in df.columns:\n",
    "    df = df.explode('shipping_free_methods').unnest('shipping_free_methods')\n",
    "    # Si existe la subestructura 'rule', desempaquetarla y renombrar sus campos\n",
    "    if 'rule' in df.columns:\n",
    "        df = df.unnest('rule').rename({\n",
    "            'value': 'rule_value',\n",
    "            'free_mode': 'rule_free_mode'\n",
    "        })\n",
    "\n",
    "# Procesar variations.attribute_combinations (si existe)\n",
    "if 'var_attribute_combinations' in df.columns:\n",
    "    prefix = 'var_comb'\n",
    "    current_field_names = [field.name for field in df.schema['var_attribute_combinations'].inner.fields]\n",
    "    new_field_names = [f'{prefix}_{name}' for name in current_field_names]\n",
    "    df = df.with_columns(\n",
    "         pl.col('var_attribute_combinations').list.eval(\n",
    "             pl.element().struct.rename_fields(new_field_names),\n",
    "             parallel=True\n",
    "         ).alias('var_attribute_combinations')\n",
    "    )\n",
    "    df = df.explode('var_attribute_combinations').unnest('var_attribute_combinations')\n"
   ]
  },
  {
   "cell_type": "code",
   "execution_count": 7,
   "metadata": {},
   "outputs": [
    {
     "data": {
      "text/plain": [
       "Schema([('seller_address_country', String),\n",
       "        ('seller_address_state', String),\n",
       "        ('seller_address_city', String),\n",
       "        ('warranty', String),\n",
       "        ('sub_status', String),\n",
       "        ('condition', String),\n",
       "        ('deal_ids', String),\n",
       "        ('base_price', Float64),\n",
       "        ('shipping_local_pick_up', Boolean),\n",
       "        ('shipping_methods', List(Null)),\n",
       "        ('shipping_tags', List(String)),\n",
       "        ('shipping_free_shipping', Boolean),\n",
       "        ('shipping_mode', String),\n",
       "        ('shipping_dimensions', String),\n",
       "        ('rule_value', Null),\n",
       "        ('rule_free_mode', String),\n",
       "        ('id', Int64),\n",
       "        ('nmp_pm_description', String),\n",
       "        ('nmp_pm_id', String),\n",
       "        ('nmp_pm_type', String),\n",
       "        ('seller_id', Int64),\n",
       "        ('var_comb_value_id', String),\n",
       "        ('var_comb_name', String),\n",
       "        ('var_comb_value_name', String),\n",
       "        ('var_comb_id', String),\n",
       "        ('var_seller_custom_field', String),\n",
       "        ('var_picture_ids', List(String)),\n",
       "        ('var_sold_quantity', Int64),\n",
       "        ('var_available_quantity', Int64),\n",
       "        ('var_id', Int64),\n",
       "        ('var_price', Float64),\n",
       "        ('site_id', String),\n",
       "        ('listing_type_id', String),\n",
       "        ('price', Float64),\n",
       "        ('attr_value_id', String),\n",
       "        ('attr_attribute_group_id', String),\n",
       "        ('attr_name', String),\n",
       "        ('attr_value_name', String),\n",
       "        ('attr_attribute_group_name', String),\n",
       "        ('attr_id', String),\n",
       "        ('buying_mode', String),\n",
       "        ('tags', String),\n",
       "        ('listing_source', String),\n",
       "        ('parent_item_id', String),\n",
       "        ('coverage_areas', List(Null)),\n",
       "        ('category_id', String),\n",
       "        ('descriptions', String),\n",
       "        ('last_updated', String),\n",
       "        ('international_delivery_mode', String),\n",
       "        ('pic_size', String),\n",
       "        ('pic_secure_url', String),\n",
       "        ('pic_max_size', String),\n",
       "        ('pic_url', String),\n",
       "        ('pic_quality', String),\n",
       "        ('pic_id', String),\n",
       "        ('product_id', String),\n",
       "        ('official_store_id', Float64),\n",
       "        ('differential_pricing', Null),\n",
       "        ('accepts_mercadopago', Boolean),\n",
       "        ('original_price', Float64),\n",
       "        ('currency_id', String),\n",
       "        ('thumbnail', String),\n",
       "        ('title', String),\n",
       "        ('automatic_relist', Boolean),\n",
       "        ('date_created', String),\n",
       "        ('secure_thumbnail', String),\n",
       "        ('stop_time', Int64),\n",
       "        ('status', String),\n",
       "        ('video_id', String),\n",
       "        ('catalog_product_id', Float64),\n",
       "        ('subtitle', Null),\n",
       "        ('initial_quantity', Int64),\n",
       "        ('start_time', Int64),\n",
       "        ('permalink', String),\n",
       "        ('sold_quantity', Int64),\n",
       "        ('available_quantity', Int64)])"
      ]
     },
     "execution_count": 7,
     "metadata": {},
     "output_type": "execute_result"
    }
   ],
   "source": [
    "df.collect_schema()"
   ]
  },
  {
   "cell_type": "code",
   "execution_count": 8,
   "metadata": {},
   "outputs": [
    {
     "name": "stdout",
     "output_type": "stream",
     "text": [
      "Filas duplicadas en product_id:\n",
      "1992099\n"
     ]
    }
   ],
   "source": [
    "df_product_dup = df.filter(pl.col('product_id').is_duplicated())\n",
    "print('Filas duplicadas en product_id:')\n",
    "print(len(df_product_dup))"
   ]
  },
  {
   "cell_type": "code",
   "execution_count": 9,
   "metadata": {},
   "outputs": [
    {
     "name": "stdout",
     "output_type": "stream",
     "text": [
      "Registros duplicados (completos):\n",
      "6440\n"
     ]
    }
   ],
   "source": [
    "# Agrupar por todas las columnas\n",
    "duplicados_completos = (\n",
    "    df.group_by(df.columns)\n",
    "      .agg(pl.len().alias('count'))\n",
    "      .filter(pl.col('count') > 1)\n",
    ")\n",
    "print('Registros duplicados (completos):')\n",
    "print(len(duplicados_completos))"
   ]
  },
  {
   "cell_type": "code",
   "execution_count": 11,
   "metadata": {},
   "outputs": [
    {
     "data": {
      "text/html": [
       "<div><style>\n",
       ".dataframe > thead > tr,\n",
       ".dataframe > tbody > tr {\n",
       "  text-align: right;\n",
       "  white-space: pre-wrap;\n",
       "}\n",
       "</style>\n",
       "<small>shape: (3, 1)</small><table border=\"1\" class=\"dataframe\"><thead><tr><th>product_id</th></tr><tr><td>str</td></tr></thead><tbody><tr><td>&quot;MLA5231674569&quot;</td></tr><tr><td>&quot;MLA4220868420&quot;</td></tr><tr><td>&quot;MLA6475015600&quot;</td></tr></tbody></table></div>"
      ],
      "text/plain": [
       "shape: (3, 1)\n",
       "┌───────────────┐\n",
       "│ product_id    │\n",
       "│ ---           │\n",
       "│ str           │\n",
       "╞═══════════════╡\n",
       "│ MLA5231674569 │\n",
       "│ MLA4220868420 │\n",
       "│ MLA6475015600 │\n",
       "└───────────────┘"
      ]
     },
     "execution_count": 11,
     "metadata": {},
     "output_type": "execute_result"
    }
   ],
   "source": [
    "df.select('product_id').sample(3, seed=0)"
   ]
  },
  {
   "cell_type": "code",
   "execution_count": 12,
   "metadata": {},
   "outputs": [
    {
     "data": {
      "text/html": [
       "<div><style>\n",
       ".dataframe > thead > tr,\n",
       ".dataframe > tbody > tr {\n",
       "  text-align: right;\n",
       "  white-space: pre-wrap;\n",
       "}\n",
       "</style>\n",
       "<small>shape: (12, 3)</small><table border=\"1\" class=\"dataframe\"><thead><tr><th>condition</th><th>price</th><th>title</th></tr><tr><td>str</td><td>f64</td><td>str</td></tr></thead><tbody><tr><td>&quot;new&quot;</td><td>100.0</td><td>&quot;Sjcam&nbsp;Sj4000&nbsp;Wifi&nbsp;Sj&nbsp;5000&nbsp;Bate…</td></tr><tr><td>&quot;new&quot;</td><td>100.0</td><td>&quot;Sjcam&nbsp;Sj4000&nbsp;Wifi&nbsp;Sj&nbsp;5000&nbsp;Bate…</td></tr><tr><td>&quot;new&quot;</td><td>100.0</td><td>&quot;Sjcam&nbsp;Sj4000&nbsp;Wifi&nbsp;Sj&nbsp;5000&nbsp;Bate…</td></tr><tr><td>&quot;new&quot;</td><td>100.0</td><td>&quot;Sjcam&nbsp;Sj4000&nbsp;Wifi&nbsp;Sj&nbsp;5000&nbsp;Bate…</td></tr><tr><td>&quot;new&quot;</td><td>100.0</td><td>&quot;Sjcam&nbsp;Sj4000&nbsp;Wifi&nbsp;Sj&nbsp;5000&nbsp;Bate…</td></tr><tr><td>&hellip;</td><td>&hellip;</td><td>&hellip;</td></tr><tr><td>&quot;new&quot;</td><td>100.0</td><td>&quot;Sjcam&nbsp;Sj4000&nbsp;Wifi&nbsp;Sj&nbsp;5000&nbsp;Bate…</td></tr><tr><td>&quot;new&quot;</td><td>100.0</td><td>&quot;Sjcam&nbsp;Sj4000&nbsp;Wifi&nbsp;Sj&nbsp;5000&nbsp;Bate…</td></tr><tr><td>&quot;new&quot;</td><td>100.0</td><td>&quot;Sjcam&nbsp;Sj4000&nbsp;Wifi&nbsp;Sj&nbsp;5000&nbsp;Bate…</td></tr><tr><td>&quot;new&quot;</td><td>100.0</td><td>&quot;Sjcam&nbsp;Sj4000&nbsp;Wifi&nbsp;Sj&nbsp;5000&nbsp;Bate…</td></tr><tr><td>&quot;new&quot;</td><td>100.0</td><td>&quot;Sjcam&nbsp;Sj4000&nbsp;Wifi&nbsp;Sj&nbsp;5000&nbsp;Bate…</td></tr></tbody></table></div>"
      ],
      "text/plain": [
       "shape: (12, 3)\n",
       "┌───────────┬───────┬─────────────────────────────────┐\n",
       "│ condition ┆ price ┆ title                           │\n",
       "│ ---       ┆ ---   ┆ ---                             │\n",
       "│ str       ┆ f64   ┆ str                             │\n",
       "╞═══════════╪═══════╪═════════════════════════════════╡\n",
       "│ new       ┆ 100.0 ┆ Sjcam Sj4000 Wifi Sj 5000 Bate… │\n",
       "│ new       ┆ 100.0 ┆ Sjcam Sj4000 Wifi Sj 5000 Bate… │\n",
       "│ new       ┆ 100.0 ┆ Sjcam Sj4000 Wifi Sj 5000 Bate… │\n",
       "│ new       ┆ 100.0 ┆ Sjcam Sj4000 Wifi Sj 5000 Bate… │\n",
       "│ new       ┆ 100.0 ┆ Sjcam Sj4000 Wifi Sj 5000 Bate… │\n",
       "│ …         ┆ …     ┆ …                               │\n",
       "│ new       ┆ 100.0 ┆ Sjcam Sj4000 Wifi Sj 5000 Bate… │\n",
       "│ new       ┆ 100.0 ┆ Sjcam Sj4000 Wifi Sj 5000 Bate… │\n",
       "│ new       ┆ 100.0 ┆ Sjcam Sj4000 Wifi Sj 5000 Bate… │\n",
       "│ new       ┆ 100.0 ┆ Sjcam Sj4000 Wifi Sj 5000 Bate… │\n",
       "│ new       ┆ 100.0 ┆ Sjcam Sj4000 Wifi Sj 5000 Bate… │\n",
       "└───────────┴───────┴─────────────────────────────────┘"
      ]
     },
     "execution_count": 12,
     "metadata": {},
     "output_type": "execute_result"
    }
   ],
   "source": [
    "df.filter(pl.col('product_id') == 'MLA4220868420').select('condition', 'price', 'title')"
   ]
  },
  {
   "cell_type": "code",
   "execution_count": 15,
   "metadata": {},
   "outputs": [
    {
     "data": {
      "text/html": [
       "<div><style>\n",
       ".dataframe > thead > tr,\n",
       ".dataframe > tbody > tr {\n",
       "  text-align: right;\n",
       "  white-space: pre-wrap;\n",
       "}\n",
       "</style>\n",
       "<small>shape: (10, 10)</small><table border=\"1\" class=\"dataframe\"><thead><tr><th>var_comb_value_id</th><th>var_comb_name</th><th>var_comb_value_name</th><th>var_comb_id</th><th>var_seller_custom_field</th><th>var_picture_ids</th><th>var_sold_quantity</th><th>var_available_quantity</th><th>var_id</th><th>var_price</th></tr><tr><td>str</td><td>str</td><td>str</td><td>str</td><td>str</td><td>list[str]</td><td>i64</td><td>i64</td><td>i64</td><td>f64</td></tr></thead><tbody><tr><td>&quot;92018&quot;</td><td>&quot;Color&nbsp;Primario&quot;</td><td>&quot;Lavanda&quot;</td><td>&quot;83000&quot;</td><td>null</td><td>[&quot;397701-MLA20405992799_092015&quot;,&nbsp;&quot;778801-MLA20405994047_092015&quot;,&nbsp;&quot;348801-MLA20405994049_092015&quot;]</td><td>0</td><td>2</td><td>9450267851</td><td>194.99</td></tr><tr><td>null</td><td>null</td><td>null</td><td>null</td><td>null</td><td>null</td><td>null</td><td>null</td><td>null</td><td>null</td></tr><tr><td>null</td><td>null</td><td>null</td><td>null</td><td>null</td><td>null</td><td>null</td><td>null</td><td>null</td><td>null</td></tr><tr><td>&quot;82026&quot;</td><td>&quot;Color&nbsp;Secundario&quot;</td><td>&quot;Rojo&quot;</td><td>&quot;73001&quot;</td><td>null</td><td>[&quot;824101-MLA20273468733_042015&quot;,&nbsp;&quot;546101-MLA20273468746_042015&quot;,&nbsp;…&nbsp;&quot;476101-MLA20273468449_042015&quot;]</td><td>0</td><td>1</td><td>9292104817</td><td>45.0</td></tr><tr><td>null</td><td>null</td><td>null</td><td>null</td><td>null</td><td>null</td><td>null</td><td>null</td><td>null</td><td>null</td></tr><tr><td>null</td><td>null</td><td>null</td><td>null</td><td>null</td><td>null</td><td>null</td><td>null</td><td>null</td><td>null</td></tr><tr><td>null</td><td>null</td><td>null</td><td>null</td><td>null</td><td>null</td><td>null</td><td>null</td><td>null</td><td>null</td></tr><tr><td>&quot;132011&quot;</td><td>&quot;Talle&quot;</td><td>&quot;31&quot;</td><td>&quot;73002&quot;</td><td>&quot;SSCWH&quot;</td><td>[&quot;666601-MLA20355727500_072015&quot;,&nbsp;&quot;485501-MLA20355727366_072015&quot;,&nbsp;…&nbsp;&quot;955801-MLA20420797450_092015&quot;]</td><td>0</td><td>5</td><td>9616250910</td><td>749.0</td></tr><tr><td>null</td><td>null</td><td>null</td><td>null</td><td>null</td><td>null</td><td>null</td><td>null</td><td>null</td><td>null</td></tr><tr><td>&quot;132003&quot;</td><td>&quot;Talle&quot;</td><td>&quot;25&quot;</td><td>&quot;73002&quot;</td><td>null</td><td>[&quot;912601-MLA20355543460_072015&quot;,&nbsp;&quot;778501-MLA20355543445_072015&quot;,&nbsp;…&nbsp;&quot;291801-MLA20420795183_092015&quot;]</td><td>0</td><td>4</td><td>9628050654</td><td>749.0</td></tr></tbody></table></div>"
      ],
      "text/plain": [
       "shape: (10, 10)\n",
       "┌─────────┬─────────┬─────────┬─────────┬─────────┬─────────┬─────────┬─────────┬─────────┬────────┐\n",
       "│ var_com ┆ var_com ┆ var_com ┆ var_com ┆ var_sel ┆ var_pic ┆ var_sol ┆ var_ava ┆ var_id  ┆ var_pr │\n",
       "│ b_value ┆ b_name  ┆ b_value ┆ b_id    ┆ ler_cus ┆ ture_id ┆ d_quant ┆ ilable_ ┆ ---     ┆ ice    │\n",
       "│ _id     ┆ ---     ┆ _name   ┆ ---     ┆ tom_fie ┆ s       ┆ ity     ┆ quantit ┆ i64     ┆ ---    │\n",
       "│ ---     ┆ str     ┆ ---     ┆ str     ┆ ld      ┆ ---     ┆ ---     ┆ y       ┆         ┆ f64    │\n",
       "│ str     ┆         ┆ str     ┆         ┆ ---     ┆ list[st ┆ i64     ┆ ---     ┆         ┆        │\n",
       "│         ┆         ┆         ┆         ┆ str     ┆ r]      ┆         ┆ i64     ┆         ┆        │\n",
       "╞═════════╪═════════╪═════════╪═════════╪═════════╪═════════╪═════════╪═════════╪═════════╪════════╡\n",
       "│ 92018   ┆ Color   ┆ Lavanda ┆ 83000   ┆ null    ┆ [\"39770 ┆ 0       ┆ 2       ┆ 9450267 ┆ 194.99 │\n",
       "│         ┆ Primari ┆         ┆         ┆         ┆ 1-MLA20 ┆         ┆         ┆ 851     ┆        │\n",
       "│         ┆ o       ┆         ┆         ┆         ┆ 4059927 ┆         ┆         ┆         ┆        │\n",
       "│         ┆         ┆         ┆         ┆         ┆ 99_0920 ┆         ┆         ┆         ┆        │\n",
       "│         ┆         ┆         ┆         ┆         ┆ 15…     ┆         ┆         ┆         ┆        │\n",
       "│ null    ┆ null    ┆ null    ┆ null    ┆ null    ┆ null    ┆ null    ┆ null    ┆ null    ┆ null   │\n",
       "│ null    ┆ null    ┆ null    ┆ null    ┆ null    ┆ null    ┆ null    ┆ null    ┆ null    ┆ null   │\n",
       "│ 82026   ┆ Color   ┆ Rojo    ┆ 73001   ┆ null    ┆ [\"82410 ┆ 0       ┆ 1       ┆ 9292104 ┆ 45.0   │\n",
       "│         ┆ Secunda ┆         ┆         ┆         ┆ 1-MLA20 ┆         ┆         ┆ 817     ┆        │\n",
       "│         ┆ rio     ┆         ┆         ┆         ┆ 2734687 ┆         ┆         ┆         ┆        │\n",
       "│         ┆         ┆         ┆         ┆         ┆ 33_0420 ┆         ┆         ┆         ┆        │\n",
       "│         ┆         ┆         ┆         ┆         ┆ 15…     ┆         ┆         ┆         ┆        │\n",
       "│ null    ┆ null    ┆ null    ┆ null    ┆ null    ┆ null    ┆ null    ┆ null    ┆ null    ┆ null   │\n",
       "│ null    ┆ null    ┆ null    ┆ null    ┆ null    ┆ null    ┆ null    ┆ null    ┆ null    ┆ null   │\n",
       "│ null    ┆ null    ┆ null    ┆ null    ┆ null    ┆ null    ┆ null    ┆ null    ┆ null    ┆ null   │\n",
       "│ 132011  ┆ Talle   ┆ 31      ┆ 73002   ┆ SSCWH   ┆ [\"66660 ┆ 0       ┆ 5       ┆ 9616250 ┆ 749.0  │\n",
       "│         ┆         ┆         ┆         ┆         ┆ 1-MLA20 ┆         ┆         ┆ 910     ┆        │\n",
       "│         ┆         ┆         ┆         ┆         ┆ 3557275 ┆         ┆         ┆         ┆        │\n",
       "│         ┆         ┆         ┆         ┆         ┆ 00_0720 ┆         ┆         ┆         ┆        │\n",
       "│         ┆         ┆         ┆         ┆         ┆ 15…     ┆         ┆         ┆         ┆        │\n",
       "│ null    ┆ null    ┆ null    ┆ null    ┆ null    ┆ null    ┆ null    ┆ null    ┆ null    ┆ null   │\n",
       "│ 132003  ┆ Talle   ┆ 25      ┆ 73002   ┆ null    ┆ [\"91260 ┆ 0       ┆ 4       ┆ 9628050 ┆ 749.0  │\n",
       "│         ┆         ┆         ┆         ┆         ┆ 1-MLA20 ┆         ┆         ┆ 654     ┆        │\n",
       "│         ┆         ┆         ┆         ┆         ┆ 3555434 ┆         ┆         ┆         ┆        │\n",
       "│         ┆         ┆         ┆         ┆         ┆ 60_0720 ┆         ┆         ┆         ┆        │\n",
       "│         ┆         ┆         ┆         ┆         ┆ 15…     ┆         ┆         ┆         ┆        │\n",
       "└─────────┴─────────┴─────────┴─────────┴─────────┴─────────┴─────────┴─────────┴─────────┴────────┘"
      ]
     },
     "execution_count": 15,
     "metadata": {},
     "output_type": "execute_result"
    }
   ],
   "source": [
    "df.select([col for col in df.columns if 'var' in col]).sample(10, seed=25)"
   ]
  },
  {
   "cell_type": "code",
   "execution_count": 14,
   "metadata": {},
   "outputs": [
    {
     "data": {
      "text/html": [
       "<div><style>\n",
       ".dataframe > thead > tr,\n",
       ".dataframe > tbody > tr {\n",
       "  text-align: right;\n",
       "  white-space: pre-wrap;\n",
       "}\n",
       "</style>\n",
       "<small>shape: (10, 21)</small><table border=\"1\" class=\"dataframe\"><thead><tr><th>deal_ids</th><th>id</th><th>nmp_pm_id</th><th>seller_id</th><th>var_comb_value_id</th><th>var_comb_id</th><th>var_picture_ids</th><th>var_id</th><th>site_id</th><th>listing_type_id</th><th>attr_value_id</th><th>attr_attribute_group_id</th><th>attr_id</th><th>parent_item_id</th><th>category_id</th><th>pic_id</th><th>product_id</th><th>official_store_id</th><th>currency_id</th><th>video_id</th><th>catalog_product_id</th></tr><tr><td>str</td><td>i64</td><td>str</td><td>i64</td><td>str</td><td>str</td><td>list[str]</td><td>i64</td><td>str</td><td>str</td><td>str</td><td>str</td><td>str</td><td>str</td><td>str</td><td>str</td><td>str</td><td>f64</td><td>str</td><td>str</td><td>f64</td></tr></thead><tbody><tr><td>&quot;&quot;</td><td>null</td><td>&quot;MLATB&quot;</td><td>4917621612</td><td>&quot;92018&quot;</td><td>&quot;83000&quot;</td><td>[&quot;397701-MLA20405992799_092015&quot;,&nbsp;&quot;778801-MLA20405994047_092015&quot;,&nbsp;&quot;348801-MLA20405994049_092015&quot;]</td><td>9450267851</td><td>&quot;MLA&quot;</td><td>&quot;bronze&quot;</td><td>&quot;Season-Autumn-Winter&quot;</td><td>&quot;FIND&quot;</td><td>&quot;Season&quot;</td><td>null</td><td>&quot;MLA64653&quot;</td><td>&quot;498701-MLA6655124735_092015&quot;</td><td>&quot;MLA6655124735&quot;</td><td>null</td><td>&quot;ARS&quot;</td><td>null</td><td>null</td></tr><tr><td>&quot;&quot;</td><td>null</td><td>&quot;MLAMO&quot;</td><td>4101959504</td><td>null</td><td>null</td><td>null</td><td>null</td><td>&quot;MLA&quot;</td><td>&quot;bronze&quot;</td><td>null</td><td>null</td><td>null</td><td>&quot;MLA8069337522&quot;</td><td>&quot;MLA41287&quot;</td><td>&quot;18937-MLA2710917485_092014&quot;</td><td>&quot;MLA2710917485&quot;</td><td>null</td><td>&quot;ARS&quot;</td><td>null</td><td>null</td></tr><tr><td>&quot;&quot;</td><td>null</td><td>&quot;MLATB&quot;</td><td>4183308329</td><td>null</td><td>null</td><td>null</td><td>null</td><td>&quot;MLA&quot;</td><td>&quot;bronze&quot;</td><td>null</td><td>null</td><td>null</td><td>&quot;MLA1240644124&quot;</td><td>&quot;MLA4785&quot;</td><td>&quot;120101-MLA2218382955_032015&quot;</td><td>&quot;MLA2218382955&quot;</td><td>null</td><td>&quot;ARS&quot;</td><td>null</td><td>null</td></tr><tr><td>&quot;&quot;</td><td>null</td><td>&quot;MLATB&quot;</td><td>3884593281</td><td>&quot;82026&quot;</td><td>&quot;73001&quot;</td><td>[&quot;824101-MLA20273468733_042015&quot;,&nbsp;&quot;546101-MLA20273468746_042015&quot;,&nbsp;…&nbsp;&quot;476101-MLA20273468449_042015&quot;]</td><td>9292104817</td><td>&quot;MLA&quot;</td><td>&quot;bronze&quot;</td><td>&quot;Season-Spring-Summer&quot;</td><td>&quot;FIND&quot;</td><td>&quot;Season&quot;</td><td>&quot;MLA3547762102&quot;</td><td>&quot;MLA26536&quot;</td><td>&quot;476101-MLA1932237478_042015&quot;</td><td>&quot;MLA1932237478&quot;</td><td>null</td><td>&quot;ARS&quot;</td><td>null</td><td>null</td></tr><tr><td>&quot;&quot;</td><td>null</td><td>null</td><td>2399979535</td><td>null</td><td>null</td><td>null</td><td>null</td><td>&quot;MLA&quot;</td><td>&quot;gold_premium&quot;</td><td>&quot;ESTACIOINCLU-Y&quot;</td><td>&quot;COMODIDADES&quot;</td><td>&quot;ESTACIOINCLU&quot;</td><td>&quot;MLA4016986071&quot;</td><td>&quot;MLA50279&quot;</td><td>&quot;8058-MLA8794783709_112013&quot;</td><td>&quot;MLA8794783709&quot;</td><td>null</td><td>&quot;ARS&quot;</td><td>null</td><td>null</td></tr><tr><td>&quot;&quot;</td><td>null</td><td>null</td><td>7926648350</td><td>null</td><td>null</td><td>null</td><td>null</td><td>&quot;MLA&quot;</td><td>&quot;free&quot;</td><td>&quot;MLA1744-LLANALEAC-N&quot;</td><td>&quot;EXTERIOR&quot;</td><td>&quot;MLA1744-LLANALEAC&quot;</td><td>null</td><td>&quot;MLA6628&quot;</td><td>&quot;228801-MLA3996399802_092015&quot;</td><td>&quot;MLA3996399802&quot;</td><td>null</td><td>&quot;ARS&quot;</td><td>null</td><td>null</td></tr><tr><td>&quot;&quot;</td><td>null</td><td>null</td><td>8926326574</td><td>null</td><td>null</td><td>null</td><td>null</td><td>&quot;MLA&quot;</td><td>&quot;gold_premium&quot;</td><td>&quot;MLA1744-MARC-CHEVROLET&quot;</td><td>&quot;FIND&quot;</td><td>&quot;MLA1744-MARC&quot;</td><td>&quot;MLA9319455266&quot;</td><td>&quot;MLA3188&quot;</td><td>&quot;104401-MLA7812805402_062015&quot;</td><td>&quot;MLA7812805402&quot;</td><td>null</td><td>&quot;ARS&quot;</td><td>null</td><td>null</td></tr><tr><td>&quot;UQU1U&quot;</td><td>73328</td><td>null</td><td>6879780273</td><td>&quot;132011&quot;</td><td>&quot;73002&quot;</td><td>[&quot;666601-MLA20355727500_072015&quot;,&nbsp;&quot;485501-MLA20355727366_072015&quot;,&nbsp;…&nbsp;&quot;955801-MLA20420797450_092015&quot;]</td><td>9616250910</td><td>&quot;MLA&quot;</td><td>&quot;gold_special&quot;</td><td>&quot;Season-Autumn-Winter&quot;</td><td>&quot;FIND&quot;</td><td>&quot;Season&quot;</td><td>&quot;MLA3151741240&quot;</td><td>&quot;MLA117507&quot;</td><td>&quot;509901-MLA1470121909_102015&quot;</td><td>&quot;MLA1470121909&quot;</td><td>null</td><td>&quot;ARS&quot;</td><td>null</td><td>null</td></tr><tr><td>&quot;&quot;</td><td>null</td><td>null</td><td>1594358977</td><td>null</td><td>null</td><td>null</td><td>null</td><td>&quot;MLA&quot;</td><td>&quot;gold&quot;</td><td>&quot;MLA1744-ABS-Y&quot;</td><td>&quot;SECURITY&quot;</td><td>&quot;MLA1744-ABS&quot;</td><td>null</td><td>&quot;MLA30846&quot;</td><td>&quot;255901-MLA8271369784_092015&quot;</td><td>&quot;MLA8271369784&quot;</td><td>null</td><td>&quot;ARS&quot;</td><td>null</td><td>null</td></tr><tr><td>&quot;VYYJI&quot;</td><td>73328</td><td>null</td><td>6879780273</td><td>&quot;132003&quot;</td><td>&quot;73002&quot;</td><td>[&quot;912601-MLA20355543460_072015&quot;,&nbsp;&quot;778501-MLA20355543445_072015&quot;,&nbsp;…&nbsp;&quot;291801-MLA20420795183_092015&quot;]</td><td>9628050654</td><td>&quot;MLA&quot;</td><td>&quot;gold_special&quot;</td><td>&quot;Season-Autumn-Winter&quot;</td><td>&quot;FIND&quot;</td><td>&quot;Season&quot;</td><td>&quot;MLA4722101993&quot;</td><td>&quot;MLA117508&quot;</td><td>&quot;278701-MLA6881266842_092015&quot;</td><td>&quot;MLA6881266842&quot;</td><td>null</td><td>&quot;ARS&quot;</td><td>null</td><td>null</td></tr></tbody></table></div>"
      ],
      "text/plain": [
       "shape: (10, 21)\n",
       "┌─────┬─────┬─────┬─────┬─────┬─────┬─────┬─────┬─────┬─────┬─────┬─────┬─────┬─────┬─────┬─────┬─────┬─────┬─────┬─────┬─────┐\n",
       "│ dea ┆ id  ┆ nmp ┆ sel ┆ var ┆ var ┆ var ┆ var ┆ sit ┆ lis ┆ att ┆ att ┆ att ┆ par ┆ cat ┆ pic ┆ pro ┆ off ┆ cur ┆ vid ┆ cat │\n",
       "│ l_i ┆ --- ┆ _pm ┆ ler ┆ _co ┆ _co ┆ _pi ┆ _id ┆ e_i ┆ tin ┆ r_v ┆ r_a ┆ r_i ┆ ent ┆ ego ┆ _id ┆ duc ┆ ici ┆ ren ┆ eo_ ┆ alo │\n",
       "│ ds  ┆ i64 ┆ _id ┆ _id ┆ mb_ ┆ mb_ ┆ ctu ┆ --- ┆ d   ┆ g_t ┆ alu ┆ ttr ┆ d   ┆ _it ┆ ry_ ┆ --- ┆ t_i ┆ al_ ┆ cy_ ┆ id  ┆ g_p │\n",
       "│ --- ┆     ┆ --- ┆ --- ┆ val ┆ id  ┆ re_ ┆ i64 ┆ --- ┆ ype ┆ e_i ┆ ibu ┆ --- ┆ em_ ┆ id  ┆ str ┆ d   ┆ sto ┆ id  ┆ --- ┆ rod │\n",
       "│ str ┆     ┆ str ┆ i64 ┆ ue_ ┆ --- ┆ ids ┆     ┆ str ┆ _id ┆ d   ┆ te_ ┆ str ┆ id  ┆ --- ┆     ┆ --- ┆ re_ ┆ --- ┆ str ┆ uct │\n",
       "│     ┆     ┆     ┆     ┆ id  ┆ str ┆ --- ┆     ┆     ┆ --- ┆ --- ┆ gro ┆     ┆ --- ┆ str ┆     ┆ str ┆ id  ┆ str ┆     ┆ _id │\n",
       "│     ┆     ┆     ┆     ┆ --- ┆     ┆ lis ┆     ┆     ┆ str ┆ str ┆ up_ ┆     ┆ str ┆     ┆     ┆     ┆ --- ┆     ┆     ┆ --- │\n",
       "│     ┆     ┆     ┆     ┆ str ┆     ┆ t[s ┆     ┆     ┆     ┆     ┆ id  ┆     ┆     ┆     ┆     ┆     ┆ f64 ┆     ┆     ┆ f64 │\n",
       "│     ┆     ┆     ┆     ┆     ┆     ┆ tr] ┆     ┆     ┆     ┆     ┆ --- ┆     ┆     ┆     ┆     ┆     ┆     ┆     ┆     ┆     │\n",
       "│     ┆     ┆     ┆     ┆     ┆     ┆     ┆     ┆     ┆     ┆     ┆ str ┆     ┆     ┆     ┆     ┆     ┆     ┆     ┆     ┆     │\n",
       "╞═════╪═════╪═════╪═════╪═════╪═════╪═════╪═════╪═════╪═════╪═════╪═════╪═════╪═════╪═════╪═════╪═════╪═════╪═════╪═════╪═════╡\n",
       "│     ┆ nul ┆ MLA ┆ 491 ┆ 920 ┆ 830 ┆ [\"3 ┆ 945 ┆ MLA ┆ bro ┆ Sea ┆ FIN ┆ Sea ┆ nul ┆ MLA ┆ 498 ┆ MLA ┆ nul ┆ ARS ┆ nul ┆ nul │\n",
       "│     ┆ l   ┆ TB  ┆ 762 ┆ 18  ┆ 00  ┆ 977 ┆ 026 ┆     ┆ nze ┆ son ┆ D   ┆ son ┆ l   ┆ 646 ┆ 701 ┆ 665 ┆ l   ┆     ┆ l   ┆ l   │\n",
       "│     ┆     ┆     ┆ 161 ┆     ┆     ┆ 01- ┆ 785 ┆     ┆     ┆ -Au ┆     ┆     ┆     ┆ 53  ┆ -ML ┆ 512 ┆     ┆     ┆     ┆     │\n",
       "│     ┆     ┆     ┆ 2   ┆     ┆     ┆ MLA ┆ 1   ┆     ┆     ┆ tum ┆     ┆     ┆     ┆     ┆ A66 ┆ 473 ┆     ┆     ┆     ┆     │\n",
       "│     ┆     ┆     ┆     ┆     ┆     ┆ 204 ┆     ┆     ┆     ┆ n-W ┆     ┆     ┆     ┆     ┆ 551 ┆ 5   ┆     ┆     ┆     ┆     │\n",
       "│     ┆     ┆     ┆     ┆     ┆     ┆ 059 ┆     ┆     ┆     ┆ int ┆     ┆     ┆     ┆     ┆ 247 ┆     ┆     ┆     ┆     ┆     │\n",
       "│     ┆     ┆     ┆     ┆     ┆     ┆ 927 ┆     ┆     ┆     ┆ er  ┆     ┆     ┆     ┆     ┆ 35_ ┆     ┆     ┆     ┆     ┆     │\n",
       "│     ┆     ┆     ┆     ┆     ┆     ┆ 99_ ┆     ┆     ┆     ┆     ┆     ┆     ┆     ┆     ┆ 092 ┆     ┆     ┆     ┆     ┆     │\n",
       "│     ┆     ┆     ┆     ┆     ┆     ┆ 092 ┆     ┆     ┆     ┆     ┆     ┆     ┆     ┆     ┆ 015 ┆     ┆     ┆     ┆     ┆     │\n",
       "│     ┆     ┆     ┆     ┆     ┆     ┆ 015 ┆     ┆     ┆     ┆     ┆     ┆     ┆     ┆     ┆     ┆     ┆     ┆     ┆     ┆     │\n",
       "│     ┆     ┆     ┆     ┆     ┆     ┆ …   ┆     ┆     ┆     ┆     ┆     ┆     ┆     ┆     ┆     ┆     ┆     ┆     ┆     ┆     │\n",
       "│     ┆ nul ┆ MLA ┆ 410 ┆ nul ┆ nul ┆ nul ┆ nul ┆ MLA ┆ bro ┆ nul ┆ nul ┆ nul ┆ MLA ┆ MLA ┆ 189 ┆ MLA ┆ nul ┆ ARS ┆ nul ┆ nul │\n",
       "│     ┆ l   ┆ MO  ┆ 195 ┆ l   ┆ l   ┆ l   ┆ l   ┆     ┆ nze ┆ l   ┆ l   ┆ l   ┆ 806 ┆ 412 ┆ 37- ┆ 271 ┆ l   ┆     ┆ l   ┆ l   │\n",
       "│     ┆     ┆     ┆ 950 ┆     ┆     ┆     ┆     ┆     ┆     ┆     ┆     ┆     ┆ 933 ┆ 87  ┆ MLA ┆ 091 ┆     ┆     ┆     ┆     │\n",
       "│     ┆     ┆     ┆ 4   ┆     ┆     ┆     ┆     ┆     ┆     ┆     ┆     ┆     ┆ 752 ┆     ┆ 271 ┆ 748 ┆     ┆     ┆     ┆     │\n",
       "│     ┆     ┆     ┆     ┆     ┆     ┆     ┆     ┆     ┆     ┆     ┆     ┆     ┆ 2   ┆     ┆ 091 ┆ 5   ┆     ┆     ┆     ┆     │\n",
       "│     ┆     ┆     ┆     ┆     ┆     ┆     ┆     ┆     ┆     ┆     ┆     ┆     ┆     ┆     ┆ 748 ┆     ┆     ┆     ┆     ┆     │\n",
       "│     ┆     ┆     ┆     ┆     ┆     ┆     ┆     ┆     ┆     ┆     ┆     ┆     ┆     ┆     ┆ 5_0 ┆     ┆     ┆     ┆     ┆     │\n",
       "│     ┆     ┆     ┆     ┆     ┆     ┆     ┆     ┆     ┆     ┆     ┆     ┆     ┆     ┆     ┆ 920 ┆     ┆     ┆     ┆     ┆     │\n",
       "│     ┆     ┆     ┆     ┆     ┆     ┆     ┆     ┆     ┆     ┆     ┆     ┆     ┆     ┆     ┆ 14  ┆     ┆     ┆     ┆     ┆     │\n",
       "│     ┆ nul ┆ MLA ┆ 418 ┆ nul ┆ nul ┆ nul ┆ nul ┆ MLA ┆ bro ┆ nul ┆ nul ┆ nul ┆ MLA ┆ MLA ┆ 120 ┆ MLA ┆ nul ┆ ARS ┆ nul ┆ nul │\n",
       "│     ┆ l   ┆ TB  ┆ 330 ┆ l   ┆ l   ┆ l   ┆ l   ┆     ┆ nze ┆ l   ┆ l   ┆ l   ┆ 124 ┆ 478 ┆ 101 ┆ 221 ┆ l   ┆     ┆ l   ┆ l   │\n",
       "│     ┆     ┆     ┆ 832 ┆     ┆     ┆     ┆     ┆     ┆     ┆     ┆     ┆     ┆ 064 ┆ 5   ┆ -ML ┆ 838 ┆     ┆     ┆     ┆     │\n",
       "│     ┆     ┆     ┆ 9   ┆     ┆     ┆     ┆     ┆     ┆     ┆     ┆     ┆     ┆ 412 ┆     ┆ A22 ┆ 295 ┆     ┆     ┆     ┆     │\n",
       "│     ┆     ┆     ┆     ┆     ┆     ┆     ┆     ┆     ┆     ┆     ┆     ┆     ┆ 4   ┆     ┆ 183 ┆ 5   ┆     ┆     ┆     ┆     │\n",
       "│     ┆     ┆     ┆     ┆     ┆     ┆     ┆     ┆     ┆     ┆     ┆     ┆     ┆     ┆     ┆ 829 ┆     ┆     ┆     ┆     ┆     │\n",
       "│     ┆     ┆     ┆     ┆     ┆     ┆     ┆     ┆     ┆     ┆     ┆     ┆     ┆     ┆     ┆ 55_ ┆     ┆     ┆     ┆     ┆     │\n",
       "│     ┆     ┆     ┆     ┆     ┆     ┆     ┆     ┆     ┆     ┆     ┆     ┆     ┆     ┆     ┆ 032 ┆     ┆     ┆     ┆     ┆     │\n",
       "│     ┆     ┆     ┆     ┆     ┆     ┆     ┆     ┆     ┆     ┆     ┆     ┆     ┆     ┆     ┆ 015 ┆     ┆     ┆     ┆     ┆     │\n",
       "│     ┆ nul ┆ MLA ┆ 388 ┆ 820 ┆ 730 ┆ [\"8 ┆ 929 ┆ MLA ┆ bro ┆ Sea ┆ FIN ┆ Sea ┆ MLA ┆ MLA ┆ 476 ┆ MLA ┆ nul ┆ ARS ┆ nul ┆ nul │\n",
       "│     ┆ l   ┆ TB  ┆ 459 ┆ 26  ┆ 01  ┆ 241 ┆ 210 ┆     ┆ nze ┆ son ┆ D   ┆ son ┆ 354 ┆ 265 ┆ 101 ┆ 193 ┆ l   ┆     ┆ l   ┆ l   │\n",
       "│     ┆     ┆     ┆ 328 ┆     ┆     ┆ 01- ┆ 481 ┆     ┆     ┆ -Sp ┆     ┆     ┆ 776 ┆ 36  ┆ -ML ┆ 223 ┆     ┆     ┆     ┆     │\n",
       "│     ┆     ┆     ┆ 1   ┆     ┆     ┆ MLA ┆ 7   ┆     ┆     ┆ rin ┆     ┆     ┆ 210 ┆     ┆ A19 ┆ 747 ┆     ┆     ┆     ┆     │\n",
       "│     ┆     ┆     ┆     ┆     ┆     ┆ 202 ┆     ┆     ┆     ┆ g-S ┆     ┆     ┆ 2   ┆     ┆ 322 ┆ 8   ┆     ┆     ┆     ┆     │\n",
       "│     ┆     ┆     ┆     ┆     ┆     ┆ 734 ┆     ┆     ┆     ┆ umm ┆     ┆     ┆     ┆     ┆ 374 ┆     ┆     ┆     ┆     ┆     │\n",
       "│     ┆     ┆     ┆     ┆     ┆     ┆ 687 ┆     ┆     ┆     ┆ er  ┆     ┆     ┆     ┆     ┆ 78_ ┆     ┆     ┆     ┆     ┆     │\n",
       "│     ┆     ┆     ┆     ┆     ┆     ┆ 33_ ┆     ┆     ┆     ┆     ┆     ┆     ┆     ┆     ┆ 042 ┆     ┆     ┆     ┆     ┆     │\n",
       "│     ┆     ┆     ┆     ┆     ┆     ┆ 042 ┆     ┆     ┆     ┆     ┆     ┆     ┆     ┆     ┆ 015 ┆     ┆     ┆     ┆     ┆     │\n",
       "│     ┆     ┆     ┆     ┆     ┆     ┆ 015 ┆     ┆     ┆     ┆     ┆     ┆     ┆     ┆     ┆     ┆     ┆     ┆     ┆     ┆     │\n",
       "│     ┆     ┆     ┆     ┆     ┆     ┆ …   ┆     ┆     ┆     ┆     ┆     ┆     ┆     ┆     ┆     ┆     ┆     ┆     ┆     ┆     │\n",
       "│     ┆ nul ┆ nul ┆ 239 ┆ nul ┆ nul ┆ nul ┆ nul ┆ MLA ┆ gol ┆ EST ┆ COM ┆ EST ┆ MLA ┆ MLA ┆ 805 ┆ MLA ┆ nul ┆ ARS ┆ nul ┆ nul │\n",
       "│     ┆ l   ┆ l   ┆ 997 ┆ l   ┆ l   ┆ l   ┆ l   ┆     ┆ d_p ┆ ACI ┆ ODI ┆ ACI ┆ 401 ┆ 502 ┆ 8-M ┆ 879 ┆ l   ┆     ┆ l   ┆ l   │\n",
       "│     ┆     ┆     ┆ 953 ┆     ┆     ┆     ┆     ┆     ┆ rem ┆ OIN ┆ DAD ┆ OIN ┆ 698 ┆ 79  ┆ LA8 ┆ 478 ┆     ┆     ┆     ┆     │\n",
       "│     ┆     ┆     ┆ 5   ┆     ┆     ┆     ┆     ┆     ┆ ium ┆ CLU ┆ ES  ┆ CLU ┆ 607 ┆     ┆ 794 ┆ 370 ┆     ┆     ┆     ┆     │\n",
       "│     ┆     ┆     ┆     ┆     ┆     ┆     ┆     ┆     ┆     ┆ -Y  ┆     ┆     ┆ 1   ┆     ┆ 783 ┆ 9   ┆     ┆     ┆     ┆     │\n",
       "│     ┆     ┆     ┆     ┆     ┆     ┆     ┆     ┆     ┆     ┆     ┆     ┆     ┆     ┆     ┆ 709 ┆     ┆     ┆     ┆     ┆     │\n",
       "│     ┆     ┆     ┆     ┆     ┆     ┆     ┆     ┆     ┆     ┆     ┆     ┆     ┆     ┆     ┆ _11 ┆     ┆     ┆     ┆     ┆     │\n",
       "│     ┆     ┆     ┆     ┆     ┆     ┆     ┆     ┆     ┆     ┆     ┆     ┆     ┆     ┆     ┆ 201 ┆     ┆     ┆     ┆     ┆     │\n",
       "│     ┆     ┆     ┆     ┆     ┆     ┆     ┆     ┆     ┆     ┆     ┆     ┆     ┆     ┆     ┆ 3   ┆     ┆     ┆     ┆     ┆     │\n",
       "│     ┆ nul ┆ nul ┆ 792 ┆ nul ┆ nul ┆ nul ┆ nul ┆ MLA ┆ fre ┆ MLA ┆ EXT ┆ MLA ┆ nul ┆ MLA ┆ 228 ┆ MLA ┆ nul ┆ ARS ┆ nul ┆ nul │\n",
       "│     ┆ l   ┆ l   ┆ 664 ┆ l   ┆ l   ┆ l   ┆ l   ┆     ┆ e   ┆ 174 ┆ ERI ┆ 174 ┆ l   ┆ 662 ┆ 801 ┆ 399 ┆ l   ┆     ┆ l   ┆ l   │\n",
       "│     ┆     ┆     ┆ 835 ┆     ┆     ┆     ┆     ┆     ┆     ┆ 4-L ┆ OR  ┆ 4-L ┆     ┆ 8   ┆ -ML ┆ 639 ┆     ┆     ┆     ┆     │\n",
       "│     ┆     ┆     ┆ 0   ┆     ┆     ┆     ┆     ┆     ┆     ┆ LAN ┆     ┆ LAN ┆     ┆     ┆ A39 ┆ 980 ┆     ┆     ┆     ┆     │\n",
       "│     ┆     ┆     ┆     ┆     ┆     ┆     ┆     ┆     ┆     ┆ ALE ┆     ┆ ALE ┆     ┆     ┆ 963 ┆ 2   ┆     ┆     ┆     ┆     │\n",
       "│     ┆     ┆     ┆     ┆     ┆     ┆     ┆     ┆     ┆     ┆ AC- ┆     ┆ AC  ┆     ┆     ┆ 998 ┆     ┆     ┆     ┆     ┆     │\n",
       "│     ┆     ┆     ┆     ┆     ┆     ┆     ┆     ┆     ┆     ┆ N   ┆     ┆     ┆     ┆     ┆ 02_ ┆     ┆     ┆     ┆     ┆     │\n",
       "│     ┆     ┆     ┆     ┆     ┆     ┆     ┆     ┆     ┆     ┆     ┆     ┆     ┆     ┆     ┆ 092 ┆     ┆     ┆     ┆     ┆     │\n",
       "│     ┆     ┆     ┆     ┆     ┆     ┆     ┆     ┆     ┆     ┆     ┆     ┆     ┆     ┆     ┆ 015 ┆     ┆     ┆     ┆     ┆     │\n",
       "│     ┆ nul ┆ nul ┆ 892 ┆ nul ┆ nul ┆ nul ┆ nul ┆ MLA ┆ gol ┆ MLA ┆ FIN ┆ MLA ┆ MLA ┆ MLA ┆ 104 ┆ MLA ┆ nul ┆ ARS ┆ nul ┆ nul │\n",
       "│     ┆ l   ┆ l   ┆ 632 ┆ l   ┆ l   ┆ l   ┆ l   ┆     ┆ d_p ┆ 174 ┆ D   ┆ 174 ┆ 931 ┆ 318 ┆ 401 ┆ 781 ┆ l   ┆     ┆ l   ┆ l   │\n",
       "│     ┆     ┆     ┆ 657 ┆     ┆     ┆     ┆     ┆     ┆ rem ┆ 4-M ┆     ┆ 4-M ┆ 945 ┆ 8   ┆ -ML ┆ 280 ┆     ┆     ┆     ┆     │\n",
       "│     ┆     ┆     ┆ 4   ┆     ┆     ┆     ┆     ┆     ┆ ium ┆ ARC ┆     ┆ ARC ┆ 526 ┆     ┆ A78 ┆ 540 ┆     ┆     ┆     ┆     │\n",
       "│     ┆     ┆     ┆     ┆     ┆     ┆     ┆     ┆     ┆     ┆ -CH ┆     ┆     ┆ 6   ┆     ┆ 128 ┆ 2   ┆     ┆     ┆     ┆     │\n",
       "│     ┆     ┆     ┆     ┆     ┆     ┆     ┆     ┆     ┆     ┆ EVR ┆     ┆     ┆     ┆     ┆ 054 ┆     ┆     ┆     ┆     ┆     │\n",
       "│     ┆     ┆     ┆     ┆     ┆     ┆     ┆     ┆     ┆     ┆ OLE ┆     ┆     ┆     ┆     ┆ 02_ ┆     ┆     ┆     ┆     ┆     │\n",
       "│     ┆     ┆     ┆     ┆     ┆     ┆     ┆     ┆     ┆     ┆ T   ┆     ┆     ┆     ┆     ┆ 062 ┆     ┆     ┆     ┆     ┆     │\n",
       "│     ┆     ┆     ┆     ┆     ┆     ┆     ┆     ┆     ┆     ┆     ┆     ┆     ┆     ┆     ┆ 015 ┆     ┆     ┆     ┆     ┆     │\n",
       "│ UQU ┆ 733 ┆ nul ┆ 687 ┆ 132 ┆ 730 ┆ [\"6 ┆ 961 ┆ MLA ┆ gol ┆ Sea ┆ FIN ┆ Sea ┆ MLA ┆ MLA ┆ 509 ┆ MLA ┆ nul ┆ ARS ┆ nul ┆ nul │\n",
       "│ 1U  ┆ 28  ┆ l   ┆ 978 ┆ 011 ┆ 02  ┆ 666 ┆ 625 ┆     ┆ d_s ┆ son ┆ D   ┆ son ┆ 315 ┆ 117 ┆ 901 ┆ 147 ┆ l   ┆     ┆ l   ┆ l   │\n",
       "│     ┆     ┆     ┆ 027 ┆     ┆     ┆ 01- ┆ 091 ┆     ┆ pec ┆ -Au ┆     ┆     ┆ 174 ┆ 507 ┆ -ML ┆ 012 ┆     ┆     ┆     ┆     │\n",
       "│     ┆     ┆     ┆ 3   ┆     ┆     ┆ MLA ┆ 0   ┆     ┆ ial ┆ tum ┆     ┆     ┆ 124 ┆     ┆ A14 ┆ 190 ┆     ┆     ┆     ┆     │\n",
       "│     ┆     ┆     ┆     ┆     ┆     ┆ 203 ┆     ┆     ┆     ┆ n-W ┆     ┆     ┆ 0   ┆     ┆ 701 ┆ 9   ┆     ┆     ┆     ┆     │\n",
       "│     ┆     ┆     ┆     ┆     ┆     ┆ 557 ┆     ┆     ┆     ┆ int ┆     ┆     ┆     ┆     ┆ 219 ┆     ┆     ┆     ┆     ┆     │\n",
       "│     ┆     ┆     ┆     ┆     ┆     ┆ 275 ┆     ┆     ┆     ┆ er  ┆     ┆     ┆     ┆     ┆ 09_ ┆     ┆     ┆     ┆     ┆     │\n",
       "│     ┆     ┆     ┆     ┆     ┆     ┆ 00_ ┆     ┆     ┆     ┆     ┆     ┆     ┆     ┆     ┆ 102 ┆     ┆     ┆     ┆     ┆     │\n",
       "│     ┆     ┆     ┆     ┆     ┆     ┆ 072 ┆     ┆     ┆     ┆     ┆     ┆     ┆     ┆     ┆ 015 ┆     ┆     ┆     ┆     ┆     │\n",
       "│     ┆     ┆     ┆     ┆     ┆     ┆ 015 ┆     ┆     ┆     ┆     ┆     ┆     ┆     ┆     ┆     ┆     ┆     ┆     ┆     ┆     │\n",
       "│     ┆     ┆     ┆     ┆     ┆     ┆ …   ┆     ┆     ┆     ┆     ┆     ┆     ┆     ┆     ┆     ┆     ┆     ┆     ┆     ┆     │\n",
       "│     ┆ nul ┆ nul ┆ 159 ┆ nul ┆ nul ┆ nul ┆ nul ┆ MLA ┆ gol ┆ MLA ┆ SEC ┆ MLA ┆ nul ┆ MLA ┆ 255 ┆ MLA ┆ nul ┆ ARS ┆ nul ┆ nul │\n",
       "│     ┆ l   ┆ l   ┆ 435 ┆ l   ┆ l   ┆ l   ┆ l   ┆     ┆ d   ┆ 174 ┆ URI ┆ 174 ┆ l   ┆ 308 ┆ 901 ┆ 827 ┆ l   ┆     ┆ l   ┆ l   │\n",
       "│     ┆     ┆     ┆ 897 ┆     ┆     ┆     ┆     ┆     ┆     ┆ 4-A ┆ TY  ┆ 4-A ┆     ┆ 46  ┆ -ML ┆ 136 ┆     ┆     ┆     ┆     │\n",
       "│     ┆     ┆     ┆ 7   ┆     ┆     ┆     ┆     ┆     ┆     ┆ BS- ┆     ┆ BS  ┆     ┆     ┆ A82 ┆ 978 ┆     ┆     ┆     ┆     │\n",
       "│     ┆     ┆     ┆     ┆     ┆     ┆     ┆     ┆     ┆     ┆ Y   ┆     ┆     ┆     ┆     ┆ 713 ┆ 4   ┆     ┆     ┆     ┆     │\n",
       "│     ┆     ┆     ┆     ┆     ┆     ┆     ┆     ┆     ┆     ┆     ┆     ┆     ┆     ┆     ┆ 697 ┆     ┆     ┆     ┆     ┆     │\n",
       "│     ┆     ┆     ┆     ┆     ┆     ┆     ┆     ┆     ┆     ┆     ┆     ┆     ┆     ┆     ┆ 84_ ┆     ┆     ┆     ┆     ┆     │\n",
       "│     ┆     ┆     ┆     ┆     ┆     ┆     ┆     ┆     ┆     ┆     ┆     ┆     ┆     ┆     ┆ 092 ┆     ┆     ┆     ┆     ┆     │\n",
       "│     ┆     ┆     ┆     ┆     ┆     ┆     ┆     ┆     ┆     ┆     ┆     ┆     ┆     ┆     ┆ 015 ┆     ┆     ┆     ┆     ┆     │\n",
       "│ VYY ┆ 733 ┆ nul ┆ 687 ┆ 132 ┆ 730 ┆ [\"9 ┆ 962 ┆ MLA ┆ gol ┆ Sea ┆ FIN ┆ Sea ┆ MLA ┆ MLA ┆ 278 ┆ MLA ┆ nul ┆ ARS ┆ nul ┆ nul │\n",
       "│ JI  ┆ 28  ┆ l   ┆ 978 ┆ 003 ┆ 02  ┆ 126 ┆ 805 ┆     ┆ d_s ┆ son ┆ D   ┆ son ┆ 472 ┆ 117 ┆ 701 ┆ 688 ┆ l   ┆     ┆ l   ┆ l   │\n",
       "│     ┆     ┆     ┆ 027 ┆     ┆     ┆ 01- ┆ 065 ┆     ┆ pec ┆ -Au ┆     ┆     ┆ 210 ┆ 508 ┆ -ML ┆ 126 ┆     ┆     ┆     ┆     │\n",
       "│     ┆     ┆     ┆ 3   ┆     ┆     ┆ MLA ┆ 4   ┆     ┆ ial ┆ tum ┆     ┆     ┆ 199 ┆     ┆ A68 ┆ 684 ┆     ┆     ┆     ┆     │\n",
       "│     ┆     ┆     ┆     ┆     ┆     ┆ 203 ┆     ┆     ┆     ┆ n-W ┆     ┆     ┆ 3   ┆     ┆ 812 ┆ 2   ┆     ┆     ┆     ┆     │\n",
       "│     ┆     ┆     ┆     ┆     ┆     ┆ 555 ┆     ┆     ┆     ┆ int ┆     ┆     ┆     ┆     ┆ 668 ┆     ┆     ┆     ┆     ┆     │\n",
       "│     ┆     ┆     ┆     ┆     ┆     ┆ 434 ┆     ┆     ┆     ┆ er  ┆     ┆     ┆     ┆     ┆ 42_ ┆     ┆     ┆     ┆     ┆     │\n",
       "│     ┆     ┆     ┆     ┆     ┆     ┆ 60_ ┆     ┆     ┆     ┆     ┆     ┆     ┆     ┆     ┆ 092 ┆     ┆     ┆     ┆     ┆     │\n",
       "│     ┆     ┆     ┆     ┆     ┆     ┆ 072 ┆     ┆     ┆     ┆     ┆     ┆     ┆     ┆     ┆ 015 ┆     ┆     ┆     ┆     ┆     │\n",
       "│     ┆     ┆     ┆     ┆     ┆     ┆ 015 ┆     ┆     ┆     ┆     ┆     ┆     ┆     ┆     ┆     ┆     ┆     ┆     ┆     ┆     │\n",
       "│     ┆     ┆     ┆     ┆     ┆     ┆ …   ┆     ┆     ┆     ┆     ┆     ┆     ┆     ┆     ┆     ┆     ┆     ┆     ┆     ┆     │\n",
       "└─────┴─────┴─────┴─────┴─────┴─────┴─────┴─────┴─────┴─────┴─────┴─────┴─────┴─────┴─────┴─────┴─────┴─────┴─────┴─────┴─────┘"
      ]
     },
     "execution_count": 14,
     "metadata": {},
     "output_type": "execute_result"
    }
   ],
   "source": [
    "# Columnas llamadas 'id'\n",
    "df.select([col for col in df.columns if 'id' in col]).sample(10, seed=25)"
   ]
  },
  {
   "cell_type": "code",
   "execution_count": 16,
   "metadata": {},
   "outputs": [
    {
     "data": {
      "text/html": [
       "<div><style>\n",
       ".dataframe > thead > tr,\n",
       ".dataframe > tbody > tr {\n",
       "  text-align: right;\n",
       "  white-space: pre-wrap;\n",
       "}\n",
       "</style>\n",
       "<small>shape: (100_000, 2)</small><table border=\"1\" class=\"dataframe\"><thead><tr><th>product_id</th><th>count</th></tr><tr><td>str</td><td>u32</td></tr></thead><tbody><tr><td>&quot;MLA6356328214&quot;</td><td>16128</td></tr><tr><td>&quot;MLA6655124735&quot;</td><td>9072</td></tr><tr><td>&quot;MLA6870343634&quot;</td><td>9072</td></tr><tr><td>&quot;MLA2618837555&quot;</td><td>7776</td></tr><tr><td>&quot;MLA6475015600&quot;</td><td>7392</td></tr><tr><td>&hellip;</td><td>&hellip;</td></tr><tr><td>&quot;MLA3009003369&quot;</td><td>1</td></tr><tr><td>&quot;MLA6360218686&quot;</td><td>1</td></tr><tr><td>&quot;MLA2867543668&quot;</td><td>1</td></tr><tr><td>&quot;MLA1813108608&quot;</td><td>1</td></tr><tr><td>&quot;MLA9362703629&quot;</td><td>1</td></tr></tbody></table></div>"
      ],
      "text/plain": [
       "shape: (100_000, 2)\n",
       "┌───────────────┬───────┐\n",
       "│ product_id    ┆ count │\n",
       "│ ---           ┆ ---   │\n",
       "│ str           ┆ u32   │\n",
       "╞═══════════════╪═══════╡\n",
       "│ MLA6356328214 ┆ 16128 │\n",
       "│ MLA6655124735 ┆ 9072  │\n",
       "│ MLA6870343634 ┆ 9072  │\n",
       "│ MLA2618837555 ┆ 7776  │\n",
       "│ MLA6475015600 ┆ 7392  │\n",
       "│ …             ┆ …     │\n",
       "│ MLA3009003369 ┆ 1     │\n",
       "│ MLA6360218686 ┆ 1     │\n",
       "│ MLA2867543668 ┆ 1     │\n",
       "│ MLA1813108608 ┆ 1     │\n",
       "│ MLA9362703629 ┆ 1     │\n",
       "└───────────────┴───────┘"
      ]
     },
     "execution_count": 16,
     "metadata": {},
     "output_type": "execute_result"
    }
   ],
   "source": [
    "# Conteo de productos únicos\n",
    "df.group_by('product_id').agg(pl.count('product_id').alias('count')).sort('count', descending=True)"
   ]
  },
  {
   "cell_type": "code",
   "execution_count": 18,
   "metadata": {},
   "outputs": [
    {
     "data": {
      "text/html": [
       "<div><style>\n",
       ".dataframe > thead > tr,\n",
       ".dataframe > tbody > tr {\n",
       "  text-align: right;\n",
       "  white-space: pre-wrap;\n",
       "}\n",
       "</style>\n",
       "<small>shape: (16_128, 1)</small><table border=\"1\" class=\"dataframe\"><thead><tr><th>condition</th></tr><tr><td>str</td></tr></thead><tbody><tr><td>&quot;new&quot;</td></tr><tr><td>&quot;new&quot;</td></tr><tr><td>&quot;new&quot;</td></tr><tr><td>&quot;new&quot;</td></tr><tr><td>&quot;new&quot;</td></tr><tr><td>&hellip;</td></tr><tr><td>&quot;new&quot;</td></tr><tr><td>&quot;new&quot;</td></tr><tr><td>&quot;new&quot;</td></tr><tr><td>&quot;new&quot;</td></tr><tr><td>&quot;new&quot;</td></tr></tbody></table></div>"
      ],
      "text/plain": [
       "shape: (16_128, 1)\n",
       "┌───────────┐\n",
       "│ condition │\n",
       "│ ---       │\n",
       "│ str       │\n",
       "╞═══════════╡\n",
       "│ new       │\n",
       "│ new       │\n",
       "│ new       │\n",
       "│ new       │\n",
       "│ new       │\n",
       "│ …         │\n",
       "│ new       │\n",
       "│ new       │\n",
       "│ new       │\n",
       "│ new       │\n",
       "│ new       │\n",
       "└───────────┘"
      ]
     },
     "execution_count": 18,
     "metadata": {},
     "output_type": "execute_result"
    }
   ],
   "source": [
    "df.filter(pl.col('product_id') == 'MLA6356328214').select('condition')"
   ]
  },
  {
   "cell_type": "code",
   "execution_count": 19,
   "metadata": {},
   "outputs": [
    {
     "data": {
      "text/html": [
       "<div><style>\n",
       ".dataframe > thead > tr,\n",
       ".dataframe > tbody > tr {\n",
       "  text-align: right;\n",
       "  white-space: pre-wrap;\n",
       "}\n",
       "</style>\n",
       "<small>shape: (2_007_091, 4)</small><table border=\"1\" class=\"dataframe\"><thead><tr><th>shipping_methods</th><th>shipping_tags</th><th>var_picture_ids</th><th>coverage_areas</th></tr><tr><td>list[null]</td><td>list[str]</td><td>list[str]</td><td>list[null]</td></tr></thead><tbody><tr><td>[]</td><td>[]</td><td>null</td><td>[]</td></tr><tr><td>[]</td><td>[]</td><td>null</td><td>[]</td></tr><tr><td>[]</td><td>[]</td><td>null</td><td>[]</td></tr><tr><td>[]</td><td>[]</td><td>null</td><td>[]</td></tr><tr><td>[]</td><td>[]</td><td>null</td><td>[]</td></tr><tr><td>&hellip;</td><td>&hellip;</td><td>&hellip;</td><td>&hellip;</td></tr><tr><td>[]</td><td>[]</td><td>null</td><td>[]</td></tr><tr><td>[]</td><td>[]</td><td>null</td><td>[]</td></tr><tr><td>[]</td><td>[]</td><td>null</td><td>[]</td></tr><tr><td>[]</td><td>[]</td><td>null</td><td>[]</td></tr><tr><td>[]</td><td>[]</td><td>null</td><td>[]</td></tr></tbody></table></div>"
      ],
      "text/plain": [
       "shape: (2_007_091, 4)\n",
       "┌──────────────────┬───────────────┬─────────────────┬────────────────┐\n",
       "│ shipping_methods ┆ shipping_tags ┆ var_picture_ids ┆ coverage_areas │\n",
       "│ ---              ┆ ---           ┆ ---             ┆ ---            │\n",
       "│ list[null]       ┆ list[str]     ┆ list[str]       ┆ list[null]     │\n",
       "╞══════════════════╪═══════════════╪═════════════════╪════════════════╡\n",
       "│ []               ┆ []            ┆ null            ┆ []             │\n",
       "│ []               ┆ []            ┆ null            ┆ []             │\n",
       "│ []               ┆ []            ┆ null            ┆ []             │\n",
       "│ []               ┆ []            ┆ null            ┆ []             │\n",
       "│ []               ┆ []            ┆ null            ┆ []             │\n",
       "│ …                ┆ …             ┆ …               ┆ …              │\n",
       "│ []               ┆ []            ┆ null            ┆ []             │\n",
       "│ []               ┆ []            ┆ null            ┆ []             │\n",
       "│ []               ┆ []            ┆ null            ┆ []             │\n",
       "│ []               ┆ []            ┆ null            ┆ []             │\n",
       "│ []               ┆ []            ┆ null            ┆ []             │\n",
       "└──────────────────┴───────────────┴─────────────────┴────────────────┘"
      ]
     },
     "execution_count": 19,
     "metadata": {},
     "output_type": "execute_result"
    }
   ],
   "source": [
    "# Columnas de tipo list[str]\n",
    "df.select([col for col, dtype in df.schema.items() if dtype == pl.List])"
   ]
  },
  {
   "cell_type": "code",
   "execution_count": 20,
   "metadata": {},
   "outputs": [
    {
     "data": {
      "text/html": [
       "<div><style>\n",
       ".dataframe > thead > tr,\n",
       ".dataframe > tbody > tr {\n",
       "  text-align: right;\n",
       "  white-space: pre-wrap;\n",
       "}\n",
       "</style>\n",
       "<small>shape: (2_007_091, 6)</small><table border=\"1\" class=\"dataframe\"><thead><tr><th>attr_value_id</th><th>attr_attribute_group_id</th><th>attr_name</th><th>attr_value_name</th><th>attr_attribute_group_name</th><th>attr_id</th></tr><tr><td>str</td><td>str</td><td>str</td><td>str</td><td>str</td><td>str</td></tr></thead><tbody><tr><td>null</td><td>null</td><td>null</td><td>null</td><td>null</td><td>null</td></tr><tr><td>null</td><td>null</td><td>null</td><td>null</td><td>null</td><td>null</td></tr><tr><td>null</td><td>null</td><td>null</td><td>null</td><td>null</td><td>null</td></tr><tr><td>null</td><td>null</td><td>null</td><td>null</td><td>null</td><td>null</td></tr><tr><td>null</td><td>null</td><td>null</td><td>null</td><td>null</td><td>null</td></tr><tr><td>&hellip;</td><td>&hellip;</td><td>&hellip;</td><td>&hellip;</td><td>&hellip;</td><td>&hellip;</td></tr><tr><td>null</td><td>null</td><td>null</td><td>null</td><td>null</td><td>null</td></tr><tr><td>null</td><td>null</td><td>null</td><td>null</td><td>null</td><td>null</td></tr><tr><td>null</td><td>null</td><td>null</td><td>null</td><td>null</td><td>null</td></tr><tr><td>null</td><td>null</td><td>null</td><td>null</td><td>null</td><td>null</td></tr><tr><td>null</td><td>null</td><td>null</td><td>null</td><td>null</td><td>null</td></tr></tbody></table></div>"
      ],
      "text/plain": [
       "shape: (2_007_091, 6)\n",
       "┌───────────────┬─────────────────────┬───────────┬─────────────────┬────────────────────┬─────────┐\n",
       "│ attr_value_id ┆ attr_attribute_grou ┆ attr_name ┆ attr_value_name ┆ attr_attribute_gro ┆ attr_id │\n",
       "│ ---           ┆ p_id                ┆ ---       ┆ ---             ┆ up_name            ┆ ---     │\n",
       "│ str           ┆ ---                 ┆ str       ┆ str             ┆ ---                ┆ str     │\n",
       "│               ┆ str                 ┆           ┆                 ┆ str                ┆         │\n",
       "╞═══════════════╪═════════════════════╪═══════════╪═════════════════╪════════════════════╪═════════╡\n",
       "│ null          ┆ null                ┆ null      ┆ null            ┆ null               ┆ null    │\n",
       "│ null          ┆ null                ┆ null      ┆ null            ┆ null               ┆ null    │\n",
       "│ null          ┆ null                ┆ null      ┆ null            ┆ null               ┆ null    │\n",
       "│ null          ┆ null                ┆ null      ┆ null            ┆ null               ┆ null    │\n",
       "│ null          ┆ null                ┆ null      ┆ null            ┆ null               ┆ null    │\n",
       "│ …             ┆ …                   ┆ …         ┆ …               ┆ …                  ┆ …       │\n",
       "│ null          ┆ null                ┆ null      ┆ null            ┆ null               ┆ null    │\n",
       "│ null          ┆ null                ┆ null      ┆ null            ┆ null               ┆ null    │\n",
       "│ null          ┆ null                ┆ null      ┆ null            ┆ null               ┆ null    │\n",
       "│ null          ┆ null                ┆ null      ┆ null            ┆ null               ┆ null    │\n",
       "│ null          ┆ null                ┆ null      ┆ null            ┆ null               ┆ null    │\n",
       "└───────────────┴─────────────────────┴───────────┴─────────────────┴────────────────────┴─────────┘"
      ]
     },
     "execution_count": 20,
     "metadata": {},
     "output_type": "execute_result"
    }
   ],
   "source": [
    "# Columnas llamadas 'payment'\n",
    "df.select([col for col in df.columns if 'attr' in col])"
   ]
  }
 ],
 "metadata": {
  "kernelspec": {
   "display_name": "venv-meli-u7R8qZeO-py3.11",
   "language": "python",
   "name": "python3"
  },
  "language_info": {
   "codemirror_mode": {
    "name": "ipython",
    "version": 3
   },
   "file_extension": ".py",
   "mimetype": "text/x-python",
   "name": "python",
   "nbconvert_exporter": "python",
   "pygments_lexer": "ipython3",
   "version": "3.11.11"
  }
 },
 "nbformat": 4,
 "nbformat_minor": 2
}
